{
 "cells": [
  {
   "cell_type": "markdown",
   "id": "776b4772",
   "metadata": {
    "papermill": {
     "duration": 0.060025,
     "end_time": "2022-10-31T15:13:14.835193",
     "exception": false,
     "start_time": "2022-10-31T15:13:14.775168",
     "status": "completed"
    },
    "tags": []
   },
   "source": [
    "# GPA Analysis\n",
    "This code analyses the GPA of a group of students based on their specialisation, age, gender, school average, level, and branch at school\n",
    "\n",
    "Advance Special Topics in CS Course\n",
    "\n",
    "**Dr Mohammad Al-Azawi**"
   ]
  },
  {
   "cell_type": "markdown",
   "id": "2a96d84a",
   "metadata": {
    "papermill": {
     "duration": 0.06003,
     "end_time": "2022-10-31T15:13:14.952882",
     "exception": false,
     "start_time": "2022-10-31T15:13:14.892852",
     "status": "completed"
    },
    "tags": []
   },
   "source": [
    "# Get introduced to your data"
   ]
  },
  {
   "cell_type": "markdown",
   "id": "0842f1ba",
   "metadata": {
    "papermill": {
     "duration": 0.060989,
     "end_time": "2022-10-31T15:13:15.071343",
     "exception": false,
     "start_time": "2022-10-31T15:13:15.010354",
     "status": "completed"
    },
    "tags": []
   },
   "source": [
    "## Import the libraries and read the data file"
   ]
  },
  {
   "cell_type": "code",
   "execution_count": 1,
   "id": "81c8ed77",
   "metadata": {
    "execution": {
     "iopub.execute_input": "2022-10-31T15:13:15.197980Z",
     "iopub.status.busy": "2022-10-31T15:13:15.197236Z",
     "iopub.status.idle": "2022-10-31T15:13:16.931333Z",
     "shell.execute_reply": "2022-10-31T15:13:16.930447Z",
     "shell.execute_reply.started": "2022-10-31T15:08:59.256293Z"
    },
    "papermill": {
     "duration": 1.801968,
     "end_time": "2022-10-31T15:13:16.931575",
     "exception": false,
     "start_time": "2022-10-31T15:13:15.129607",
     "status": "completed"
    },
    "tags": []
   },
   "outputs": [
    {
     "data": {
      "text/html": [
       "<div>\n",
       "<style scoped>\n",
       "    .dataframe tbody tr th:only-of-type {\n",
       "        vertical-align: middle;\n",
       "    }\n",
       "\n",
       "    .dataframe tbody tr th {\n",
       "        vertical-align: top;\n",
       "    }\n",
       "\n",
       "    .dataframe thead th {\n",
       "        text-align: right;\n",
       "    }\n",
       "</style>\n",
       "<table border=\"1\" class=\"dataframe\">\n",
       "  <thead>\n",
       "    <tr style=\"text-align: right;\">\n",
       "      <th></th>\n",
       "      <th>Spec</th>\n",
       "      <th>Gender</th>\n",
       "      <th>St_Hr</th>\n",
       "      <th>School_AV</th>\n",
       "      <th>branch</th>\n",
       "      <th>level</th>\n",
       "      <th>Age</th>\n",
       "      <th>GPA</th>\n",
       "    </tr>\n",
       "  </thead>\n",
       "  <tbody>\n",
       "    <tr>\n",
       "      <th>0</th>\n",
       "      <td>CS</td>\n",
       "      <td>F</td>\n",
       "      <td>6</td>\n",
       "      <td>80</td>\n",
       "      <td>P</td>\n",
       "      <td>3</td>\n",
       "      <td>20.0</td>\n",
       "      <td>78</td>\n",
       "    </tr>\n",
       "    <tr>\n",
       "      <th>1</th>\n",
       "      <td>CS</td>\n",
       "      <td>F</td>\n",
       "      <td>7</td>\n",
       "      <td>82</td>\n",
       "      <td>P</td>\n",
       "      <td>4</td>\n",
       "      <td>22.0</td>\n",
       "      <td>73</td>\n",
       "    </tr>\n",
       "    <tr>\n",
       "      <th>2</th>\n",
       "      <td>CS</td>\n",
       "      <td>F</td>\n",
       "      <td>4</td>\n",
       "      <td>81</td>\n",
       "      <td>P</td>\n",
       "      <td>3</td>\n",
       "      <td>20.0</td>\n",
       "      <td>80</td>\n",
       "    </tr>\n",
       "    <tr>\n",
       "      <th>3</th>\n",
       "      <td>CS</td>\n",
       "      <td>M</td>\n",
       "      <td>3</td>\n",
       "      <td>75</td>\n",
       "      <td>P</td>\n",
       "      <td>3</td>\n",
       "      <td>22.0</td>\n",
       "      <td>67</td>\n",
       "    </tr>\n",
       "    <tr>\n",
       "      <th>4</th>\n",
       "      <td>CS</td>\n",
       "      <td>M</td>\n",
       "      <td>3</td>\n",
       "      <td>65</td>\n",
       "      <td>P</td>\n",
       "      <td>3</td>\n",
       "      <td>22.0</td>\n",
       "      <td>67</td>\n",
       "    </tr>\n",
       "  </tbody>\n",
       "</table>\n",
       "</div>"
      ],
      "text/plain": [
       "  Spec Gender  St_Hr  School_AV branch  level   Age  GPA\n",
       "0   CS      F      6         80      P      3  20.0   78\n",
       "1   CS      F      7         82      P      4  22.0   73\n",
       "2   CS      F      4         81      P      3  20.0   80\n",
       "3   CS      M      3         75      P      3  22.0   67\n",
       "4   CS      M      3         65      P      3  22.0   67"
      ]
     },
     "execution_count": 1,
     "metadata": {},
     "output_type": "execute_result"
    }
   ],
   "source": [
    " \n",
    "import pandas as pd\n",
    "import matplotlib.pyplot as plt\n",
    "\n",
    "df = pd.read_csv('GPA.csv')\n",
    "df.head()"
   ]
  },
  {
   "cell_type": "markdown",
   "id": "bc2bfb51",
   "metadata": {
    "papermill": {
     "duration": 0.060524,
     "end_time": "2022-10-31T15:13:17.049914",
     "exception": false,
     "start_time": "2022-10-31T15:13:16.989390",
     "status": "completed"
    },
    "tags": []
   },
   "source": [
    "## Describe the data"
   ]
  },
  {
   "cell_type": "code",
   "execution_count": 2,
   "id": "1a7766c2",
   "metadata": {
    "execution": {
     "iopub.execute_input": "2022-10-31T15:13:17.178661Z",
     "iopub.status.busy": "2022-10-31T15:13:17.169617Z",
     "iopub.status.idle": "2022-10-31T15:13:17.217239Z",
     "shell.execute_reply": "2022-10-31T15:13:17.216638Z",
     "shell.execute_reply.started": "2022-10-31T15:08:59.281709Z"
    },
    "papermill": {
     "duration": 0.10989,
     "end_time": "2022-10-31T15:13:17.217408",
     "exception": false,
     "start_time": "2022-10-31T15:13:17.107518",
     "status": "completed"
    },
    "tags": []
   },
   "outputs": [
    {
     "data": {
      "text/html": [
       "<div>\n",
       "<style scoped>\n",
       "    .dataframe tbody tr th:only-of-type {\n",
       "        vertical-align: middle;\n",
       "    }\n",
       "\n",
       "    .dataframe tbody tr th {\n",
       "        vertical-align: top;\n",
       "    }\n",
       "\n",
       "    .dataframe thead th {\n",
       "        text-align: right;\n",
       "    }\n",
       "</style>\n",
       "<table border=\"1\" class=\"dataframe\">\n",
       "  <thead>\n",
       "    <tr style=\"text-align: right;\">\n",
       "      <th></th>\n",
       "      <th>St_Hr</th>\n",
       "      <th>School_AV</th>\n",
       "      <th>level</th>\n",
       "      <th>Age</th>\n",
       "      <th>GPA</th>\n",
       "    </tr>\n",
       "  </thead>\n",
       "  <tbody>\n",
       "    <tr>\n",
       "      <th>count</th>\n",
       "      <td>76.000000</td>\n",
       "      <td>76.000000</td>\n",
       "      <td>76.000000</td>\n",
       "      <td>75.000000</td>\n",
       "      <td>76.000000</td>\n",
       "    </tr>\n",
       "    <tr>\n",
       "      <th>mean</th>\n",
       "      <td>4.789474</td>\n",
       "      <td>70.210526</td>\n",
       "      <td>2.736842</td>\n",
       "      <td>21.440000</td>\n",
       "      <td>78.631579</td>\n",
       "    </tr>\n",
       "    <tr>\n",
       "      <th>std</th>\n",
       "      <td>1.236293</td>\n",
       "      <td>8.282215</td>\n",
       "      <td>0.929063</td>\n",
       "      <td>1.718264</td>\n",
       "      <td>6.657011</td>\n",
       "    </tr>\n",
       "    <tr>\n",
       "      <th>min</th>\n",
       "      <td>3.000000</td>\n",
       "      <td>54.000000</td>\n",
       "      <td>1.000000</td>\n",
       "      <td>18.000000</td>\n",
       "      <td>60.000000</td>\n",
       "    </tr>\n",
       "    <tr>\n",
       "      <th>25%</th>\n",
       "      <td>4.000000</td>\n",
       "      <td>65.000000</td>\n",
       "      <td>2.000000</td>\n",
       "      <td>20.000000</td>\n",
       "      <td>75.000000</td>\n",
       "    </tr>\n",
       "    <tr>\n",
       "      <th>50%</th>\n",
       "      <td>5.000000</td>\n",
       "      <td>70.000000</td>\n",
       "      <td>3.000000</td>\n",
       "      <td>22.000000</td>\n",
       "      <td>80.000000</td>\n",
       "    </tr>\n",
       "    <tr>\n",
       "      <th>75%</th>\n",
       "      <td>6.000000</td>\n",
       "      <td>76.250000</td>\n",
       "      <td>3.000000</td>\n",
       "      <td>22.000000</td>\n",
       "      <td>82.000000</td>\n",
       "    </tr>\n",
       "    <tr>\n",
       "      <th>max</th>\n",
       "      <td>7.000000</td>\n",
       "      <td>89.000000</td>\n",
       "      <td>6.000000</td>\n",
       "      <td>26.000000</td>\n",
       "      <td>90.000000</td>\n",
       "    </tr>\n",
       "  </tbody>\n",
       "</table>\n",
       "</div>"
      ],
      "text/plain": [
       "           St_Hr  School_AV      level        Age        GPA\n",
       "count  76.000000  76.000000  76.000000  75.000000  76.000000\n",
       "mean    4.789474  70.210526   2.736842  21.440000  78.631579\n",
       "std     1.236293   8.282215   0.929063   1.718264   6.657011\n",
       "min     3.000000  54.000000   1.000000  18.000000  60.000000\n",
       "25%     4.000000  65.000000   2.000000  20.000000  75.000000\n",
       "50%     5.000000  70.000000   3.000000  22.000000  80.000000\n",
       "75%     6.000000  76.250000   3.000000  22.000000  82.000000\n",
       "max     7.000000  89.000000   6.000000  26.000000  90.000000"
      ]
     },
     "execution_count": 2,
     "metadata": {},
     "output_type": "execute_result"
    }
   ],
   "source": [
    "df.describe()"
   ]
  },
  {
   "cell_type": "markdown",
   "id": "cc1715cb",
   "metadata": {
    "papermill": {
     "duration": 0.059621,
     "end_time": "2022-10-31T15:13:17.338353",
     "exception": false,
     "start_time": "2022-10-31T15:13:17.278732",
     "status": "completed"
    },
    "tags": []
   },
   "source": [
    "## More information\n"
   ]
  },
  {
   "cell_type": "code",
   "execution_count": 3,
   "id": "a2060d36",
   "metadata": {
    "execution": {
     "iopub.execute_input": "2022-10-31T15:13:17.479471Z",
     "iopub.status.busy": "2022-10-31T15:13:17.478281Z",
     "iopub.status.idle": "2022-10-31T15:13:17.482189Z",
     "shell.execute_reply": "2022-10-31T15:13:17.482736Z",
     "shell.execute_reply.started": "2022-10-31T15:08:59.320322Z"
    },
    "papermill": {
     "duration": 0.084265,
     "end_time": "2022-10-31T15:13:17.482949",
     "exception": false,
     "start_time": "2022-10-31T15:13:17.398684",
     "status": "completed"
    },
    "tags": []
   },
   "outputs": [
    {
     "name": "stdout",
     "output_type": "stream",
     "text": [
      "<class 'pandas.core.frame.DataFrame'>\n",
      "RangeIndex: 76 entries, 0 to 75\n",
      "Data columns (total 8 columns):\n",
      " #   Column     Non-Null Count  Dtype  \n",
      "---  ------     --------------  -----  \n",
      " 0   Spec       76 non-null     object \n",
      " 1   Gender     75 non-null     object \n",
      " 2   St_Hr      76 non-null     int64  \n",
      " 3   School_AV  76 non-null     int64  \n",
      " 4   branch     76 non-null     object \n",
      " 5   level      76 non-null     int64  \n",
      " 6   Age        75 non-null     float64\n",
      " 7   GPA        76 non-null     int64  \n",
      "dtypes: float64(1), int64(4), object(3)\n",
      "memory usage: 4.9+ KB\n"
     ]
    }
   ],
   "source": [
    "df.info()"
   ]
  },
  {
   "cell_type": "markdown",
   "id": "aed9b1be",
   "metadata": {
    "papermill": {
     "duration": 0.058934,
     "end_time": "2022-10-31T15:13:17.601693",
     "exception": false,
     "start_time": "2022-10-31T15:13:17.542759",
     "status": "completed"
    },
    "tags": []
   },
   "source": [
    "# Check for Duplicated rows\n"
   ]
  },
  {
   "cell_type": "markdown",
   "id": "22362e18",
   "metadata": {
    "papermill": {
     "duration": 0.057893,
     "end_time": "2022-10-31T15:13:17.719462",
     "exception": false,
     "start_time": "2022-10-31T15:13:17.661569",
     "status": "completed"
    },
    "tags": []
   },
   "source": [
    "## df.duplicated()\n",
    "This will returns a series which contains (True, False) values. if the row is doublicated it returns True, and False otherwise."
   ]
  },
  {
   "cell_type": "code",
   "execution_count": 4,
   "id": "1ae37087",
   "metadata": {
    "execution": {
     "iopub.execute_input": "2022-10-31T15:13:17.851060Z",
     "iopub.status.busy": "2022-10-31T15:13:17.849961Z",
     "iopub.status.idle": "2022-10-31T15:13:17.854793Z",
     "shell.execute_reply": "2022-10-31T15:13:17.854077Z",
     "shell.execute_reply.started": "2022-10-31T15:08:59.339778Z"
    },
    "papermill": {
     "duration": 0.077271,
     "end_time": "2022-10-31T15:13:17.854975",
     "exception": false,
     "start_time": "2022-10-31T15:13:17.777704",
     "status": "completed"
    },
    "tags": []
   },
   "outputs": [
    {
     "data": {
      "text/plain": [
       "0    False\n",
       "1    False\n",
       "2    False\n",
       "3    False\n",
       "4    False\n",
       "dtype: bool"
      ]
     },
     "execution_count": 4,
     "metadata": {},
     "output_type": "execute_result"
    }
   ],
   "source": [
    "temp = df.duplicated()\n",
    "temp.head()"
   ]
  },
  {
   "cell_type": "code",
   "execution_count": 6,
   "id": "f71fc9c9",
   "metadata": {
    "execution": {
     "iopub.execute_input": "2022-10-31T15:13:17.986367Z",
     "iopub.status.busy": "2022-10-31T15:13:17.985634Z",
     "iopub.status.idle": "2022-10-31T15:13:17.997971Z",
     "shell.execute_reply": "2022-10-31T15:13:17.998578Z",
     "shell.execute_reply.started": "2022-10-31T15:08:59.353841Z"
    },
    "papermill": {
     "duration": 0.082958,
     "end_time": "2022-10-31T15:13:17.998796",
     "exception": false,
     "start_time": "2022-10-31T15:13:17.915838",
     "status": "completed"
    },
    "tags": []
   },
   "outputs": [
    {
     "data": {
      "text/html": [
       "<div>\n",
       "<style scoped>\n",
       "    .dataframe tbody tr th:only-of-type {\n",
       "        vertical-align: middle;\n",
       "    }\n",
       "\n",
       "    .dataframe tbody tr th {\n",
       "        vertical-align: top;\n",
       "    }\n",
       "\n",
       "    .dataframe thead th {\n",
       "        text-align: right;\n",
       "    }\n",
       "</style>\n",
       "<table border=\"1\" class=\"dataframe\">\n",
       "  <thead>\n",
       "    <tr style=\"text-align: right;\">\n",
       "      <th></th>\n",
       "      <th>Spec</th>\n",
       "      <th>Gender</th>\n",
       "      <th>St_Hr</th>\n",
       "      <th>School_AV</th>\n",
       "      <th>branch</th>\n",
       "      <th>level</th>\n",
       "      <th>Age</th>\n",
       "      <th>GPA</th>\n",
       "    </tr>\n",
       "  </thead>\n",
       "  <tbody>\n",
       "    <tr>\n",
       "      <th>14</th>\n",
       "      <td>MIS</td>\n",
       "      <td>F</td>\n",
       "      <td>5</td>\n",
       "      <td>76</td>\n",
       "      <td>P</td>\n",
       "      <td>3</td>\n",
       "      <td>22.0</td>\n",
       "      <td>81</td>\n",
       "    </tr>\n",
       "    <tr>\n",
       "      <th>63</th>\n",
       "      <td>BA</td>\n",
       "      <td>M</td>\n",
       "      <td>4</td>\n",
       "      <td>66</td>\n",
       "      <td>A</td>\n",
       "      <td>3</td>\n",
       "      <td>22.0</td>\n",
       "      <td>82</td>\n",
       "    </tr>\n",
       "    <tr>\n",
       "      <th>73</th>\n",
       "      <td>ACC</td>\n",
       "      <td>F</td>\n",
       "      <td>6</td>\n",
       "      <td>67</td>\n",
       "      <td>A</td>\n",
       "      <td>4</td>\n",
       "      <td>22.0</td>\n",
       "      <td>82</td>\n",
       "    </tr>\n",
       "  </tbody>\n",
       "</table>\n",
       "</div>"
      ],
      "text/plain": [
       "   Spec Gender  St_Hr  School_AV branch  level   Age  GPA\n",
       "14  MIS      F      5         76      P      3  22.0   81\n",
       "63   BA      M      4         66      A      3  22.0   82\n",
       "73  ACC      F      6         67      A      4  22.0   82"
      ]
     },
     "execution_count": 6,
     "metadata": {},
     "output_type": "execute_result"
    }
   ],
   "source": [
    "df[df.duplicated()]"
   ]
  },
  {
   "cell_type": "markdown",
   "id": "133b81cd",
   "metadata": {
    "papermill": {
     "duration": 0.059151,
     "end_time": "2022-10-31T15:13:18.117507",
     "exception": false,
     "start_time": "2022-10-31T15:13:18.058356",
     "status": "completed"
    },
    "tags": []
   },
   "source": [
    "## To specify the number of redundant rows we use:\n",
    "df.duplicated().sum()"
   ]
  },
  {
   "cell_type": "code",
   "execution_count": 7,
   "id": "b926471a",
   "metadata": {
    "execution": {
     "iopub.execute_input": "2022-10-31T15:13:18.245053Z",
     "iopub.status.busy": "2022-10-31T15:13:18.244301Z",
     "iopub.status.idle": "2022-10-31T15:13:18.251181Z",
     "shell.execute_reply": "2022-10-31T15:13:18.251752Z",
     "shell.execute_reply.started": "2022-10-31T15:08:59.375757Z"
    },
    "papermill": {
     "duration": 0.070608,
     "end_time": "2022-10-31T15:13:18.251970",
     "exception": false,
     "start_time": "2022-10-31T15:13:18.181362",
     "status": "completed"
    },
    "tags": []
   },
   "outputs": [
    {
     "data": {
      "text/plain": [
       "3"
      ]
     },
     "execution_count": 7,
     "metadata": {},
     "output_type": "execute_result"
    }
   ],
   "source": [
    "df.duplicated().sum()"
   ]
  },
  {
   "cell_type": "markdown",
   "id": "3ce45530",
   "metadata": {
    "papermill": {
     "duration": 0.067283,
     "end_time": "2022-10-31T15:13:18.381912",
     "exception": false,
     "start_time": "2022-10-31T15:13:18.314629",
     "status": "completed"
    },
    "tags": []
   },
   "source": [
    "## Drop the redundant rows and keep one only\n",
    "hint: to consider the rows similar all the values of the columns must be the same"
   ]
  },
  {
   "cell_type": "code",
   "execution_count": 8,
   "id": "63bb54a2",
   "metadata": {
    "execution": {
     "iopub.execute_input": "2022-10-31T15:13:18.534189Z",
     "iopub.status.busy": "2022-10-31T15:13:18.533359Z",
     "iopub.status.idle": "2022-10-31T15:13:18.541233Z",
     "shell.execute_reply": "2022-10-31T15:13:18.541910Z",
     "shell.execute_reply.started": "2022-10-31T15:08:59.390257Z"
    },
    "papermill": {
     "duration": 0.076149,
     "end_time": "2022-10-31T15:13:18.542158",
     "exception": false,
     "start_time": "2022-10-31T15:13:18.466009",
     "status": "completed"
    },
    "tags": []
   },
   "outputs": [],
   "source": [
    "df.drop_duplicates(inplace = True)"
   ]
  },
  {
   "cell_type": "code",
   "execution_count": 9,
   "id": "9cbe4d38",
   "metadata": {
    "execution": {
     "iopub.execute_input": "2022-10-31T15:13:18.681487Z",
     "iopub.status.busy": "2022-10-31T15:13:18.680473Z",
     "iopub.status.idle": "2022-10-31T15:13:18.693355Z",
     "shell.execute_reply": "2022-10-31T15:13:18.694130Z",
     "shell.execute_reply.started": "2022-10-31T15:08:59.405816Z"
    },
    "papermill": {
     "duration": 0.081501,
     "end_time": "2022-10-31T15:13:18.694383",
     "exception": false,
     "start_time": "2022-10-31T15:13:18.612882",
     "status": "completed"
    },
    "tags": []
   },
   "outputs": [
    {
     "data": {
      "text/plain": [
       "0"
      ]
     },
     "execution_count": 9,
     "metadata": {},
     "output_type": "execute_result"
    }
   ],
   "source": [
    "df.duplicated().sum()"
   ]
  },
  {
   "cell_type": "code",
   "execution_count": 10,
   "id": "66dff081",
   "metadata": {
    "execution": {
     "iopub.execute_input": "2022-10-31T15:13:18.837951Z",
     "iopub.status.busy": "2022-10-31T15:13:18.836946Z",
     "iopub.status.idle": "2022-10-31T15:13:18.852245Z",
     "shell.execute_reply": "2022-10-31T15:13:18.852802Z",
     "shell.execute_reply.started": "2022-10-31T15:08:59.420182Z"
    },
    "papermill": {
     "duration": 0.090272,
     "end_time": "2022-10-31T15:13:18.853024",
     "exception": false,
     "start_time": "2022-10-31T15:13:18.762752",
     "status": "completed"
    },
    "tags": []
   },
   "outputs": [
    {
     "name": "stdout",
     "output_type": "stream",
     "text": [
      "<class 'pandas.core.frame.DataFrame'>\n",
      "Index: 73 entries, 0 to 75\n",
      "Data columns (total 8 columns):\n",
      " #   Column     Non-Null Count  Dtype  \n",
      "---  ------     --------------  -----  \n",
      " 0   Spec       73 non-null     object \n",
      " 1   Gender     72 non-null     object \n",
      " 2   St_Hr      73 non-null     int64  \n",
      " 3   School_AV  73 non-null     int64  \n",
      " 4   branch     73 non-null     object \n",
      " 5   level      73 non-null     int64  \n",
      " 6   Age        72 non-null     float64\n",
      " 7   GPA        73 non-null     int64  \n",
      "dtypes: float64(1), int64(4), object(3)\n",
      "memory usage: 5.1+ KB\n"
     ]
    }
   ],
   "source": [
    "df.info()"
   ]
  },
  {
   "cell_type": "markdown",
   "id": "dba9bfaa",
   "metadata": {
    "papermill": {
     "duration": 0.060494,
     "end_time": "2022-10-31T15:13:18.975251",
     "exception": false,
     "start_time": "2022-10-31T15:13:18.914757",
     "status": "completed"
    },
    "tags": []
   },
   "source": [
    "# Check for NULL, NaN or missing values"
   ]
  },
  {
   "cell_type": "markdown",
   "id": "af4c1170",
   "metadata": {
    "papermill": {
     "duration": 0.061459,
     "end_time": "2022-10-31T15:13:19.097963",
     "exception": false,
     "start_time": "2022-10-31T15:13:19.036504",
     "status": "completed"
    },
    "tags": []
   },
   "source": [
    "## isna()\n",
    "this returns a series of True or False, if the row has NaN value it returns True otherwise it returns False. To find the number of rows with null values in each feature, you need to use \n",
    "## df.isna().sum()"
   ]
  },
  {
   "cell_type": "code",
   "execution_count": 11,
   "id": "85a34468",
   "metadata": {
    "execution": {
     "iopub.execute_input": "2022-10-31T15:13:19.224478Z",
     "iopub.status.busy": "2022-10-31T15:13:19.223490Z",
     "iopub.status.idle": "2022-10-31T15:13:19.238371Z",
     "shell.execute_reply": "2022-10-31T15:13:19.239259Z",
     "shell.execute_reply.started": "2022-10-31T15:08:59.440804Z"
    },
    "papermill": {
     "duration": 0.080774,
     "end_time": "2022-10-31T15:13:19.239503",
     "exception": false,
     "start_time": "2022-10-31T15:13:19.158729",
     "status": "completed"
    },
    "tags": []
   },
   "outputs": [
    {
     "data": {
      "text/html": [
       "<div>\n",
       "<style scoped>\n",
       "    .dataframe tbody tr th:only-of-type {\n",
       "        vertical-align: middle;\n",
       "    }\n",
       "\n",
       "    .dataframe tbody tr th {\n",
       "        vertical-align: top;\n",
       "    }\n",
       "\n",
       "    .dataframe thead th {\n",
       "        text-align: right;\n",
       "    }\n",
       "</style>\n",
       "<table border=\"1\" class=\"dataframe\">\n",
       "  <thead>\n",
       "    <tr style=\"text-align: right;\">\n",
       "      <th></th>\n",
       "      <th>Spec</th>\n",
       "      <th>Gender</th>\n",
       "      <th>St_Hr</th>\n",
       "      <th>School_AV</th>\n",
       "      <th>branch</th>\n",
       "      <th>level</th>\n",
       "      <th>Age</th>\n",
       "      <th>GPA</th>\n",
       "    </tr>\n",
       "  </thead>\n",
       "  <tbody>\n",
       "    <tr>\n",
       "      <th>0</th>\n",
       "      <td>False</td>\n",
       "      <td>False</td>\n",
       "      <td>False</td>\n",
       "      <td>False</td>\n",
       "      <td>False</td>\n",
       "      <td>False</td>\n",
       "      <td>False</td>\n",
       "      <td>False</td>\n",
       "    </tr>\n",
       "    <tr>\n",
       "      <th>1</th>\n",
       "      <td>False</td>\n",
       "      <td>False</td>\n",
       "      <td>False</td>\n",
       "      <td>False</td>\n",
       "      <td>False</td>\n",
       "      <td>False</td>\n",
       "      <td>False</td>\n",
       "      <td>False</td>\n",
       "    </tr>\n",
       "    <tr>\n",
       "      <th>2</th>\n",
       "      <td>False</td>\n",
       "      <td>False</td>\n",
       "      <td>False</td>\n",
       "      <td>False</td>\n",
       "      <td>False</td>\n",
       "      <td>False</td>\n",
       "      <td>False</td>\n",
       "      <td>False</td>\n",
       "    </tr>\n",
       "    <tr>\n",
       "      <th>3</th>\n",
       "      <td>False</td>\n",
       "      <td>False</td>\n",
       "      <td>False</td>\n",
       "      <td>False</td>\n",
       "      <td>False</td>\n",
       "      <td>False</td>\n",
       "      <td>False</td>\n",
       "      <td>False</td>\n",
       "    </tr>\n",
       "    <tr>\n",
       "      <th>4</th>\n",
       "      <td>False</td>\n",
       "      <td>False</td>\n",
       "      <td>False</td>\n",
       "      <td>False</td>\n",
       "      <td>False</td>\n",
       "      <td>False</td>\n",
       "      <td>False</td>\n",
       "      <td>False</td>\n",
       "    </tr>\n",
       "  </tbody>\n",
       "</table>\n",
       "</div>"
      ],
      "text/plain": [
       "    Spec  Gender  St_Hr  School_AV  branch  level    Age    GPA\n",
       "0  False   False  False      False   False  False  False  False\n",
       "1  False   False  False      False   False  False  False  False\n",
       "2  False   False  False      False   False  False  False  False\n",
       "3  False   False  False      False   False  False  False  False\n",
       "4  False   False  False      False   False  False  False  False"
      ]
     },
     "execution_count": 11,
     "metadata": {},
     "output_type": "execute_result"
    }
   ],
   "source": [
    "temp = df.isna()\n",
    "temp.head()"
   ]
  },
  {
   "cell_type": "code",
   "execution_count": 12,
   "id": "369ae40e",
   "metadata": {
    "execution": {
     "iopub.execute_input": "2022-10-31T15:13:19.374968Z",
     "iopub.status.busy": "2022-10-31T15:13:19.374213Z",
     "iopub.status.idle": "2022-10-31T15:13:19.378408Z",
     "shell.execute_reply": "2022-10-31T15:13:19.377905Z",
     "shell.execute_reply.started": "2022-10-31T15:08:59.464759Z"
    },
    "papermill": {
     "duration": 0.075958,
     "end_time": "2022-10-31T15:13:19.378576",
     "exception": false,
     "start_time": "2022-10-31T15:13:19.302618",
     "status": "completed"
    },
    "tags": []
   },
   "outputs": [
    {
     "data": {
      "text/plain": [
       "Spec         0\n",
       "Gender       1\n",
       "St_Hr        0\n",
       "School_AV    0\n",
       "branch       0\n",
       "level        0\n",
       "Age          1\n",
       "GPA          0\n",
       "dtype: int64"
      ]
     },
     "execution_count": 12,
     "metadata": {},
     "output_type": "execute_result"
    }
   ],
   "source": [
    "df.isna().sum()"
   ]
  },
  {
   "cell_type": "markdown",
   "id": "34a99958",
   "metadata": {
    "papermill": {
     "duration": 0.061217,
     "end_time": "2022-10-31T15:13:19.502155",
     "exception": false,
     "start_time": "2022-10-31T15:13:19.440938",
     "status": "completed"
    },
    "tags": []
   },
   "source": [
    "from the result above it is clear that there are some Na values:\n",
    "1 value is missing in the Gender\n",
    "1 value is missing in the School_Av\n",
    "4 Valuses are missing in the Age"
   ]
  },
  {
   "cell_type": "markdown",
   "id": "0dc3cb0d",
   "metadata": {
    "papermill": {
     "duration": 0.061131,
     "end_time": "2022-10-31T15:13:19.625419",
     "exception": false,
     "start_time": "2022-10-31T15:13:19.564288",
     "status": "completed"
    },
    "tags": []
   },
   "source": [
    "## Droping the rows with missing values\n",
    "one of the method which must be used carefully is droping the rows with missing values\n",
    "this method is not recommended always and can be used in certain cases only\n",
    "this can be done using the instruction:\n",
    "\n",
    "df.drop_duplicates(inplace = True)"
   ]
  },
  {
   "cell_type": "code",
   "execution_count": 16,
   "metadata": {},
   "outputs": [],
   "source": [
    "df.drop_duplicates(inplace = True)"
   ]
  },
  {
   "cell_type": "markdown",
   "id": "0bcb785c",
   "metadata": {
    "papermill": {
     "duration": 0.060175,
     "end_time": "2022-10-31T15:13:19.746561",
     "exception": false,
     "start_time": "2022-10-31T15:13:19.686386",
     "status": "completed"
    },
    "tags": []
   },
   "source": [
    "## Replacing the missing values with constant value, Mean, Median, or Mode\n"
   ]
  },
  {
   "cell_type": "markdown",
   "id": "1a930875",
   "metadata": {
    "papermill": {
     "duration": 0.060704,
     "end_time": "2022-10-31T15:13:19.867703",
     "exception": false,
     "start_time": "2022-10-31T15:13:19.806999",
     "status": "completed"
    },
    "tags": []
   },
   "source": [
    "### Replcaing with constant value\n",
    "it is possible to replace the missing value with constant value in some cases such as replacing the Missing value in the gender with Male ot Female, but this if we are somehow certain of the gender otherwise it is not recommended. Instead we need to use other approaches."
   ]
  },
  {
   "cell_type": "code",
   "execution_count": 17,
   "id": "5ca9c4d3",
   "metadata": {
    "execution": {
     "iopub.execute_input": "2022-10-31T15:13:23.878449Z",
     "iopub.status.busy": "2022-10-31T15:13:23.877319Z",
     "iopub.status.idle": "2022-10-31T15:13:23.881610Z",
     "shell.execute_reply": "2022-10-31T15:13:23.882087Z",
     "shell.execute_reply.started": "2022-10-31T15:08:59.788883Z"
    },
    "papermill": {
     "duration": 0.084697,
     "end_time": "2022-10-31T15:13:23.882301",
     "exception": false,
     "start_time": "2022-10-31T15:13:23.797604",
     "status": "completed"
    },
    "tags": []
   },
   "outputs": [
    {
     "data": {
      "text/plain": [
       "Spec         0\n",
       "Gender       1\n",
       "St_Hr        0\n",
       "School_AV    0\n",
       "branch       0\n",
       "level        0\n",
       "Age          1\n",
       "GPA          0\n",
       "dtype: int64"
      ]
     },
     "execution_count": 17,
     "metadata": {},
     "output_type": "execute_result"
    }
   ],
   "source": [
    "df.isna().sum()"
   ]
  },
  {
   "cell_type": "code",
   "execution_count": 18,
   "id": "464c331b",
   "metadata": {
    "execution": {
     "iopub.execute_input": "2022-10-31T15:13:25.156679Z",
     "iopub.status.busy": "2022-10-31T15:13:25.155579Z",
     "iopub.status.idle": "2022-10-31T15:13:25.478646Z",
     "shell.execute_reply": "2022-10-31T15:13:25.478090Z",
     "shell.execute_reply.started": "2022-10-31T15:08:59.890438Z"
    },
    "papermill": {
     "duration": 0.415728,
     "end_time": "2022-10-31T15:13:25.478802",
     "exception": false,
     "start_time": "2022-10-31T15:13:25.063074",
     "status": "completed"
    },
    "tags": []
   },
   "outputs": [
    {
     "data": {
      "image/png": "[encoded data removed]",
      "text/plain": [
       "<Figure size 640x480 with 1 Axes>"
      ]
     },
     "metadata": {},
     "output_type": "display_data"
    }
   ],
   "source": [
    "import matplotlib.pyplot as plt\n",
    "x = df['Spec']\n",
    "y = df['GPA']\n",
    "plt.bar(x, y)\n",
    "plt.show()"
   ]
  },
  {
   "cell_type": "code",
   "execution_count": 19,
   "id": "ad6b784b",
   "metadata": {
    "execution": {
     "iopub.execute_input": "2022-10-31T15:13:25.631339Z",
     "iopub.status.busy": "2022-10-31T15:13:25.630565Z",
     "iopub.status.idle": "2022-10-31T15:13:25.830973Z",
     "shell.execute_reply": "2022-10-31T15:13:25.830280Z",
     "shell.execute_reply.started": "2022-10-31T15:09:00.219747Z"
    },
    "papermill": {
     "duration": 0.277783,
     "end_time": "2022-10-31T15:13:25.831138",
     "exception": false,
     "start_time": "2022-10-31T15:13:25.553355",
     "status": "completed"
    },
    "tags": []
   },
   "outputs": [
    {
     "data": {
      "image/png": "[encoded data removed]",
      "text/plain": [
       "<Figure size 640x480 with 1 Axes>"
      ]
     },
     "metadata": {},
     "output_type": "display_data"
    }
   ],
   "source": [
    "x = df['Spec']\n",
    "y = df['GPA']\n",
    "plt.scatter(x, y)\n",
    "plt.show()"
   ]
  }
 ],
 "metadata": {
  "kernelspec": {
   "display_name": "Python 3",
   "language": "python",
   "name": "python3"
  },
  "language_info": {
   "codemirror_mode": {
    "name": "ipython",
    "version": 3
   },
   "file_extension": ".py",
   "mimetype": "text/x-python",
   "name": "python",
   "nbconvert_exporter": "python",
   "pygments_lexer": "ipython3",
   "version": "3.12.0"
  },
  "papermill": {
   "default_parameters": {},
   "duration": 27.890173,
   "end_time": "2022-10-31T15:13:31.206330",
   "environment_variables": {},
   "exception": null,
   "input_path": "__notebook__.ipynb",
   "output_path": "__notebook__.ipynb",
   "parameters": {},
   "start_time": "2022-10-31T15:13:03.316157",
   "version": "2.3.3"
  }
 },
 "nbformat": 4,
 "nbformat_minor": 5
}
