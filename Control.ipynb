{
 "cells": [
  {
   "cell_type": "markdown",
   "metadata": {},
   "source": [
    "### write a programme that checks if a number is +, -, or zero"
   ]
  },
  {
   "cell_type": "code",
   "execution_count": 3,
   "metadata": {},
   "outputs": [
    {
     "name": "stdout",
     "output_type": "stream",
     "text": [
      "The number  0  is zero\n"
     ]
    }
   ],
   "source": [
    "x = input(\"Enter a Number: \")\n",
    "x = int(x)\n",
    "if x > 0:\n",
    "    print (\"The number \", x , \" is positive\")\n",
    "elif x < 0:\n",
    "    print (\"The number \", x , \" is Negative\")\n",
    "else:\n",
    "    print (\"The number \", x , \" is zero\")"
   ]
  },
  {
   "cell_type": "markdown",
   "metadata": {},
   "source": [
    "### Write a programme that checks if a number is divisible by 7"
   ]
  },
  {
   "cell_type": "code",
   "execution_count": 5,
   "metadata": {},
   "outputs": [
    {
     "name": "stdout",
     "output_type": "stream",
     "text": [
      "The number  20  is NOT  divisible by 7\n"
     ]
    }
   ],
   "source": [
    "x = input(\"Enter a Number: \")\n",
    "x = int(x)\n",
    "if x%7 == 0:\n",
    "    print (\"The number \", x , \" is divisible by 7\")\n",
    "else:\n",
    "    print (\"The number \", x , \" is NOT  divisible by 7\")"
   ]
  },
  {
   "cell_type": "markdown",
   "metadata": {},
   "source": [
    "### Write a programme that counts from 100 to 120"
   ]
  },
  {
   "cell_type": "code",
   "execution_count": 7,
   "metadata": {},
   "outputs": [
    {
     "name": "stdout",
     "output_type": "stream",
     "text": [
      "100, 101, 102, 103, 104, 105, 106, 107, 108, 109, 110, 111, 112, 113, 114, 115, 116, 117, 118, 119, 120, "
     ]
    }
   ],
   "source": [
    "for i in range(100, 121):\n",
    "    print (i, end = \", \")"
   ]
  },
  {
   "cell_type": "markdown",
   "metadata": {},
   "source": [
    "### Write a prgramme that prints the EVEN numbers between 100 and 70"
   ]
  },
  {
   "cell_type": "code",
   "execution_count": 11,
   "metadata": {},
   "outputs": [
    {
     "name": "stdout",
     "output_type": "stream",
     "text": [
      "100, 98, 96, 94, 92, 90, 88, 86, 84, 82, 80, 78, 76, 74, 72, 70, "
     ]
    }
   ],
   "source": [
    "for i in range(100, 69, -2):\n",
    "    print (i, end = \", \")"
   ]
  },
  {
   "cell_type": "markdown",
   "metadata": {},
   "source": [
    "### Write a programme that counts the sequence 2, 4, 8 ...40"
   ]
  },
  {
   "cell_type": "code",
   "execution_count": 17,
   "metadata": {},
   "outputs": [
    {
     "name": "stdout",
     "output_type": "stream",
     "text": [
      "2,  4,  8,  16,  32,  "
     ]
    }
   ],
   "source": [
    "x = 2\n",
    "while (x<=40):\n",
    "    print (x, end=\",  \")\n",
    "    x = x*2\n",
    "    "
   ]
  },
  {
   "cell_type": "markdown",
   "metadata": {},
   "source": [
    "### write a programme that reads the marks of unkown number of students and prints them. The prgramme stops execution when the user enters negative number"
   ]
  },
  {
   "cell_type": "code",
   "execution_count": 4,
   "metadata": {},
   "outputs": [
    {
     "name": "stdout",
     "output_type": "stream",
     "text": [
      "The mark is:  12\n",
      "The mark is:  20\n",
      "The mark is:  85\n",
      "The mark is:  -1\n"
     ]
    }
   ],
   "source": [
    "x = 1\n",
    "while x >0:\n",
    "    x = int (input (\"Enter a mark: \"))\n",
    "    print (\"The mark is: \", x)"
   ]
  }
 ],
 "metadata": {
  "kernelspec": {
   "display_name": "Python 3",
   "language": "python",
   "name": "python3"
  },
  "language_info": {
   "codemirror_mode": {
    "name": "ipython",
    "version": 3
   },
   "file_extension": ".py",
   "mimetype": "text/x-python",
   "name": "python",
   "nbconvert_exporter": "python",
   "pygments_lexer": "ipython3",
   "version": "3.10.8"
  }
 },
 "nbformat": 4,
 "nbformat_minor": 2
}
