{
 "cells": [
  {
   "cell_type": "markdown",
   "id": "776b4772",
   "metadata": {
    "papermill": {
     "duration": 0.060025,
     "end_time": "2022-10-31T15:13:14.835193",
     "exception": false,
     "start_time": "2022-10-31T15:13:14.775168",
     "status": "completed"
    },
    "tags": []
   },
   "source": [
    "# GPA Analysis\n",
    "This code analyses the GPA of a group of students based on their specialisation, age, gender, school average, level, and branch at school\n",
    "\n",
    "Advance Special Topics in CS Course\n",
    "\n",
    "**Dr Mohammad Al-Azawi**"
   ]
  },
  {
   "cell_type": "markdown",
   "id": "2a96d84a",
   "metadata": {
    "papermill": {
     "duration": 0.06003,
     "end_time": "2022-10-31T15:13:14.952882",
     "exception": false,
     "start_time": "2022-10-31T15:13:14.892852",
     "status": "completed"
    },
    "tags": []
   },
   "source": [
    "# Get introduced to your data"
   ]
  },
  {
   "cell_type": "markdown",
   "id": "0842f1ba",
   "metadata": {
    "papermill": {
     "duration": 0.060989,
     "end_time": "2022-10-31T15:13:15.071343",
     "exception": false,
     "start_time": "2022-10-31T15:13:15.010354",
     "status": "completed"
    },
    "tags": []
   },
   "source": [
    "## Import the libraries and read the data file"
   ]
  },
  {
   "cell_type": "code",
   "execution_count": 1,
   "id": "81c8ed77",
   "metadata": {
    "execution": {
     "iopub.execute_input": "2022-10-31T15:13:15.197980Z",
     "iopub.status.busy": "2022-10-31T15:13:15.197236Z",
     "iopub.status.idle": "2022-10-31T15:13:16.931333Z",
     "shell.execute_reply": "2022-10-31T15:13:16.930447Z",
     "shell.execute_reply.started": "2022-10-31T15:08:59.256293Z"
    },
    "papermill": {
     "duration": 1.801968,
     "end_time": "2022-10-31T15:13:16.931575",
     "exception": false,
     "start_time": "2022-10-31T15:13:15.129607",
     "status": "completed"
    },
    "tags": []
   },
   "outputs": [
    {
     "data": {
      "text/html": [
       "<div>\n",
       "<style scoped>\n",
       "    .dataframe tbody tr th:only-of-type {\n",
       "        vertical-align: middle;\n",
       "    }\n",
       "\n",
       "    .dataframe tbody tr th {\n",
       "        vertical-align: top;\n",
       "    }\n",
       "\n",
       "    .dataframe thead th {\n",
       "        text-align: right;\n",
       "    }\n",
       "</style>\n",
       "<table border=\"1\" class=\"dataframe\">\n",
       "  <thead>\n",
       "    <tr style=\"text-align: right;\">\n",
       "      <th></th>\n",
       "      <th>Spec</th>\n",
       "      <th>Gender</th>\n",
       "      <th>St_Hr</th>\n",
       "      <th>School_AV</th>\n",
       "      <th>branch</th>\n",
       "      <th>level</th>\n",
       "      <th>Age</th>\n",
       "      <th>GPA</th>\n",
       "    </tr>\n",
       "  </thead>\n",
       "  <tbody>\n",
       "    <tr>\n",
       "      <th>0</th>\n",
       "      <td>CS</td>\n",
       "      <td>F</td>\n",
       "      <td>6</td>\n",
       "      <td>80.0</td>\n",
       "      <td>P</td>\n",
       "      <td>3</td>\n",
       "      <td>20.0</td>\n",
       "      <td>78</td>\n",
       "    </tr>\n",
       "    <tr>\n",
       "      <th>1</th>\n",
       "      <td>CS</td>\n",
       "      <td>F</td>\n",
       "      <td>7</td>\n",
       "      <td>82.0</td>\n",
       "      <td>P</td>\n",
       "      <td>4</td>\n",
       "      <td>22.0</td>\n",
       "      <td>73</td>\n",
       "    </tr>\n",
       "    <tr>\n",
       "      <th>2</th>\n",
       "      <td>CS</td>\n",
       "      <td>F</td>\n",
       "      <td>4</td>\n",
       "      <td>81.0</td>\n",
       "      <td>P</td>\n",
       "      <td>3</td>\n",
       "      <td>20.0</td>\n",
       "      <td>80</td>\n",
       "    </tr>\n",
       "    <tr>\n",
       "      <th>3</th>\n",
       "      <td>CS</td>\n",
       "      <td>M</td>\n",
       "      <td>3</td>\n",
       "      <td>NaN</td>\n",
       "      <td>P</td>\n",
       "      <td>3</td>\n",
       "      <td>22.0</td>\n",
       "      <td>67</td>\n",
       "    </tr>\n",
       "    <tr>\n",
       "      <th>4</th>\n",
       "      <td>CS</td>\n",
       "      <td>M</td>\n",
       "      <td>3</td>\n",
       "      <td>NaN</td>\n",
       "      <td>P</td>\n",
       "      <td>3</td>\n",
       "      <td>22.0</td>\n",
       "      <td>67</td>\n",
       "    </tr>\n",
       "  </tbody>\n",
       "</table>\n",
       "</div>"
      ],
      "text/plain": [
       "  Spec Gender  St_Hr  School_AV branch  level   Age  GPA\n",
       "0   CS      F      6       80.0      P      3  20.0   78\n",
       "1   CS      F      7       82.0      P      4  22.0   73\n",
       "2   CS      F      4       81.0      P      3  20.0   80\n",
       "3   CS      M      3        NaN      P      3  22.0   67\n",
       "4   CS      M      3        NaN      P      3  22.0   67"
      ]
     },
     "execution_count": 1,
     "metadata": {},
     "output_type": "execute_result"
    }
   ],
   "source": [
    "import numpy as np \n",
    "import pandas as pd \n",
    "import pandas as pd\n",
    "import matplotlib.pyplot as plt\n",
    "import seaborn as sns\n",
    "import pandas as pd\n",
    "import numpy as np\n",
    "import matplotlib.pyplot as plt\n",
    "import seaborn as sns\n",
    "import warnings\n",
    "warnings.filterwarnings('ignore')\n",
    "\n",
    "from sklearn.preprocessing import LabelEncoder\n",
    "from sklearn.tree import DecisionTreeClassifier, export_graphviz\n",
    "from sklearn import tree\n",
    "from IPython.display import SVG\n",
    "from graphviz import Source\n",
    "from IPython.display import display\n",
    "from sklearn.ensemble import RandomForestClassifier\n",
    "from sklearn.ensemble import GradientBoostingClassifier\n",
    "from sklearn.model_selection import GridSearchCV\n",
    "from sklearn.metrics import roc_auc_score, confusion_matrix, accuracy_score, roc_curve\n",
    "from sklearn.neighbors import KNeighborsClassifier\n",
    "from sklearn.svm import SVC\n",
    "\n",
    "df = pd.read_csv('../input/student-gpa/GPA.csv')\n",
    "df.head()"
   ]
  },
  {
   "cell_type": "markdown",
   "id": "bc2bfb51",
   "metadata": {
    "papermill": {
     "duration": 0.060524,
     "end_time": "2022-10-31T15:13:17.049914",
     "exception": false,
     "start_time": "2022-10-31T15:13:16.989390",
     "status": "completed"
    },
    "tags": []
   },
   "source": [
    "## Describe the data"
   ]
  },
  {
   "cell_type": "code",
   "execution_count": 2,
   "id": "1a7766c2",
   "metadata": {
    "execution": {
     "iopub.execute_input": "2022-10-31T15:13:17.178661Z",
     "iopub.status.busy": "2022-10-31T15:13:17.169617Z",
     "iopub.status.idle": "2022-10-31T15:13:17.217239Z",
     "shell.execute_reply": "2022-10-31T15:13:17.216638Z",
     "shell.execute_reply.started": "2022-10-31T15:08:59.281709Z"
    },
    "papermill": {
     "duration": 0.10989,
     "end_time": "2022-10-31T15:13:17.217408",
     "exception": false,
     "start_time": "2022-10-31T15:13:17.107518",
     "status": "completed"
    },
    "tags": []
   },
   "outputs": [
    {
     "data": {
      "text/html": [
       "<div>\n",
       "<style scoped>\n",
       "    .dataframe tbody tr th:only-of-type {\n",
       "        vertical-align: middle;\n",
       "    }\n",
       "\n",
       "    .dataframe tbody tr th {\n",
       "        vertical-align: top;\n",
       "    }\n",
       "\n",
       "    .dataframe thead th {\n",
       "        text-align: right;\n",
       "    }\n",
       "</style>\n",
       "<table border=\"1\" class=\"dataframe\">\n",
       "  <thead>\n",
       "    <tr style=\"text-align: right;\">\n",
       "      <th></th>\n",
       "      <th>St_Hr</th>\n",
       "      <th>School_AV</th>\n",
       "      <th>level</th>\n",
       "      <th>Age</th>\n",
       "      <th>GPA</th>\n",
       "    </tr>\n",
       "  </thead>\n",
       "  <tbody>\n",
       "    <tr>\n",
       "      <th>count</th>\n",
       "      <td>76.000000</td>\n",
       "      <td>72.000000</td>\n",
       "      <td>76.000000</td>\n",
       "      <td>68.000000</td>\n",
       "      <td>76.000000</td>\n",
       "    </tr>\n",
       "    <tr>\n",
       "      <th>mean</th>\n",
       "      <td>4.789474</td>\n",
       "      <td>70.166667</td>\n",
       "      <td>2.736842</td>\n",
       "      <td>21.220588</td>\n",
       "      <td>78.631579</td>\n",
       "    </tr>\n",
       "    <tr>\n",
       "      <th>std</th>\n",
       "      <td>1.236293</td>\n",
       "      <td>8.465339</td>\n",
       "      <td>0.929063</td>\n",
       "      <td>1.582041</td>\n",
       "      <td>6.657011</td>\n",
       "    </tr>\n",
       "    <tr>\n",
       "      <th>min</th>\n",
       "      <td>3.000000</td>\n",
       "      <td>54.000000</td>\n",
       "      <td>1.000000</td>\n",
       "      <td>18.000000</td>\n",
       "      <td>60.000000</td>\n",
       "    </tr>\n",
       "    <tr>\n",
       "      <th>25%</th>\n",
       "      <td>4.000000</td>\n",
       "      <td>65.000000</td>\n",
       "      <td>2.000000</td>\n",
       "      <td>20.000000</td>\n",
       "      <td>75.000000</td>\n",
       "    </tr>\n",
       "    <tr>\n",
       "      <th>50%</th>\n",
       "      <td>5.000000</td>\n",
       "      <td>70.000000</td>\n",
       "      <td>3.000000</td>\n",
       "      <td>22.000000</td>\n",
       "      <td>80.000000</td>\n",
       "    </tr>\n",
       "    <tr>\n",
       "      <th>75%</th>\n",
       "      <td>6.000000</td>\n",
       "      <td>77.000000</td>\n",
       "      <td>3.000000</td>\n",
       "      <td>22.000000</td>\n",
       "      <td>82.000000</td>\n",
       "    </tr>\n",
       "    <tr>\n",
       "      <th>max</th>\n",
       "      <td>7.000000</td>\n",
       "      <td>89.000000</td>\n",
       "      <td>6.000000</td>\n",
       "      <td>25.000000</td>\n",
       "      <td>90.000000</td>\n",
       "    </tr>\n",
       "  </tbody>\n",
       "</table>\n",
       "</div>"
      ],
      "text/plain": [
       "           St_Hr  School_AV      level        Age        GPA\n",
       "count  76.000000  72.000000  76.000000  68.000000  76.000000\n",
       "mean    4.789474  70.166667   2.736842  21.220588  78.631579\n",
       "std     1.236293   8.465339   0.929063   1.582041   6.657011\n",
       "min     3.000000  54.000000   1.000000  18.000000  60.000000\n",
       "25%     4.000000  65.000000   2.000000  20.000000  75.000000\n",
       "50%     5.000000  70.000000   3.000000  22.000000  80.000000\n",
       "75%     6.000000  77.000000   3.000000  22.000000  82.000000\n",
       "max     7.000000  89.000000   6.000000  25.000000  90.000000"
      ]
     },
     "execution_count": 2,
     "metadata": {},
     "output_type": "execute_result"
    }
   ],
   "source": [
    "df.describe()"
   ]
  },
  {
   "cell_type": "markdown",
   "id": "cc1715cb",
   "metadata": {
    "papermill": {
     "duration": 0.059621,
     "end_time": "2022-10-31T15:13:17.338353",
     "exception": false,
     "start_time": "2022-10-31T15:13:17.278732",
     "status": "completed"
    },
    "tags": []
   },
   "source": [
    "## More information\n",
    "from the following result you can see that some data counts are less than others, this means that some columns are having NULL values such as Gender (37) which means one value is NULL, (NaN) or missing"
   ]
  },
  {
   "cell_type": "code",
   "execution_count": 3,
   "id": "a2060d36",
   "metadata": {
    "execution": {
     "iopub.execute_input": "2022-10-31T15:13:17.479471Z",
     "iopub.status.busy": "2022-10-31T15:13:17.478281Z",
     "iopub.status.idle": "2022-10-31T15:13:17.482189Z",
     "shell.execute_reply": "2022-10-31T15:13:17.482736Z",
     "shell.execute_reply.started": "2022-10-31T15:08:59.320322Z"
    },
    "papermill": {
     "duration": 0.084265,
     "end_time": "2022-10-31T15:13:17.482949",
     "exception": false,
     "start_time": "2022-10-31T15:13:17.398684",
     "status": "completed"
    },
    "tags": []
   },
   "outputs": [
    {
     "name": "stdout",
     "output_type": "stream",
     "text": [
      "<class 'pandas.core.frame.DataFrame'>\n",
      "RangeIndex: 76 entries, 0 to 75\n",
      "Data columns (total 8 columns):\n",
      " #   Column     Non-Null Count  Dtype  \n",
      "---  ------     --------------  -----  \n",
      " 0   Spec       76 non-null     object \n",
      " 1   Gender     74 non-null     object \n",
      " 2   St_Hr      76 non-null     int64  \n",
      " 3   School_AV  72 non-null     float64\n",
      " 4   branch     76 non-null     object \n",
      " 5   level      76 non-null     int64  \n",
      " 6   Age        68 non-null     float64\n",
      " 7   GPA        76 non-null     int64  \n",
      "dtypes: float64(2), int64(3), object(3)\n",
      "memory usage: 4.9+ KB\n"
     ]
    }
   ],
   "source": [
    "df.info()"
   ]
  },
  {
   "cell_type": "markdown",
   "id": "aed9b1be",
   "metadata": {
    "papermill": {
     "duration": 0.058934,
     "end_time": "2022-10-31T15:13:17.601693",
     "exception": false,
     "start_time": "2022-10-31T15:13:17.542759",
     "status": "completed"
    },
    "tags": []
   },
   "source": [
    "# Check for Duplicated rows\n"
   ]
  },
  {
   "cell_type": "markdown",
   "id": "22362e18",
   "metadata": {
    "papermill": {
     "duration": 0.057893,
     "end_time": "2022-10-31T15:13:17.719462",
     "exception": false,
     "start_time": "2022-10-31T15:13:17.661569",
     "status": "completed"
    },
    "tags": []
   },
   "source": [
    "## df.duplicated()\n",
    "This will returns a series which contains (True, False) values. if the row is doublicated it returns True, and False otherwise."
   ]
  },
  {
   "cell_type": "code",
   "execution_count": 4,
   "id": "1ae37087",
   "metadata": {
    "execution": {
     "iopub.execute_input": "2022-10-31T15:13:17.851060Z",
     "iopub.status.busy": "2022-10-31T15:13:17.849961Z",
     "iopub.status.idle": "2022-10-31T15:13:17.854793Z",
     "shell.execute_reply": "2022-10-31T15:13:17.854077Z",
     "shell.execute_reply.started": "2022-10-31T15:08:59.339778Z"
    },
    "papermill": {
     "duration": 0.077271,
     "end_time": "2022-10-31T15:13:17.854975",
     "exception": false,
     "start_time": "2022-10-31T15:13:17.777704",
     "status": "completed"
    },
    "tags": []
   },
   "outputs": [
    {
     "data": {
      "text/plain": [
       "0    False\n",
       "1    False\n",
       "2    False\n",
       "3    False\n",
       "4     True\n",
       "dtype: bool"
      ]
     },
     "execution_count": 4,
     "metadata": {},
     "output_type": "execute_result"
    }
   ],
   "source": [
    "temp = df.duplicated()\n",
    "temp.head()"
   ]
  },
  {
   "cell_type": "code",
   "execution_count": 5,
   "id": "f71fc9c9",
   "metadata": {
    "execution": {
     "iopub.execute_input": "2022-10-31T15:13:17.986367Z",
     "iopub.status.busy": "2022-10-31T15:13:17.985634Z",
     "iopub.status.idle": "2022-10-31T15:13:17.997971Z",
     "shell.execute_reply": "2022-10-31T15:13:17.998578Z",
     "shell.execute_reply.started": "2022-10-31T15:08:59.353841Z"
    },
    "papermill": {
     "duration": 0.082958,
     "end_time": "2022-10-31T15:13:17.998796",
     "exception": false,
     "start_time": "2022-10-31T15:13:17.915838",
     "status": "completed"
    },
    "tags": []
   },
   "outputs": [
    {
     "data": {
      "text/html": [
       "<div>\n",
       "<style scoped>\n",
       "    .dataframe tbody tr th:only-of-type {\n",
       "        vertical-align: middle;\n",
       "    }\n",
       "\n",
       "    .dataframe tbody tr th {\n",
       "        vertical-align: top;\n",
       "    }\n",
       "\n",
       "    .dataframe thead th {\n",
       "        text-align: right;\n",
       "    }\n",
       "</style>\n",
       "<table border=\"1\" class=\"dataframe\">\n",
       "  <thead>\n",
       "    <tr style=\"text-align: right;\">\n",
       "      <th></th>\n",
       "      <th>Spec</th>\n",
       "      <th>Gender</th>\n",
       "      <th>St_Hr</th>\n",
       "      <th>School_AV</th>\n",
       "      <th>branch</th>\n",
       "      <th>level</th>\n",
       "      <th>Age</th>\n",
       "      <th>GPA</th>\n",
       "    </tr>\n",
       "  </thead>\n",
       "  <tbody>\n",
       "    <tr>\n",
       "      <th>4</th>\n",
       "      <td>CS</td>\n",
       "      <td>M</td>\n",
       "      <td>3</td>\n",
       "      <td>NaN</td>\n",
       "      <td>P</td>\n",
       "      <td>3</td>\n",
       "      <td>22.0</td>\n",
       "      <td>67</td>\n",
       "    </tr>\n",
       "    <tr>\n",
       "      <th>14</th>\n",
       "      <td>MIS</td>\n",
       "      <td>F</td>\n",
       "      <td>5</td>\n",
       "      <td>76.0</td>\n",
       "      <td>P</td>\n",
       "      <td>3</td>\n",
       "      <td>22.0</td>\n",
       "      <td>81</td>\n",
       "    </tr>\n",
       "    <tr>\n",
       "      <th>41</th>\n",
       "      <td>CS</td>\n",
       "      <td>M</td>\n",
       "      <td>3</td>\n",
       "      <td>NaN</td>\n",
       "      <td>P</td>\n",
       "      <td>3</td>\n",
       "      <td>22.0</td>\n",
       "      <td>67</td>\n",
       "    </tr>\n",
       "    <tr>\n",
       "      <th>63</th>\n",
       "      <td>BA</td>\n",
       "      <td>M</td>\n",
       "      <td>4</td>\n",
       "      <td>66.0</td>\n",
       "      <td>A</td>\n",
       "      <td>3</td>\n",
       "      <td>22.0</td>\n",
       "      <td>82</td>\n",
       "    </tr>\n",
       "    <tr>\n",
       "      <th>73</th>\n",
       "      <td>ACC</td>\n",
       "      <td>F</td>\n",
       "      <td>6</td>\n",
       "      <td>67.0</td>\n",
       "      <td>A</td>\n",
       "      <td>4</td>\n",
       "      <td>22.0</td>\n",
       "      <td>82</td>\n",
       "    </tr>\n",
       "  </tbody>\n",
       "</table>\n",
       "</div>"
      ],
      "text/plain": [
       "   Spec Gender  St_Hr  School_AV branch  level   Age  GPA\n",
       "4    CS      M      3        NaN      P      3  22.0   67\n",
       "14  MIS      F      5       76.0      P      3  22.0   81\n",
       "41   CS      M      3        NaN      P      3  22.0   67\n",
       "63   BA      M      4       66.0      A      3  22.0   82\n",
       "73  ACC      F      6       67.0      A      4  22.0   82"
      ]
     },
     "execution_count": 5,
     "metadata": {},
     "output_type": "execute_result"
    }
   ],
   "source": [
    "df[df.duplicated()]"
   ]
  },
  {
   "cell_type": "markdown",
   "id": "133b81cd",
   "metadata": {
    "papermill": {
     "duration": 0.059151,
     "end_time": "2022-10-31T15:13:18.117507",
     "exception": false,
     "start_time": "2022-10-31T15:13:18.058356",
     "status": "completed"
    },
    "tags": []
   },
   "source": [
    "## To specify the number of redundant rows we use:\n",
    "df.duplicated().sum()"
   ]
  },
  {
   "cell_type": "code",
   "execution_count": 6,
   "id": "b926471a",
   "metadata": {
    "execution": {
     "iopub.execute_input": "2022-10-31T15:13:18.245053Z",
     "iopub.status.busy": "2022-10-31T15:13:18.244301Z",
     "iopub.status.idle": "2022-10-31T15:13:18.251181Z",
     "shell.execute_reply": "2022-10-31T15:13:18.251752Z",
     "shell.execute_reply.started": "2022-10-31T15:08:59.375757Z"
    },
    "papermill": {
     "duration": 0.070608,
     "end_time": "2022-10-31T15:13:18.251970",
     "exception": false,
     "start_time": "2022-10-31T15:13:18.181362",
     "status": "completed"
    },
    "tags": []
   },
   "outputs": [
    {
     "data": {
      "text/plain": [
       "5"
      ]
     },
     "execution_count": 6,
     "metadata": {},
     "output_type": "execute_result"
    }
   ],
   "source": [
    "df.duplicated().sum()"
   ]
  },
  {
   "cell_type": "markdown",
   "id": "3ce45530",
   "metadata": {
    "papermill": {
     "duration": 0.067283,
     "end_time": "2022-10-31T15:13:18.381912",
     "exception": false,
     "start_time": "2022-10-31T15:13:18.314629",
     "status": "completed"
    },
    "tags": []
   },
   "source": [
    "## Drop the redundant rows and keep one only\n",
    "hint: to consider the rows similar all the values of the columns must be the same"
   ]
  },
  {
   "cell_type": "code",
   "execution_count": 7,
   "id": "63bb54a2",
   "metadata": {
    "execution": {
     "iopub.execute_input": "2022-10-31T15:13:18.534189Z",
     "iopub.status.busy": "2022-10-31T15:13:18.533359Z",
     "iopub.status.idle": "2022-10-31T15:13:18.541233Z",
     "shell.execute_reply": "2022-10-31T15:13:18.541910Z",
     "shell.execute_reply.started": "2022-10-31T15:08:59.390257Z"
    },
    "papermill": {
     "duration": 0.076149,
     "end_time": "2022-10-31T15:13:18.542158",
     "exception": false,
     "start_time": "2022-10-31T15:13:18.466009",
     "status": "completed"
    },
    "tags": []
   },
   "outputs": [],
   "source": [
    "df.drop_duplicates(inplace = True)"
   ]
  },
  {
   "cell_type": "code",
   "execution_count": 8,
   "id": "9cbe4d38",
   "metadata": {
    "execution": {
     "iopub.execute_input": "2022-10-31T15:13:18.681487Z",
     "iopub.status.busy": "2022-10-31T15:13:18.680473Z",
     "iopub.status.idle": "2022-10-31T15:13:18.693355Z",
     "shell.execute_reply": "2022-10-31T15:13:18.694130Z",
     "shell.execute_reply.started": "2022-10-31T15:08:59.405816Z"
    },
    "papermill": {
     "duration": 0.081501,
     "end_time": "2022-10-31T15:13:18.694383",
     "exception": false,
     "start_time": "2022-10-31T15:13:18.612882",
     "status": "completed"
    },
    "tags": []
   },
   "outputs": [
    {
     "data": {
      "text/plain": [
       "0"
      ]
     },
     "execution_count": 8,
     "metadata": {},
     "output_type": "execute_result"
    }
   ],
   "source": [
    "df.duplicated().sum()"
   ]
  },
  {
   "cell_type": "code",
   "execution_count": 9,
   "id": "66dff081",
   "metadata": {
    "execution": {
     "iopub.execute_input": "2022-10-31T15:13:18.837951Z",
     "iopub.status.busy": "2022-10-31T15:13:18.836946Z",
     "iopub.status.idle": "2022-10-31T15:13:18.852245Z",
     "shell.execute_reply": "2022-10-31T15:13:18.852802Z",
     "shell.execute_reply.started": "2022-10-31T15:08:59.420182Z"
    },
    "papermill": {
     "duration": 0.090272,
     "end_time": "2022-10-31T15:13:18.853024",
     "exception": false,
     "start_time": "2022-10-31T15:13:18.762752",
     "status": "completed"
    },
    "tags": []
   },
   "outputs": [
    {
     "name": "stdout",
     "output_type": "stream",
     "text": [
      "<class 'pandas.core.frame.DataFrame'>\n",
      "Int64Index: 71 entries, 0 to 75\n",
      "Data columns (total 8 columns):\n",
      " #   Column     Non-Null Count  Dtype  \n",
      "---  ------     --------------  -----  \n",
      " 0   Spec       71 non-null     object \n",
      " 1   Gender     69 non-null     object \n",
      " 2   St_Hr      71 non-null     int64  \n",
      " 3   School_AV  69 non-null     float64\n",
      " 4   branch     71 non-null     object \n",
      " 5   level      71 non-null     int64  \n",
      " 6   Age        63 non-null     float64\n",
      " 7   GPA        71 non-null     int64  \n",
      "dtypes: float64(2), int64(3), object(3)\n",
      "memory usage: 5.0+ KB\n"
     ]
    }
   ],
   "source": [
    "df.info()"
   ]
  },
  {
   "cell_type": "markdown",
   "id": "dba9bfaa",
   "metadata": {
    "papermill": {
     "duration": 0.060494,
     "end_time": "2022-10-31T15:13:18.975251",
     "exception": false,
     "start_time": "2022-10-31T15:13:18.914757",
     "status": "completed"
    },
    "tags": []
   },
   "source": [
    "# Check for NULL, NaN or missing values"
   ]
  },
  {
   "cell_type": "markdown",
   "id": "af4c1170",
   "metadata": {
    "papermill": {
     "duration": 0.061459,
     "end_time": "2022-10-31T15:13:19.097963",
     "exception": false,
     "start_time": "2022-10-31T15:13:19.036504",
     "status": "completed"
    },
    "tags": []
   },
   "source": [
    "## isna()\n",
    "this returns a series of True or False, if the row has NaN value it returns True otherwise it returns False. To find the number of rows with null values in each feature, you need to use \n",
    "## df.isna().sum()"
   ]
  },
  {
   "cell_type": "code",
   "execution_count": 10,
   "id": "85a34468",
   "metadata": {
    "execution": {
     "iopub.execute_input": "2022-10-31T15:13:19.224478Z",
     "iopub.status.busy": "2022-10-31T15:13:19.223490Z",
     "iopub.status.idle": "2022-10-31T15:13:19.238371Z",
     "shell.execute_reply": "2022-10-31T15:13:19.239259Z",
     "shell.execute_reply.started": "2022-10-31T15:08:59.440804Z"
    },
    "papermill": {
     "duration": 0.080774,
     "end_time": "2022-10-31T15:13:19.239503",
     "exception": false,
     "start_time": "2022-10-31T15:13:19.158729",
     "status": "completed"
    },
    "tags": []
   },
   "outputs": [
    {
     "data": {
      "text/html": [
       "<div>\n",
       "<style scoped>\n",
       "    .dataframe tbody tr th:only-of-type {\n",
       "        vertical-align: middle;\n",
       "    }\n",
       "\n",
       "    .dataframe tbody tr th {\n",
       "        vertical-align: top;\n",
       "    }\n",
       "\n",
       "    .dataframe thead th {\n",
       "        text-align: right;\n",
       "    }\n",
       "</style>\n",
       "<table border=\"1\" class=\"dataframe\">\n",
       "  <thead>\n",
       "    <tr style=\"text-align: right;\">\n",
       "      <th></th>\n",
       "      <th>Spec</th>\n",
       "      <th>Gender</th>\n",
       "      <th>St_Hr</th>\n",
       "      <th>School_AV</th>\n",
       "      <th>branch</th>\n",
       "      <th>level</th>\n",
       "      <th>Age</th>\n",
       "      <th>GPA</th>\n",
       "    </tr>\n",
       "  </thead>\n",
       "  <tbody>\n",
       "    <tr>\n",
       "      <th>0</th>\n",
       "      <td>False</td>\n",
       "      <td>False</td>\n",
       "      <td>False</td>\n",
       "      <td>False</td>\n",
       "      <td>False</td>\n",
       "      <td>False</td>\n",
       "      <td>False</td>\n",
       "      <td>False</td>\n",
       "    </tr>\n",
       "    <tr>\n",
       "      <th>1</th>\n",
       "      <td>False</td>\n",
       "      <td>False</td>\n",
       "      <td>False</td>\n",
       "      <td>False</td>\n",
       "      <td>False</td>\n",
       "      <td>False</td>\n",
       "      <td>False</td>\n",
       "      <td>False</td>\n",
       "    </tr>\n",
       "    <tr>\n",
       "      <th>2</th>\n",
       "      <td>False</td>\n",
       "      <td>False</td>\n",
       "      <td>False</td>\n",
       "      <td>False</td>\n",
       "      <td>False</td>\n",
       "      <td>False</td>\n",
       "      <td>False</td>\n",
       "      <td>False</td>\n",
       "    </tr>\n",
       "    <tr>\n",
       "      <th>3</th>\n",
       "      <td>False</td>\n",
       "      <td>False</td>\n",
       "      <td>False</td>\n",
       "      <td>True</td>\n",
       "      <td>False</td>\n",
       "      <td>False</td>\n",
       "      <td>False</td>\n",
       "      <td>False</td>\n",
       "    </tr>\n",
       "    <tr>\n",
       "      <th>5</th>\n",
       "      <td>False</td>\n",
       "      <td>False</td>\n",
       "      <td>False</td>\n",
       "      <td>False</td>\n",
       "      <td>False</td>\n",
       "      <td>False</td>\n",
       "      <td>False</td>\n",
       "      <td>False</td>\n",
       "    </tr>\n",
       "  </tbody>\n",
       "</table>\n",
       "</div>"
      ],
      "text/plain": [
       "    Spec  Gender  St_Hr  School_AV  branch  level    Age    GPA\n",
       "0  False   False  False      False   False  False  False  False\n",
       "1  False   False  False      False   False  False  False  False\n",
       "2  False   False  False      False   False  False  False  False\n",
       "3  False   False  False       True   False  False  False  False\n",
       "5  False   False  False      False   False  False  False  False"
      ]
     },
     "execution_count": 10,
     "metadata": {},
     "output_type": "execute_result"
    }
   ],
   "source": [
    "temp = df.isna()\n",
    "temp.head()"
   ]
  },
  {
   "cell_type": "code",
   "execution_count": 11,
   "id": "369ae40e",
   "metadata": {
    "execution": {
     "iopub.execute_input": "2022-10-31T15:13:19.374968Z",
     "iopub.status.busy": "2022-10-31T15:13:19.374213Z",
     "iopub.status.idle": "2022-10-31T15:13:19.378408Z",
     "shell.execute_reply": "2022-10-31T15:13:19.377905Z",
     "shell.execute_reply.started": "2022-10-31T15:08:59.464759Z"
    },
    "papermill": {
     "duration": 0.075958,
     "end_time": "2022-10-31T15:13:19.378576",
     "exception": false,
     "start_time": "2022-10-31T15:13:19.302618",
     "status": "completed"
    },
    "tags": []
   },
   "outputs": [
    {
     "data": {
      "text/plain": [
       "Spec         0\n",
       "Gender       2\n",
       "St_Hr        0\n",
       "School_AV    2\n",
       "branch       0\n",
       "level        0\n",
       "Age          8\n",
       "GPA          0\n",
       "dtype: int64"
      ]
     },
     "execution_count": 11,
     "metadata": {},
     "output_type": "execute_result"
    }
   ],
   "source": [
    "df.isna().sum()"
   ]
  },
  {
   "cell_type": "markdown",
   "id": "34a99958",
   "metadata": {
    "papermill": {
     "duration": 0.061217,
     "end_time": "2022-10-31T15:13:19.502155",
     "exception": false,
     "start_time": "2022-10-31T15:13:19.440938",
     "status": "completed"
    },
    "tags": []
   },
   "source": [
    "from the result above it is clear that there are some Na values:\n",
    "1 value is missing in the Gender\n",
    "1 value is missing in the School_Av\n",
    "4 Valuses are missing in the Age"
   ]
  },
  {
   "cell_type": "markdown",
   "id": "0dc3cb0d",
   "metadata": {
    "papermill": {
     "duration": 0.061131,
     "end_time": "2022-10-31T15:13:19.625419",
     "exception": false,
     "start_time": "2022-10-31T15:13:19.564288",
     "status": "completed"
    },
    "tags": []
   },
   "source": [
    "## Droping the rows with missing values\n",
    "one of the method which must be used carefully is droping the rows with missing values\n",
    "this method is not recommended always and can be used in certain cases only\n",
    "this can be done using the instruction:\n",
    "\n",
    "df.drop_duplicates(inplace = True)"
   ]
  },
  {
   "cell_type": "markdown",
   "id": "0bcb785c",
   "metadata": {
    "papermill": {
     "duration": 0.060175,
     "end_time": "2022-10-31T15:13:19.746561",
     "exception": false,
     "start_time": "2022-10-31T15:13:19.686386",
     "status": "completed"
    },
    "tags": []
   },
   "source": [
    "## Replacing the missing values with constant value, Mean, Median, or Mode\n"
   ]
  },
  {
   "cell_type": "markdown",
   "id": "1a930875",
   "metadata": {
    "papermill": {
     "duration": 0.060704,
     "end_time": "2022-10-31T15:13:19.867703",
     "exception": false,
     "start_time": "2022-10-31T15:13:19.806999",
     "status": "completed"
    },
    "tags": []
   },
   "source": [
    "### Replcaing with constant value\n",
    "it is possible to replace the missing value with constant value in some cases such as replacing the Missing value in the gender with Male ot Female, but this if we are somehow certain of the gender otherwise it is not recommended. Instead we need to use other approaches."
   ]
  },
  {
   "cell_type": "markdown",
   "id": "287f1739",
   "metadata": {
    "papermill": {
     "duration": 0.0608,
     "end_time": "2022-10-31T15:13:19.993634",
     "exception": false,
     "start_time": "2022-10-31T15:13:19.932834",
     "status": "completed"
    },
    "tags": []
   },
   "source": [
    "### Replacing with Mean, Median, Mode\n",
    "According to the nature of the deature, we can replace the missing value with Mean, Median, or Mode. "
   ]
  },
  {
   "cell_type": "markdown",
   "id": "08720868",
   "metadata": {
    "papermill": {
     "duration": 0.060784,
     "end_time": "2022-10-31T15:13:20.117738",
     "exception": false,
     "start_time": "2022-10-31T15:13:20.056954",
     "status": "completed"
    },
    "tags": []
   },
   "source": [
    "### Age missing value\n",
    "lets do some calculations to see which method is better"
   ]
  },
  {
   "cell_type": "markdown",
   "id": "8af434db",
   "metadata": {
    "papermill": {
     "duration": 0.060071,
     "end_time": "2022-10-31T15:13:20.238282",
     "exception": false,
     "start_time": "2022-10-31T15:13:20.178211",
     "status": "completed"
    },
    "tags": []
   },
   "source": [
    "Calculating the mean, median, and mode for all students"
   ]
  },
  {
   "cell_type": "code",
   "execution_count": 12,
   "id": "e4e4480c",
   "metadata": {
    "execution": {
     "iopub.execute_input": "2022-10-31T15:13:20.368776Z",
     "iopub.status.busy": "2022-10-31T15:13:20.367983Z",
     "iopub.status.idle": "2022-10-31T15:13:20.377492Z",
     "shell.execute_reply": "2022-10-31T15:13:20.378149Z",
     "shell.execute_reply.started": "2022-10-31T15:08:59.477239Z"
    },
    "papermill": {
     "duration": 0.079473,
     "end_time": "2022-10-31T15:13:20.378330",
     "exception": false,
     "start_time": "2022-10-31T15:13:20.298857",
     "status": "completed"
    },
    "tags": []
   },
   "outputs": [
    {
     "name": "stdout",
     "output_type": "stream",
     "text": [
      "21.158730158730158 21.0 20.0\n"
     ]
    }
   ],
   "source": [
    "mean = df['Age'].mean()\n",
    "median = df['Age'].median()\n",
    "mode = df['Age'].mode()[0]\n",
    "\n",
    "print (mean, median, mode)"
   ]
  },
  {
   "cell_type": "markdown",
   "id": "fe820363",
   "metadata": {
    "papermill": {
     "duration": 0.061323,
     "end_time": "2022-10-31T15:13:20.503794",
     "exception": false,
     "start_time": "2022-10-31T15:13:20.442471",
     "status": "completed"
    },
    "tags": []
   },
   "source": [
    "Let us study the relationship between the Age and other features. \n",
    "it is clear that there is a relationship between the age and the level\n",
    "### Calculating the mean, median, and mode based on the level"
   ]
  },
  {
   "cell_type": "code",
   "execution_count": 13,
   "id": "ffcc40fe",
   "metadata": {
    "execution": {
     "iopub.execute_input": "2022-10-31T15:13:20.643163Z",
     "iopub.status.busy": "2022-10-31T15:13:20.642493Z",
     "iopub.status.idle": "2022-10-31T15:13:20.646682Z",
     "shell.execute_reply": "2022-10-31T15:13:20.646088Z",
     "shell.execute_reply.started": "2022-10-31T15:08:59.492853Z"
    },
    "papermill": {
     "duration": 0.081633,
     "end_time": "2022-10-31T15:13:20.646836",
     "exception": false,
     "start_time": "2022-10-31T15:13:20.565203",
     "status": "completed"
    },
    "tags": []
   },
   "outputs": [
    {
     "data": {
      "text/html": [
       "<div>\n",
       "<style scoped>\n",
       "    .dataframe tbody tr th:only-of-type {\n",
       "        vertical-align: middle;\n",
       "    }\n",
       "\n",
       "    .dataframe tbody tr th {\n",
       "        vertical-align: top;\n",
       "    }\n",
       "\n",
       "    .dataframe thead th {\n",
       "        text-align: right;\n",
       "    }\n",
       "</style>\n",
       "<table border=\"1\" class=\"dataframe\">\n",
       "  <thead>\n",
       "    <tr style=\"text-align: right;\">\n",
       "      <th></th>\n",
       "      <th>Spec</th>\n",
       "      <th>Gender</th>\n",
       "      <th>St_Hr</th>\n",
       "      <th>School_AV</th>\n",
       "      <th>branch</th>\n",
       "      <th>level</th>\n",
       "      <th>Age</th>\n",
       "      <th>GPA</th>\n",
       "    </tr>\n",
       "  </thead>\n",
       "  <tbody>\n",
       "    <tr>\n",
       "      <th>11</th>\n",
       "      <td>MIS</td>\n",
       "      <td>F</td>\n",
       "      <td>7</td>\n",
       "      <td>71.0</td>\n",
       "      <td>A</td>\n",
       "      <td>2</td>\n",
       "      <td>NaN</td>\n",
       "      <td>84</td>\n",
       "    </tr>\n",
       "    <tr>\n",
       "      <th>26</th>\n",
       "      <td>BA</td>\n",
       "      <td>F</td>\n",
       "      <td>3</td>\n",
       "      <td>71.0</td>\n",
       "      <td>A</td>\n",
       "      <td>3</td>\n",
       "      <td>NaN</td>\n",
       "      <td>77</td>\n",
       "    </tr>\n",
       "    <tr>\n",
       "      <th>31</th>\n",
       "      <td>ACC</td>\n",
       "      <td>F</td>\n",
       "      <td>3</td>\n",
       "      <td>57.0</td>\n",
       "      <td>A</td>\n",
       "      <td>2</td>\n",
       "      <td>NaN</td>\n",
       "      <td>82</td>\n",
       "    </tr>\n",
       "    <tr>\n",
       "      <th>36</th>\n",
       "      <td>ACC</td>\n",
       "      <td>M</td>\n",
       "      <td>5</td>\n",
       "      <td>58.0</td>\n",
       "      <td>A</td>\n",
       "      <td>2</td>\n",
       "      <td>NaN</td>\n",
       "      <td>88</td>\n",
       "    </tr>\n",
       "    <tr>\n",
       "      <th>49</th>\n",
       "      <td>MIS</td>\n",
       "      <td>F</td>\n",
       "      <td>7</td>\n",
       "      <td>72.0</td>\n",
       "      <td>A</td>\n",
       "      <td>2</td>\n",
       "      <td>NaN</td>\n",
       "      <td>84</td>\n",
       "    </tr>\n",
       "    <tr>\n",
       "      <th>64</th>\n",
       "      <td>BA</td>\n",
       "      <td>F</td>\n",
       "      <td>6</td>\n",
       "      <td>70.0</td>\n",
       "      <td>A</td>\n",
       "      <td>3</td>\n",
       "      <td>NaN</td>\n",
       "      <td>77</td>\n",
       "    </tr>\n",
       "    <tr>\n",
       "      <th>69</th>\n",
       "      <td>ACC</td>\n",
       "      <td>F</td>\n",
       "      <td>5</td>\n",
       "      <td>67.0</td>\n",
       "      <td>A</td>\n",
       "      <td>2</td>\n",
       "      <td>NaN</td>\n",
       "      <td>82</td>\n",
       "    </tr>\n",
       "    <tr>\n",
       "      <th>74</th>\n",
       "      <td>ACC</td>\n",
       "      <td>M</td>\n",
       "      <td>6</td>\n",
       "      <td>68.0</td>\n",
       "      <td>A</td>\n",
       "      <td>2</td>\n",
       "      <td>NaN</td>\n",
       "      <td>88</td>\n",
       "    </tr>\n",
       "  </tbody>\n",
       "</table>\n",
       "</div>"
      ],
      "text/plain": [
       "   Spec Gender  St_Hr  School_AV branch  level  Age  GPA\n",
       "11  MIS      F      7       71.0      A      2  NaN   84\n",
       "26   BA      F      3       71.0      A      3  NaN   77\n",
       "31  ACC      F      3       57.0      A      2  NaN   82\n",
       "36  ACC      M      5       58.0      A      2  NaN   88\n",
       "49  MIS      F      7       72.0      A      2  NaN   84\n",
       "64   BA      F      6       70.0      A      3  NaN   77\n",
       "69  ACC      F      5       67.0      A      2  NaN   82\n",
       "74  ACC      M      6       68.0      A      2  NaN   88"
      ]
     },
     "execution_count": 13,
     "metadata": {},
     "output_type": "execute_result"
    }
   ],
   "source": [
    "df1 = df[df['Age'].isna()]\n",
    "df1"
   ]
  },
  {
   "cell_type": "markdown",
   "id": "7f702d3f",
   "metadata": {
    "papermill": {
     "duration": 0.062153,
     "end_time": "2022-10-31T15:13:20.772089",
     "exception": false,
     "start_time": "2022-10-31T15:13:20.709936",
     "status": "completed"
    },
    "tags": []
   },
   "source": [
    "### Finding the mode of the level \n",
    "this will show the rows with missing values majority levels"
   ]
  },
  {
   "cell_type": "code",
   "execution_count": 14,
   "id": "7d737fcd",
   "metadata": {
    "execution": {
     "iopub.execute_input": "2022-10-31T15:13:20.905503Z",
     "iopub.status.busy": "2022-10-31T15:13:20.904796Z",
     "iopub.status.idle": "2022-10-31T15:13:20.908399Z",
     "shell.execute_reply": "2022-10-31T15:13:20.909125Z",
     "shell.execute_reply.started": "2022-10-31T15:08:59.516629Z"
    },
    "papermill": {
     "duration": 0.07405,
     "end_time": "2022-10-31T15:13:20.909355",
     "exception": false,
     "start_time": "2022-10-31T15:13:20.835305",
     "status": "completed"
    },
    "tags": []
   },
   "outputs": [
    {
     "data": {
      "text/plain": [
       "2"
      ]
     },
     "execution_count": 14,
     "metadata": {},
     "output_type": "execute_result"
    }
   ],
   "source": [
    "df1['level'].mode()[0]"
   ]
  },
  {
   "cell_type": "markdown",
   "id": "b4c7edfd",
   "metadata": {
    "papermill": {
     "duration": 0.062787,
     "end_time": "2022-10-31T15:13:21.034397",
     "exception": false,
     "start_time": "2022-10-31T15:13:20.971610",
     "status": "completed"
    },
    "tags": []
   },
   "source": [
    "Now we calculate the mean, median, and mode for the students in level 2 only"
   ]
  },
  {
   "cell_type": "code",
   "execution_count": 15,
   "id": "8316b482",
   "metadata": {
    "execution": {
     "iopub.execute_input": "2022-10-31T15:13:21.174680Z",
     "iopub.status.busy": "2022-10-31T15:13:21.173988Z",
     "iopub.status.idle": "2022-10-31T15:13:21.186786Z",
     "shell.execute_reply": "2022-10-31T15:13:21.186205Z",
     "shell.execute_reply.started": "2022-10-31T15:08:59.531849Z"
    },
    "papermill": {
     "duration": 0.08985,
     "end_time": "2022-10-31T15:13:21.186941",
     "exception": false,
     "start_time": "2022-10-31T15:13:21.097091",
     "status": "completed"
    },
    "tags": []
   },
   "outputs": [
    {
     "data": {
      "text/html": [
       "<div>\n",
       "<style scoped>\n",
       "    .dataframe tbody tr th:only-of-type {\n",
       "        vertical-align: middle;\n",
       "    }\n",
       "\n",
       "    .dataframe tbody tr th {\n",
       "        vertical-align: top;\n",
       "    }\n",
       "\n",
       "    .dataframe thead th {\n",
       "        text-align: right;\n",
       "    }\n",
       "</style>\n",
       "<table border=\"1\" class=\"dataframe\">\n",
       "  <thead>\n",
       "    <tr style=\"text-align: right;\">\n",
       "      <th></th>\n",
       "      <th>Spec</th>\n",
       "      <th>Gender</th>\n",
       "      <th>St_Hr</th>\n",
       "      <th>School_AV</th>\n",
       "      <th>branch</th>\n",
       "      <th>level</th>\n",
       "      <th>Age</th>\n",
       "      <th>GPA</th>\n",
       "    </tr>\n",
       "  </thead>\n",
       "  <tbody>\n",
       "    <tr>\n",
       "      <th>5</th>\n",
       "      <td>CS</td>\n",
       "      <td>F</td>\n",
       "      <td>6</td>\n",
       "      <td>80.0</td>\n",
       "      <td>P</td>\n",
       "      <td>2</td>\n",
       "      <td>19.0</td>\n",
       "      <td>77</td>\n",
       "    </tr>\n",
       "    <tr>\n",
       "      <th>6</th>\n",
       "      <td>CS</td>\n",
       "      <td>F</td>\n",
       "      <td>6</td>\n",
       "      <td>80.0</td>\n",
       "      <td>P</td>\n",
       "      <td>2</td>\n",
       "      <td>19.0</td>\n",
       "      <td>65</td>\n",
       "    </tr>\n",
       "    <tr>\n",
       "      <th>8</th>\n",
       "      <td>CS</td>\n",
       "      <td>M</td>\n",
       "      <td>5</td>\n",
       "      <td>70.0</td>\n",
       "      <td>P</td>\n",
       "      <td>2</td>\n",
       "      <td>19.0</td>\n",
       "      <td>70</td>\n",
       "    </tr>\n",
       "    <tr>\n",
       "      <th>11</th>\n",
       "      <td>MIS</td>\n",
       "      <td>F</td>\n",
       "      <td>7</td>\n",
       "      <td>71.0</td>\n",
       "      <td>A</td>\n",
       "      <td>2</td>\n",
       "      <td>NaN</td>\n",
       "      <td>84</td>\n",
       "    </tr>\n",
       "    <tr>\n",
       "      <th>15</th>\n",
       "      <td>MIS</td>\n",
       "      <td>F</td>\n",
       "      <td>4</td>\n",
       "      <td>75.0</td>\n",
       "      <td>P</td>\n",
       "      <td>2</td>\n",
       "      <td>20.0</td>\n",
       "      <td>80</td>\n",
       "    </tr>\n",
       "    <tr>\n",
       "      <th>19</th>\n",
       "      <td>MIS</td>\n",
       "      <td>F</td>\n",
       "      <td>7</td>\n",
       "      <td>82.0</td>\n",
       "      <td>A</td>\n",
       "      <td>2</td>\n",
       "      <td>20.0</td>\n",
       "      <td>88</td>\n",
       "    </tr>\n",
       "    <tr>\n",
       "      <th>20</th>\n",
       "      <td>MIS</td>\n",
       "      <td>M</td>\n",
       "      <td>4</td>\n",
       "      <td>72.0</td>\n",
       "      <td>P</td>\n",
       "      <td>2</td>\n",
       "      <td>19.0</td>\n",
       "      <td>75</td>\n",
       "    </tr>\n",
       "    <tr>\n",
       "      <th>21</th>\n",
       "      <td>BA</td>\n",
       "      <td>F</td>\n",
       "      <td>5</td>\n",
       "      <td>54.0</td>\n",
       "      <td>A</td>\n",
       "      <td>2</td>\n",
       "      <td>20.0</td>\n",
       "      <td>89</td>\n",
       "    </tr>\n",
       "    <tr>\n",
       "      <th>28</th>\n",
       "      <td>BA</td>\n",
       "      <td>F</td>\n",
       "      <td>5</td>\n",
       "      <td>66.0</td>\n",
       "      <td>A</td>\n",
       "      <td>2</td>\n",
       "      <td>20.0</td>\n",
       "      <td>82</td>\n",
       "    </tr>\n",
       "    <tr>\n",
       "      <th>30</th>\n",
       "      <td>ACC</td>\n",
       "      <td>F</td>\n",
       "      <td>3</td>\n",
       "      <td>56.0</td>\n",
       "      <td>A</td>\n",
       "      <td>2</td>\n",
       "      <td>20.0</td>\n",
       "      <td>90</td>\n",
       "    </tr>\n",
       "    <tr>\n",
       "      <th>31</th>\n",
       "      <td>ACC</td>\n",
       "      <td>F</td>\n",
       "      <td>3</td>\n",
       "      <td>57.0</td>\n",
       "      <td>A</td>\n",
       "      <td>2</td>\n",
       "      <td>NaN</td>\n",
       "      <td>82</td>\n",
       "    </tr>\n",
       "    <tr>\n",
       "      <th>36</th>\n",
       "      <td>ACC</td>\n",
       "      <td>M</td>\n",
       "      <td>5</td>\n",
       "      <td>58.0</td>\n",
       "      <td>A</td>\n",
       "      <td>2</td>\n",
       "      <td>NaN</td>\n",
       "      <td>88</td>\n",
       "    </tr>\n",
       "    <tr>\n",
       "      <th>43</th>\n",
       "      <td>CS</td>\n",
       "      <td>F</td>\n",
       "      <td>6</td>\n",
       "      <td>80.0</td>\n",
       "      <td>P</td>\n",
       "      <td>2</td>\n",
       "      <td>22.0</td>\n",
       "      <td>75</td>\n",
       "    </tr>\n",
       "    <tr>\n",
       "      <th>44</th>\n",
       "      <td>CS</td>\n",
       "      <td>F</td>\n",
       "      <td>6</td>\n",
       "      <td>65.0</td>\n",
       "      <td>P</td>\n",
       "      <td>2</td>\n",
       "      <td>19.0</td>\n",
       "      <td>65</td>\n",
       "    </tr>\n",
       "    <tr>\n",
       "      <th>46</th>\n",
       "      <td>CS</td>\n",
       "      <td>M</td>\n",
       "      <td>5</td>\n",
       "      <td>65.0</td>\n",
       "      <td>P</td>\n",
       "      <td>2</td>\n",
       "      <td>19.0</td>\n",
       "      <td>70</td>\n",
       "    </tr>\n",
       "    <tr>\n",
       "      <th>49</th>\n",
       "      <td>MIS</td>\n",
       "      <td>F</td>\n",
       "      <td>7</td>\n",
       "      <td>72.0</td>\n",
       "      <td>A</td>\n",
       "      <td>2</td>\n",
       "      <td>NaN</td>\n",
       "      <td>84</td>\n",
       "    </tr>\n",
       "    <tr>\n",
       "      <th>53</th>\n",
       "      <td>MIS</td>\n",
       "      <td>F</td>\n",
       "      <td>5</td>\n",
       "      <td>75.0</td>\n",
       "      <td>P</td>\n",
       "      <td>2</td>\n",
       "      <td>20.0</td>\n",
       "      <td>80</td>\n",
       "    </tr>\n",
       "    <tr>\n",
       "      <th>57</th>\n",
       "      <td>MIS</td>\n",
       "      <td>F</td>\n",
       "      <td>6</td>\n",
       "      <td>82.0</td>\n",
       "      <td>A</td>\n",
       "      <td>2</td>\n",
       "      <td>20.0</td>\n",
       "      <td>88</td>\n",
       "    </tr>\n",
       "    <tr>\n",
       "      <th>58</th>\n",
       "      <td>MIS</td>\n",
       "      <td>M</td>\n",
       "      <td>3</td>\n",
       "      <td>72.0</td>\n",
       "      <td>P</td>\n",
       "      <td>2</td>\n",
       "      <td>19.0</td>\n",
       "      <td>75</td>\n",
       "    </tr>\n",
       "    <tr>\n",
       "      <th>59</th>\n",
       "      <td>BA</td>\n",
       "      <td>F</td>\n",
       "      <td>6</td>\n",
       "      <td>54.0</td>\n",
       "      <td>A</td>\n",
       "      <td>2</td>\n",
       "      <td>20.0</td>\n",
       "      <td>89</td>\n",
       "    </tr>\n",
       "    <tr>\n",
       "      <th>66</th>\n",
       "      <td>BA</td>\n",
       "      <td>F</td>\n",
       "      <td>4</td>\n",
       "      <td>65.0</td>\n",
       "      <td>A</td>\n",
       "      <td>2</td>\n",
       "      <td>20.0</td>\n",
       "      <td>82</td>\n",
       "    </tr>\n",
       "    <tr>\n",
       "      <th>68</th>\n",
       "      <td>ACC</td>\n",
       "      <td>F</td>\n",
       "      <td>4</td>\n",
       "      <td>66.0</td>\n",
       "      <td>A</td>\n",
       "      <td>2</td>\n",
       "      <td>20.0</td>\n",
       "      <td>90</td>\n",
       "    </tr>\n",
       "    <tr>\n",
       "      <th>69</th>\n",
       "      <td>ACC</td>\n",
       "      <td>F</td>\n",
       "      <td>5</td>\n",
       "      <td>67.0</td>\n",
       "      <td>A</td>\n",
       "      <td>2</td>\n",
       "      <td>NaN</td>\n",
       "      <td>82</td>\n",
       "    </tr>\n",
       "    <tr>\n",
       "      <th>74</th>\n",
       "      <td>ACC</td>\n",
       "      <td>M</td>\n",
       "      <td>6</td>\n",
       "      <td>68.0</td>\n",
       "      <td>A</td>\n",
       "      <td>2</td>\n",
       "      <td>NaN</td>\n",
       "      <td>88</td>\n",
       "    </tr>\n",
       "  </tbody>\n",
       "</table>\n",
       "</div>"
      ],
      "text/plain": [
       "   Spec Gender  St_Hr  School_AV branch  level   Age  GPA\n",
       "5    CS      F      6       80.0      P      2  19.0   77\n",
       "6    CS      F      6       80.0      P      2  19.0   65\n",
       "8    CS      M      5       70.0      P      2  19.0   70\n",
       "11  MIS      F      7       71.0      A      2   NaN   84\n",
       "15  MIS      F      4       75.0      P      2  20.0   80\n",
       "19  MIS      F      7       82.0      A      2  20.0   88\n",
       "20  MIS      M      4       72.0      P      2  19.0   75\n",
       "21   BA      F      5       54.0      A      2  20.0   89\n",
       "28   BA      F      5       66.0      A      2  20.0   82\n",
       "30  ACC      F      3       56.0      A      2  20.0   90\n",
       "31  ACC      F      3       57.0      A      2   NaN   82\n",
       "36  ACC      M      5       58.0      A      2   NaN   88\n",
       "43   CS      F      6       80.0      P      2  22.0   75\n",
       "44   CS      F      6       65.0      P      2  19.0   65\n",
       "46   CS      M      5       65.0      P      2  19.0   70\n",
       "49  MIS      F      7       72.0      A      2   NaN   84\n",
       "53  MIS      F      5       75.0      P      2  20.0   80\n",
       "57  MIS      F      6       82.0      A      2  20.0   88\n",
       "58  MIS      M      3       72.0      P      2  19.0   75\n",
       "59   BA      F      6       54.0      A      2  20.0   89\n",
       "66   BA      F      4       65.0      A      2  20.0   82\n",
       "68  ACC      F      4       66.0      A      2  20.0   90\n",
       "69  ACC      F      5       67.0      A      2   NaN   82\n",
       "74  ACC      M      6       68.0      A      2   NaN   88"
      ]
     },
     "execution_count": 15,
     "metadata": {},
     "output_type": "execute_result"
    }
   ],
   "source": [
    "df2 = df[df['level']==2]\n",
    "df2"
   ]
  },
  {
   "cell_type": "code",
   "execution_count": 16,
   "id": "4f2aa9a8",
   "metadata": {
    "execution": {
     "iopub.execute_input": "2022-10-31T15:13:21.322057Z",
     "iopub.status.busy": "2022-10-31T15:13:21.321033Z",
     "iopub.status.idle": "2022-10-31T15:13:21.325015Z",
     "shell.execute_reply": "2022-10-31T15:13:21.325566Z",
     "shell.execute_reply.started": "2022-10-31T15:08:59.559302Z"
    },
    "papermill": {
     "duration": 0.075982,
     "end_time": "2022-10-31T15:13:21.325765",
     "exception": false,
     "start_time": "2022-10-31T15:13:21.249783",
     "status": "completed"
    },
    "tags": []
   },
   "outputs": [
    {
     "name": "stdout",
     "output_type": "stream",
     "text": [
      "19.72222222222222 20.0 20.0\n"
     ]
    }
   ],
   "source": [
    "mean = df2['Age'].mean()\n",
    "median = df2['Age'].median()\n",
    "mode = df2['Age'].mode()[0]\n",
    "\n",
    "print (mean, median, mode)"
   ]
  },
  {
   "cell_type": "code",
   "execution_count": 17,
   "id": "4ad33a74",
   "metadata": {
    "execution": {
     "iopub.execute_input": "2022-10-31T15:13:21.477411Z",
     "iopub.status.busy": "2022-10-31T15:13:21.476644Z",
     "iopub.status.idle": "2022-10-31T15:13:21.480359Z",
     "shell.execute_reply": "2022-10-31T15:13:21.479724Z",
     "shell.execute_reply.started": "2022-10-31T15:08:59.567097Z"
    },
    "papermill": {
     "duration": 0.090205,
     "end_time": "2022-10-31T15:13:21.480517",
     "exception": false,
     "start_time": "2022-10-31T15:13:21.390312",
     "status": "completed"
    },
    "tags": []
   },
   "outputs": [
    {
     "data": {
      "text/html": [
       "<div>\n",
       "<style scoped>\n",
       "    .dataframe tbody tr th:only-of-type {\n",
       "        vertical-align: middle;\n",
       "    }\n",
       "\n",
       "    .dataframe tbody tr th {\n",
       "        vertical-align: top;\n",
       "    }\n",
       "\n",
       "    .dataframe thead th {\n",
       "        text-align: right;\n",
       "    }\n",
       "</style>\n",
       "<table border=\"1\" class=\"dataframe\">\n",
       "  <thead>\n",
       "    <tr style=\"text-align: right;\">\n",
       "      <th></th>\n",
       "      <th>Spec</th>\n",
       "      <th>Gender</th>\n",
       "      <th>St_Hr</th>\n",
       "      <th>School_AV</th>\n",
       "      <th>branch</th>\n",
       "      <th>level</th>\n",
       "      <th>Age</th>\n",
       "      <th>GPA</th>\n",
       "    </tr>\n",
       "  </thead>\n",
       "  <tbody>\n",
       "    <tr>\n",
       "      <th>0</th>\n",
       "      <td>CS</td>\n",
       "      <td>F</td>\n",
       "      <td>6</td>\n",
       "      <td>80.0</td>\n",
       "      <td>P</td>\n",
       "      <td>3</td>\n",
       "      <td>20.0</td>\n",
       "      <td>78</td>\n",
       "    </tr>\n",
       "    <tr>\n",
       "      <th>1</th>\n",
       "      <td>CS</td>\n",
       "      <td>F</td>\n",
       "      <td>7</td>\n",
       "      <td>82.0</td>\n",
       "      <td>P</td>\n",
       "      <td>4</td>\n",
       "      <td>22.0</td>\n",
       "      <td>73</td>\n",
       "    </tr>\n",
       "    <tr>\n",
       "      <th>2</th>\n",
       "      <td>CS</td>\n",
       "      <td>F</td>\n",
       "      <td>4</td>\n",
       "      <td>81.0</td>\n",
       "      <td>P</td>\n",
       "      <td>3</td>\n",
       "      <td>20.0</td>\n",
       "      <td>80</td>\n",
       "    </tr>\n",
       "    <tr>\n",
       "      <th>3</th>\n",
       "      <td>CS</td>\n",
       "      <td>M</td>\n",
       "      <td>3</td>\n",
       "      <td>NaN</td>\n",
       "      <td>P</td>\n",
       "      <td>3</td>\n",
       "      <td>22.0</td>\n",
       "      <td>67</td>\n",
       "    </tr>\n",
       "    <tr>\n",
       "      <th>5</th>\n",
       "      <td>CS</td>\n",
       "      <td>F</td>\n",
       "      <td>6</td>\n",
       "      <td>80.0</td>\n",
       "      <td>P</td>\n",
       "      <td>2</td>\n",
       "      <td>19.0</td>\n",
       "      <td>77</td>\n",
       "    </tr>\n",
       "    <tr>\n",
       "      <th>...</th>\n",
       "      <td>...</td>\n",
       "      <td>...</td>\n",
       "      <td>...</td>\n",
       "      <td>...</td>\n",
       "      <td>...</td>\n",
       "      <td>...</td>\n",
       "      <td>...</td>\n",
       "      <td>...</td>\n",
       "    </tr>\n",
       "    <tr>\n",
       "      <th>70</th>\n",
       "      <td>ACC</td>\n",
       "      <td>F</td>\n",
       "      <td>5</td>\n",
       "      <td>65.0</td>\n",
       "      <td>A</td>\n",
       "      <td>3</td>\n",
       "      <td>22.0</td>\n",
       "      <td>81</td>\n",
       "    </tr>\n",
       "    <tr>\n",
       "      <th>71</th>\n",
       "      <td>ACC</td>\n",
       "      <td>F</td>\n",
       "      <td>5</td>\n",
       "      <td>64.0</td>\n",
       "      <td>A</td>\n",
       "      <td>4</td>\n",
       "      <td>23.0</td>\n",
       "      <td>83</td>\n",
       "    </tr>\n",
       "    <tr>\n",
       "      <th>72</th>\n",
       "      <td>ACC</td>\n",
       "      <td>F</td>\n",
       "      <td>6</td>\n",
       "      <td>67.0</td>\n",
       "      <td>A</td>\n",
       "      <td>4</td>\n",
       "      <td>22.0</td>\n",
       "      <td>82</td>\n",
       "    </tr>\n",
       "    <tr>\n",
       "      <th>74</th>\n",
       "      <td>ACC</td>\n",
       "      <td>M</td>\n",
       "      <td>6</td>\n",
       "      <td>68.0</td>\n",
       "      <td>A</td>\n",
       "      <td>2</td>\n",
       "      <td>NaN</td>\n",
       "      <td>88</td>\n",
       "    </tr>\n",
       "    <tr>\n",
       "      <th>75</th>\n",
       "      <td>ACC</td>\n",
       "      <td>F</td>\n",
       "      <td>5</td>\n",
       "      <td>70.0</td>\n",
       "      <td>P</td>\n",
       "      <td>3</td>\n",
       "      <td>25.0</td>\n",
       "      <td>80</td>\n",
       "    </tr>\n",
       "  </tbody>\n",
       "</table>\n",
       "<p>71 rows × 8 columns</p>\n",
       "</div>"
      ],
      "text/plain": [
       "   Spec Gender  St_Hr  School_AV branch  level   Age  GPA\n",
       "0    CS      F      6       80.0      P      3  20.0   78\n",
       "1    CS      F      7       82.0      P      4  22.0   73\n",
       "2    CS      F      4       81.0      P      3  20.0   80\n",
       "3    CS      M      3        NaN      P      3  22.0   67\n",
       "5    CS      F      6       80.0      P      2  19.0   77\n",
       "..  ...    ...    ...        ...    ...    ...   ...  ...\n",
       "70  ACC      F      5       65.0      A      3  22.0   81\n",
       "71  ACC      F      5       64.0      A      4  23.0   83\n",
       "72  ACC      F      6       67.0      A      4  22.0   82\n",
       "74  ACC      M      6       68.0      A      2   NaN   88\n",
       "75  ACC      F      5       70.0      P      3  25.0   80\n",
       "\n",
       "[71 rows x 8 columns]"
      ]
     },
     "execution_count": 17,
     "metadata": {},
     "output_type": "execute_result"
    }
   ],
   "source": [
    "df"
   ]
  },
  {
   "cell_type": "code",
   "execution_count": 18,
   "id": "a02330fd",
   "metadata": {
    "execution": {
     "iopub.execute_input": "2022-10-31T15:13:21.616259Z",
     "iopub.status.busy": "2022-10-31T15:13:21.615562Z",
     "iopub.status.idle": "2022-10-31T15:13:21.619233Z",
     "shell.execute_reply": "2022-10-31T15:13:21.618674Z",
     "shell.execute_reply.started": "2022-10-31T15:08:59.594211Z"
    },
    "papermill": {
     "duration": 0.074262,
     "end_time": "2022-10-31T15:13:21.619379",
     "exception": false,
     "start_time": "2022-10-31T15:13:21.545117",
     "status": "completed"
    },
    "tags": []
   },
   "outputs": [],
   "source": [
    "df[\"Age\"].fillna(median, inplace = True)"
   ]
  },
  {
   "cell_type": "code",
   "execution_count": 19,
   "id": "32e5c5e2",
   "metadata": {
    "execution": {
     "iopub.execute_input": "2022-10-31T15:13:21.769874Z",
     "iopub.status.busy": "2022-10-31T15:13:21.768857Z",
     "iopub.status.idle": "2022-10-31T15:13:21.773489Z",
     "shell.execute_reply": "2022-10-31T15:13:21.772945Z",
     "shell.execute_reply.started": "2022-10-31T15:08:59.599855Z"
    },
    "papermill": {
     "duration": 0.089133,
     "end_time": "2022-10-31T15:13:21.773645",
     "exception": false,
     "start_time": "2022-10-31T15:13:21.684512",
     "status": "completed"
    },
    "tags": []
   },
   "outputs": [
    {
     "data": {
      "text/html": [
       "<div>\n",
       "<style scoped>\n",
       "    .dataframe tbody tr th:only-of-type {\n",
       "        vertical-align: middle;\n",
       "    }\n",
       "\n",
       "    .dataframe tbody tr th {\n",
       "        vertical-align: top;\n",
       "    }\n",
       "\n",
       "    .dataframe thead th {\n",
       "        text-align: right;\n",
       "    }\n",
       "</style>\n",
       "<table border=\"1\" class=\"dataframe\">\n",
       "  <thead>\n",
       "    <tr style=\"text-align: right;\">\n",
       "      <th></th>\n",
       "      <th>Spec</th>\n",
       "      <th>Gender</th>\n",
       "      <th>St_Hr</th>\n",
       "      <th>School_AV</th>\n",
       "      <th>branch</th>\n",
       "      <th>level</th>\n",
       "      <th>Age</th>\n",
       "      <th>GPA</th>\n",
       "    </tr>\n",
       "  </thead>\n",
       "  <tbody>\n",
       "    <tr>\n",
       "      <th>0</th>\n",
       "      <td>CS</td>\n",
       "      <td>F</td>\n",
       "      <td>6</td>\n",
       "      <td>80.0</td>\n",
       "      <td>P</td>\n",
       "      <td>3</td>\n",
       "      <td>20.0</td>\n",
       "      <td>78</td>\n",
       "    </tr>\n",
       "    <tr>\n",
       "      <th>1</th>\n",
       "      <td>CS</td>\n",
       "      <td>F</td>\n",
       "      <td>7</td>\n",
       "      <td>82.0</td>\n",
       "      <td>P</td>\n",
       "      <td>4</td>\n",
       "      <td>22.0</td>\n",
       "      <td>73</td>\n",
       "    </tr>\n",
       "    <tr>\n",
       "      <th>2</th>\n",
       "      <td>CS</td>\n",
       "      <td>F</td>\n",
       "      <td>4</td>\n",
       "      <td>81.0</td>\n",
       "      <td>P</td>\n",
       "      <td>3</td>\n",
       "      <td>20.0</td>\n",
       "      <td>80</td>\n",
       "    </tr>\n",
       "    <tr>\n",
       "      <th>3</th>\n",
       "      <td>CS</td>\n",
       "      <td>M</td>\n",
       "      <td>3</td>\n",
       "      <td>NaN</td>\n",
       "      <td>P</td>\n",
       "      <td>3</td>\n",
       "      <td>22.0</td>\n",
       "      <td>67</td>\n",
       "    </tr>\n",
       "    <tr>\n",
       "      <th>5</th>\n",
       "      <td>CS</td>\n",
       "      <td>F</td>\n",
       "      <td>6</td>\n",
       "      <td>80.0</td>\n",
       "      <td>P</td>\n",
       "      <td>2</td>\n",
       "      <td>19.0</td>\n",
       "      <td>77</td>\n",
       "    </tr>\n",
       "    <tr>\n",
       "      <th>...</th>\n",
       "      <td>...</td>\n",
       "      <td>...</td>\n",
       "      <td>...</td>\n",
       "      <td>...</td>\n",
       "      <td>...</td>\n",
       "      <td>...</td>\n",
       "      <td>...</td>\n",
       "      <td>...</td>\n",
       "    </tr>\n",
       "    <tr>\n",
       "      <th>70</th>\n",
       "      <td>ACC</td>\n",
       "      <td>F</td>\n",
       "      <td>5</td>\n",
       "      <td>65.0</td>\n",
       "      <td>A</td>\n",
       "      <td>3</td>\n",
       "      <td>22.0</td>\n",
       "      <td>81</td>\n",
       "    </tr>\n",
       "    <tr>\n",
       "      <th>71</th>\n",
       "      <td>ACC</td>\n",
       "      <td>F</td>\n",
       "      <td>5</td>\n",
       "      <td>64.0</td>\n",
       "      <td>A</td>\n",
       "      <td>4</td>\n",
       "      <td>23.0</td>\n",
       "      <td>83</td>\n",
       "    </tr>\n",
       "    <tr>\n",
       "      <th>72</th>\n",
       "      <td>ACC</td>\n",
       "      <td>F</td>\n",
       "      <td>6</td>\n",
       "      <td>67.0</td>\n",
       "      <td>A</td>\n",
       "      <td>4</td>\n",
       "      <td>22.0</td>\n",
       "      <td>82</td>\n",
       "    </tr>\n",
       "    <tr>\n",
       "      <th>74</th>\n",
       "      <td>ACC</td>\n",
       "      <td>M</td>\n",
       "      <td>6</td>\n",
       "      <td>68.0</td>\n",
       "      <td>A</td>\n",
       "      <td>2</td>\n",
       "      <td>20.0</td>\n",
       "      <td>88</td>\n",
       "    </tr>\n",
       "    <tr>\n",
       "      <th>75</th>\n",
       "      <td>ACC</td>\n",
       "      <td>F</td>\n",
       "      <td>5</td>\n",
       "      <td>70.0</td>\n",
       "      <td>P</td>\n",
       "      <td>3</td>\n",
       "      <td>25.0</td>\n",
       "      <td>80</td>\n",
       "    </tr>\n",
       "  </tbody>\n",
       "</table>\n",
       "<p>71 rows × 8 columns</p>\n",
       "</div>"
      ],
      "text/plain": [
       "   Spec Gender  St_Hr  School_AV branch  level   Age  GPA\n",
       "0    CS      F      6       80.0      P      3  20.0   78\n",
       "1    CS      F      7       82.0      P      4  22.0   73\n",
       "2    CS      F      4       81.0      P      3  20.0   80\n",
       "3    CS      M      3        NaN      P      3  22.0   67\n",
       "5    CS      F      6       80.0      P      2  19.0   77\n",
       "..  ...    ...    ...        ...    ...    ...   ...  ...\n",
       "70  ACC      F      5       65.0      A      3  22.0   81\n",
       "71  ACC      F      5       64.0      A      4  23.0   83\n",
       "72  ACC      F      6       67.0      A      4  22.0   82\n",
       "74  ACC      M      6       68.0      A      2  20.0   88\n",
       "75  ACC      F      5       70.0      P      3  25.0   80\n",
       "\n",
       "[71 rows x 8 columns]"
      ]
     },
     "execution_count": 19,
     "metadata": {},
     "output_type": "execute_result"
    }
   ],
   "source": [
    "df"
   ]
  },
  {
   "cell_type": "code",
   "execution_count": 20,
   "id": "e7c765d5",
   "metadata": {
    "execution": {
     "iopub.execute_input": "2022-10-31T15:13:21.914576Z",
     "iopub.status.busy": "2022-10-31T15:13:21.912937Z",
     "iopub.status.idle": "2022-10-31T15:13:21.918308Z",
     "shell.execute_reply": "2022-10-31T15:13:21.917760Z",
     "shell.execute_reply.started": "2022-10-31T15:08:59.627439Z"
    },
    "papermill": {
     "duration": 0.078949,
     "end_time": "2022-10-31T15:13:21.918508",
     "exception": false,
     "start_time": "2022-10-31T15:13:21.839559",
     "status": "completed"
    },
    "tags": []
   },
   "outputs": [
    {
     "data": {
      "text/plain": [
       "Spec         0\n",
       "Gender       2\n",
       "St_Hr        0\n",
       "School_AV    2\n",
       "branch       0\n",
       "level        0\n",
       "Age          0\n",
       "GPA          0\n",
       "dtype: int64"
      ]
     },
     "execution_count": 20,
     "metadata": {},
     "output_type": "execute_result"
    }
   ],
   "source": [
    "df.isna().sum()"
   ]
  },
  {
   "cell_type": "markdown",
   "id": "2a201722",
   "metadata": {
    "papermill": {
     "duration": 0.065601,
     "end_time": "2022-10-31T15:13:22.049819",
     "exception": false,
     "start_time": "2022-10-31T15:13:21.984218",
     "status": "completed"
    },
    "tags": []
   },
   "source": [
    "### Gender Missing Value"
   ]
  },
  {
   "cell_type": "code",
   "execution_count": 21,
   "id": "a69e674a",
   "metadata": {
    "execution": {
     "iopub.execute_input": "2022-10-31T15:13:22.190355Z",
     "iopub.status.busy": "2022-10-31T15:13:22.189695Z",
     "iopub.status.idle": "2022-10-31T15:13:22.193890Z",
     "shell.execute_reply": "2022-10-31T15:13:22.193233Z",
     "shell.execute_reply.started": "2022-10-31T15:08:59.636000Z"
    },
    "papermill": {
     "duration": 0.076406,
     "end_time": "2022-10-31T15:13:22.194038",
     "exception": false,
     "start_time": "2022-10-31T15:13:22.117632",
     "status": "completed"
    },
    "tags": []
   },
   "outputs": [
    {
     "data": {
      "text/plain": [
       "'F'"
      ]
     },
     "execution_count": 21,
     "metadata": {},
     "output_type": "execute_result"
    }
   ],
   "source": [
    "gen = df['Gender'].mode()[0]\n",
    "gen"
   ]
  },
  {
   "cell_type": "code",
   "execution_count": 22,
   "id": "0c3fe02d",
   "metadata": {
    "execution": {
     "iopub.execute_input": "2022-10-31T15:13:22.331862Z",
     "iopub.status.busy": "2022-10-31T15:13:22.331131Z",
     "iopub.status.idle": "2022-10-31T15:13:22.333971Z",
     "shell.execute_reply": "2022-10-31T15:13:22.333381Z",
     "shell.execute_reply.started": "2022-10-31T15:08:59.649242Z"
    },
    "papermill": {
     "duration": 0.074724,
     "end_time": "2022-10-31T15:13:22.334131",
     "exception": false,
     "start_time": "2022-10-31T15:13:22.259407",
     "status": "completed"
    },
    "tags": []
   },
   "outputs": [],
   "source": [
    "df[\"Gender\"].fillna(gen, inplace = True)"
   ]
  },
  {
   "cell_type": "code",
   "execution_count": 23,
   "id": "2835596f",
   "metadata": {
    "execution": {
     "iopub.execute_input": "2022-10-31T15:13:22.475622Z",
     "iopub.status.busy": "2022-10-31T15:13:22.472812Z",
     "iopub.status.idle": "2022-10-31T15:13:22.479472Z",
     "shell.execute_reply": "2022-10-31T15:13:22.478884Z",
     "shell.execute_reply.started": "2022-10-31T15:08:59.660607Z"
    },
    "papermill": {
     "duration": 0.079514,
     "end_time": "2022-10-31T15:13:22.479644",
     "exception": false,
     "start_time": "2022-10-31T15:13:22.400130",
     "status": "completed"
    },
    "tags": []
   },
   "outputs": [
    {
     "data": {
      "text/plain": [
       "Spec         0\n",
       "Gender       0\n",
       "St_Hr        0\n",
       "School_AV    2\n",
       "branch       0\n",
       "level        0\n",
       "Age          0\n",
       "GPA          0\n",
       "dtype: int64"
      ]
     },
     "execution_count": 23,
     "metadata": {},
     "output_type": "execute_result"
    }
   ],
   "source": [
    "df.isna().sum()"
   ]
  },
  {
   "cell_type": "code",
   "execution_count": 24,
   "id": "1aa17920",
   "metadata": {
    "execution": {
     "iopub.execute_input": "2022-10-31T15:13:22.629772Z",
     "iopub.status.busy": "2022-10-31T15:13:22.628638Z",
     "iopub.status.idle": "2022-10-31T15:13:22.633627Z",
     "shell.execute_reply": "2022-10-31T15:13:22.632916Z",
     "shell.execute_reply.started": "2022-10-31T15:08:59.674218Z"
    },
    "papermill": {
     "duration": 0.086662,
     "end_time": "2022-10-31T15:13:22.633798",
     "exception": false,
     "start_time": "2022-10-31T15:13:22.547136",
     "status": "completed"
    },
    "tags": []
   },
   "outputs": [
    {
     "data": {
      "text/html": [
       "<div>\n",
       "<style scoped>\n",
       "    .dataframe tbody tr th:only-of-type {\n",
       "        vertical-align: middle;\n",
       "    }\n",
       "\n",
       "    .dataframe tbody tr th {\n",
       "        vertical-align: top;\n",
       "    }\n",
       "\n",
       "    .dataframe thead th {\n",
       "        text-align: right;\n",
       "    }\n",
       "</style>\n",
       "<table border=\"1\" class=\"dataframe\">\n",
       "  <thead>\n",
       "    <tr style=\"text-align: right;\">\n",
       "      <th></th>\n",
       "      <th>Spec</th>\n",
       "      <th>Gender</th>\n",
       "      <th>St_Hr</th>\n",
       "      <th>School_AV</th>\n",
       "      <th>branch</th>\n",
       "      <th>level</th>\n",
       "      <th>Age</th>\n",
       "      <th>GPA</th>\n",
       "    </tr>\n",
       "  </thead>\n",
       "  <tbody>\n",
       "    <tr>\n",
       "      <th>3</th>\n",
       "      <td>CS</td>\n",
       "      <td>M</td>\n",
       "      <td>3</td>\n",
       "      <td>NaN</td>\n",
       "      <td>P</td>\n",
       "      <td>3</td>\n",
       "      <td>22.0</td>\n",
       "      <td>67</td>\n",
       "    </tr>\n",
       "    <tr>\n",
       "      <th>42</th>\n",
       "      <td>CS</td>\n",
       "      <td>M</td>\n",
       "      <td>3</td>\n",
       "      <td>NaN</td>\n",
       "      <td>P</td>\n",
       "      <td>3</td>\n",
       "      <td>22.0</td>\n",
       "      <td>64</td>\n",
       "    </tr>\n",
       "  </tbody>\n",
       "</table>\n",
       "</div>"
      ],
      "text/plain": [
       "   Spec Gender  St_Hr  School_AV branch  level   Age  GPA\n",
       "3    CS      M      3        NaN      P      3  22.0   67\n",
       "42   CS      M      3        NaN      P      3  22.0   64"
      ]
     },
     "execution_count": 24,
     "metadata": {},
     "output_type": "execute_result"
    }
   ],
   "source": [
    "df1=df[ df['School_AV'].isna()]\n",
    "df1"
   ]
  },
  {
   "cell_type": "code",
   "execution_count": 25,
   "id": "efa01ae5",
   "metadata": {
    "execution": {
     "iopub.execute_input": "2022-10-31T15:13:22.777597Z",
     "iopub.status.busy": "2022-10-31T15:13:22.776916Z",
     "iopub.status.idle": "2022-10-31T15:13:22.780395Z",
     "shell.execute_reply": "2022-10-31T15:13:22.780913Z",
     "shell.execute_reply.started": "2022-10-31T15:08:59.692089Z"
    },
    "papermill": {
     "duration": 0.079974,
     "end_time": "2022-10-31T15:13:22.781110",
     "exception": false,
     "start_time": "2022-10-31T15:13:22.701136",
     "status": "completed"
    },
    "tags": []
   },
   "outputs": [
    {
     "data": {
      "text/plain": [
       "'CS'"
      ]
     },
     "execution_count": 25,
     "metadata": {},
     "output_type": "execute_result"
    }
   ],
   "source": [
    "maj = df1['Spec'].mode()[0]\n",
    "maj"
   ]
  },
  {
   "cell_type": "code",
   "execution_count": 26,
   "id": "505df12b",
   "metadata": {
    "execution": {
     "iopub.execute_input": "2022-10-31T15:13:22.939029Z",
     "iopub.status.busy": "2022-10-31T15:13:22.924106Z",
     "iopub.status.idle": "2022-10-31T15:13:22.942932Z",
     "shell.execute_reply": "2022-10-31T15:13:22.943715Z",
     "shell.execute_reply.started": "2022-10-31T15:08:59.702900Z"
    },
    "papermill": {
     "duration": 0.09603,
     "end_time": "2022-10-31T15:13:22.943955",
     "exception": false,
     "start_time": "2022-10-31T15:13:22.847925",
     "status": "completed"
    },
    "tags": []
   },
   "outputs": [
    {
     "data": {
      "text/html": [
       "<div>\n",
       "<style scoped>\n",
       "    .dataframe tbody tr th:only-of-type {\n",
       "        vertical-align: middle;\n",
       "    }\n",
       "\n",
       "    .dataframe tbody tr th {\n",
       "        vertical-align: top;\n",
       "    }\n",
       "\n",
       "    .dataframe thead th {\n",
       "        text-align: right;\n",
       "    }\n",
       "</style>\n",
       "<table border=\"1\" class=\"dataframe\">\n",
       "  <thead>\n",
       "    <tr style=\"text-align: right;\">\n",
       "      <th></th>\n",
       "      <th>Spec</th>\n",
       "      <th>Gender</th>\n",
       "      <th>St_Hr</th>\n",
       "      <th>School_AV</th>\n",
       "      <th>branch</th>\n",
       "      <th>level</th>\n",
       "      <th>Age</th>\n",
       "      <th>GPA</th>\n",
       "    </tr>\n",
       "  </thead>\n",
       "  <tbody>\n",
       "    <tr>\n",
       "      <th>0</th>\n",
       "      <td>CS</td>\n",
       "      <td>F</td>\n",
       "      <td>6</td>\n",
       "      <td>80.0</td>\n",
       "      <td>P</td>\n",
       "      <td>3</td>\n",
       "      <td>20.0</td>\n",
       "      <td>78</td>\n",
       "    </tr>\n",
       "    <tr>\n",
       "      <th>1</th>\n",
       "      <td>CS</td>\n",
       "      <td>F</td>\n",
       "      <td>7</td>\n",
       "      <td>82.0</td>\n",
       "      <td>P</td>\n",
       "      <td>4</td>\n",
       "      <td>22.0</td>\n",
       "      <td>73</td>\n",
       "    </tr>\n",
       "    <tr>\n",
       "      <th>2</th>\n",
       "      <td>CS</td>\n",
       "      <td>F</td>\n",
       "      <td>4</td>\n",
       "      <td>81.0</td>\n",
       "      <td>P</td>\n",
       "      <td>3</td>\n",
       "      <td>20.0</td>\n",
       "      <td>80</td>\n",
       "    </tr>\n",
       "    <tr>\n",
       "      <th>3</th>\n",
       "      <td>CS</td>\n",
       "      <td>M</td>\n",
       "      <td>3</td>\n",
       "      <td>NaN</td>\n",
       "      <td>P</td>\n",
       "      <td>3</td>\n",
       "      <td>22.0</td>\n",
       "      <td>67</td>\n",
       "    </tr>\n",
       "    <tr>\n",
       "      <th>5</th>\n",
       "      <td>CS</td>\n",
       "      <td>F</td>\n",
       "      <td>6</td>\n",
       "      <td>80.0</td>\n",
       "      <td>P</td>\n",
       "      <td>2</td>\n",
       "      <td>19.0</td>\n",
       "      <td>77</td>\n",
       "    </tr>\n",
       "    <tr>\n",
       "      <th>6</th>\n",
       "      <td>CS</td>\n",
       "      <td>F</td>\n",
       "      <td>6</td>\n",
       "      <td>80.0</td>\n",
       "      <td>P</td>\n",
       "      <td>2</td>\n",
       "      <td>19.0</td>\n",
       "      <td>65</td>\n",
       "    </tr>\n",
       "    <tr>\n",
       "      <th>7</th>\n",
       "      <td>CS</td>\n",
       "      <td>F</td>\n",
       "      <td>7</td>\n",
       "      <td>81.0</td>\n",
       "      <td>P</td>\n",
       "      <td>4</td>\n",
       "      <td>23.0</td>\n",
       "      <td>72</td>\n",
       "    </tr>\n",
       "    <tr>\n",
       "      <th>8</th>\n",
       "      <td>CS</td>\n",
       "      <td>M</td>\n",
       "      <td>5</td>\n",
       "      <td>70.0</td>\n",
       "      <td>P</td>\n",
       "      <td>2</td>\n",
       "      <td>19.0</td>\n",
       "      <td>70</td>\n",
       "    </tr>\n",
       "    <tr>\n",
       "      <th>9</th>\n",
       "      <td>CS</td>\n",
       "      <td>M</td>\n",
       "      <td>6</td>\n",
       "      <td>77.0</td>\n",
       "      <td>P</td>\n",
       "      <td>1</td>\n",
       "      <td>18.0</td>\n",
       "      <td>76</td>\n",
       "    </tr>\n",
       "    <tr>\n",
       "      <th>10</th>\n",
       "      <td>CS</td>\n",
       "      <td>F</td>\n",
       "      <td>3</td>\n",
       "      <td>81.0</td>\n",
       "      <td>P</td>\n",
       "      <td>1</td>\n",
       "      <td>20.0</td>\n",
       "      <td>65</td>\n",
       "    </tr>\n",
       "    <tr>\n",
       "      <th>38</th>\n",
       "      <td>CS</td>\n",
       "      <td>F</td>\n",
       "      <td>5</td>\n",
       "      <td>56.0</td>\n",
       "      <td>P</td>\n",
       "      <td>3</td>\n",
       "      <td>20.0</td>\n",
       "      <td>75</td>\n",
       "    </tr>\n",
       "    <tr>\n",
       "      <th>39</th>\n",
       "      <td>CS</td>\n",
       "      <td>F</td>\n",
       "      <td>7</td>\n",
       "      <td>88.0</td>\n",
       "      <td>P</td>\n",
       "      <td>6</td>\n",
       "      <td>22.0</td>\n",
       "      <td>75</td>\n",
       "    </tr>\n",
       "    <tr>\n",
       "      <th>40</th>\n",
       "      <td>CS</td>\n",
       "      <td>M</td>\n",
       "      <td>4</td>\n",
       "      <td>75.0</td>\n",
       "      <td>P</td>\n",
       "      <td>3</td>\n",
       "      <td>20.0</td>\n",
       "      <td>80</td>\n",
       "    </tr>\n",
       "    <tr>\n",
       "      <th>42</th>\n",
       "      <td>CS</td>\n",
       "      <td>M</td>\n",
       "      <td>3</td>\n",
       "      <td>NaN</td>\n",
       "      <td>P</td>\n",
       "      <td>3</td>\n",
       "      <td>22.0</td>\n",
       "      <td>64</td>\n",
       "    </tr>\n",
       "    <tr>\n",
       "      <th>43</th>\n",
       "      <td>CS</td>\n",
       "      <td>F</td>\n",
       "      <td>6</td>\n",
       "      <td>80.0</td>\n",
       "      <td>P</td>\n",
       "      <td>2</td>\n",
       "      <td>22.0</td>\n",
       "      <td>75</td>\n",
       "    </tr>\n",
       "    <tr>\n",
       "      <th>44</th>\n",
       "      <td>CS</td>\n",
       "      <td>F</td>\n",
       "      <td>6</td>\n",
       "      <td>65.0</td>\n",
       "      <td>P</td>\n",
       "      <td>2</td>\n",
       "      <td>19.0</td>\n",
       "      <td>65</td>\n",
       "    </tr>\n",
       "    <tr>\n",
       "      <th>45</th>\n",
       "      <td>CS</td>\n",
       "      <td>F</td>\n",
       "      <td>5</td>\n",
       "      <td>81.0</td>\n",
       "      <td>P</td>\n",
       "      <td>4</td>\n",
       "      <td>23.0</td>\n",
       "      <td>73</td>\n",
       "    </tr>\n",
       "    <tr>\n",
       "      <th>46</th>\n",
       "      <td>CS</td>\n",
       "      <td>M</td>\n",
       "      <td>5</td>\n",
       "      <td>65.0</td>\n",
       "      <td>P</td>\n",
       "      <td>2</td>\n",
       "      <td>19.0</td>\n",
       "      <td>70</td>\n",
       "    </tr>\n",
       "    <tr>\n",
       "      <th>47</th>\n",
       "      <td>CS</td>\n",
       "      <td>M</td>\n",
       "      <td>6</td>\n",
       "      <td>89.0</td>\n",
       "      <td>P</td>\n",
       "      <td>1</td>\n",
       "      <td>18.0</td>\n",
       "      <td>76</td>\n",
       "    </tr>\n",
       "    <tr>\n",
       "      <th>48</th>\n",
       "      <td>CS</td>\n",
       "      <td>F</td>\n",
       "      <td>3</td>\n",
       "      <td>81.0</td>\n",
       "      <td>P</td>\n",
       "      <td>1</td>\n",
       "      <td>20.0</td>\n",
       "      <td>60</td>\n",
       "    </tr>\n",
       "  </tbody>\n",
       "</table>\n",
       "</div>"
      ],
      "text/plain": [
       "   Spec Gender  St_Hr  School_AV branch  level   Age  GPA\n",
       "0    CS      F      6       80.0      P      3  20.0   78\n",
       "1    CS      F      7       82.0      P      4  22.0   73\n",
       "2    CS      F      4       81.0      P      3  20.0   80\n",
       "3    CS      M      3        NaN      P      3  22.0   67\n",
       "5    CS      F      6       80.0      P      2  19.0   77\n",
       "6    CS      F      6       80.0      P      2  19.0   65\n",
       "7    CS      F      7       81.0      P      4  23.0   72\n",
       "8    CS      M      5       70.0      P      2  19.0   70\n",
       "9    CS      M      6       77.0      P      1  18.0   76\n",
       "10   CS      F      3       81.0      P      1  20.0   65\n",
       "38   CS      F      5       56.0      P      3  20.0   75\n",
       "39   CS      F      7       88.0      P      6  22.0   75\n",
       "40   CS      M      4       75.0      P      3  20.0   80\n",
       "42   CS      M      3        NaN      P      3  22.0   64\n",
       "43   CS      F      6       80.0      P      2  22.0   75\n",
       "44   CS      F      6       65.0      P      2  19.0   65\n",
       "45   CS      F      5       81.0      P      4  23.0   73\n",
       "46   CS      M      5       65.0      P      2  19.0   70\n",
       "47   CS      M      6       89.0      P      1  18.0   76\n",
       "48   CS      F      3       81.0      P      1  20.0   60"
      ]
     },
     "execution_count": 26,
     "metadata": {},
     "output_type": "execute_result"
    }
   ],
   "source": [
    "df2 =df[df['Spec'] == maj]\n",
    "df2"
   ]
  },
  {
   "cell_type": "markdown",
   "id": "8720eaa1",
   "metadata": {
    "papermill": {
     "duration": 0.0674,
     "end_time": "2022-10-31T15:13:23.110700",
     "exception": false,
     "start_time": "2022-10-31T15:13:23.043300",
     "status": "completed"
    },
    "tags": []
   },
   "source": [
    "### School Average Missing value\n",
    "the mean, median, or the mode, for all students can be considered. However, each specialisation may take differen school average, therefore, it is better to calculate the mean, median, and the mode for the specialisation of the missing value."
   ]
  },
  {
   "cell_type": "code",
   "execution_count": 27,
   "id": "c88a8ecd",
   "metadata": {
    "execution": {
     "iopub.execute_input": "2022-10-31T15:13:23.249735Z",
     "iopub.status.busy": "2022-10-31T15:13:23.249051Z",
     "iopub.status.idle": "2022-10-31T15:13:23.256372Z",
     "shell.execute_reply": "2022-10-31T15:13:23.257085Z",
     "shell.execute_reply.started": "2022-10-31T15:08:59.725775Z"
    },
    "papermill": {
     "duration": 0.079228,
     "end_time": "2022-10-31T15:13:23.257297",
     "exception": false,
     "start_time": "2022-10-31T15:13:23.178069",
     "status": "completed"
    },
    "tags": []
   },
   "outputs": [
    {
     "name": "stdout",
     "output_type": "stream",
     "text": [
      "70.18840579710145 70.0 66.0\n"
     ]
    }
   ],
   "source": [
    "# All Specialisations\n",
    "mean = df['School_AV'].mean()\n",
    "median = df['School_AV'].median()\n",
    "mode = df['School_AV'].mode()[0]\n",
    "print (mean, median, mode)"
   ]
  },
  {
   "cell_type": "code",
   "execution_count": 28,
   "id": "888550df",
   "metadata": {
    "execution": {
     "iopub.execute_input": "2022-10-31T15:13:23.405213Z",
     "iopub.status.busy": "2022-10-31T15:13:23.404080Z",
     "iopub.status.idle": "2022-10-31T15:13:23.409508Z",
     "shell.execute_reply": "2022-10-31T15:13:23.408822Z",
     "shell.execute_reply.started": "2022-10-31T15:08:59.732918Z"
    },
    "papermill": {
     "duration": 0.083111,
     "end_time": "2022-10-31T15:13:23.409658",
     "exception": false,
     "start_time": "2022-10-31T15:13:23.326547",
     "status": "completed"
    },
    "tags": []
   },
   "outputs": [
    {
     "name": "stdout",
     "output_type": "stream",
     "text": [
      "77.33333333333333 80.0 81.0\n"
     ]
    }
   ],
   "source": [
    "mean = df2['School_AV'].mean()\n",
    "median = df2['School_AV'].median()\n",
    "mode = df2['School_AV'].mode()[0]\n",
    "print (mean, median, mode)"
   ]
  },
  {
   "cell_type": "code",
   "execution_count": 29,
   "id": "9415ff71",
   "metadata": {
    "execution": {
     "iopub.execute_input": "2022-10-31T15:13:23.555284Z",
     "iopub.status.busy": "2022-10-31T15:13:23.554144Z",
     "iopub.status.idle": "2022-10-31T15:13:23.557045Z",
     "shell.execute_reply": "2022-10-31T15:13:23.556370Z",
     "shell.execute_reply.started": "2022-10-31T15:08:59.746405Z"
    },
    "papermill": {
     "duration": 0.078915,
     "end_time": "2022-10-31T15:13:23.557205",
     "exception": false,
     "start_time": "2022-10-31T15:13:23.478290",
     "status": "completed"
    },
    "tags": []
   },
   "outputs": [],
   "source": [
    "df['School_AV'].fillna(mean, inplace = True)"
   ]
  },
  {
   "cell_type": "code",
   "execution_count": 30,
   "id": "4ad6b000",
   "metadata": {
    "execution": {
     "iopub.execute_input": "2022-10-31T15:13:23.714180Z",
     "iopub.status.busy": "2022-10-31T15:13:23.713489Z",
     "iopub.status.idle": "2022-10-31T15:13:23.726369Z",
     "shell.execute_reply": "2022-10-31T15:13:23.725571Z",
     "shell.execute_reply.started": "2022-10-31T15:08:59.760974Z"
    },
    "papermill": {
     "duration": 0.098701,
     "end_time": "2022-10-31T15:13:23.726561",
     "exception": false,
     "start_time": "2022-10-31T15:13:23.627860",
     "status": "completed"
    },
    "tags": []
   },
   "outputs": [
    {
     "data": {
      "text/html": [
       "<div>\n",
       "<style scoped>\n",
       "    .dataframe tbody tr th:only-of-type {\n",
       "        vertical-align: middle;\n",
       "    }\n",
       "\n",
       "    .dataframe tbody tr th {\n",
       "        vertical-align: top;\n",
       "    }\n",
       "\n",
       "    .dataframe thead th {\n",
       "        text-align: right;\n",
       "    }\n",
       "</style>\n",
       "<table border=\"1\" class=\"dataframe\">\n",
       "  <thead>\n",
       "    <tr style=\"text-align: right;\">\n",
       "      <th></th>\n",
       "      <th>Spec</th>\n",
       "      <th>Gender</th>\n",
       "      <th>St_Hr</th>\n",
       "      <th>School_AV</th>\n",
       "      <th>branch</th>\n",
       "      <th>level</th>\n",
       "      <th>Age</th>\n",
       "      <th>GPA</th>\n",
       "    </tr>\n",
       "  </thead>\n",
       "  <tbody>\n",
       "    <tr>\n",
       "      <th>0</th>\n",
       "      <td>CS</td>\n",
       "      <td>F</td>\n",
       "      <td>6</td>\n",
       "      <td>80.000000</td>\n",
       "      <td>P</td>\n",
       "      <td>3</td>\n",
       "      <td>20.0</td>\n",
       "      <td>78</td>\n",
       "    </tr>\n",
       "    <tr>\n",
       "      <th>1</th>\n",
       "      <td>CS</td>\n",
       "      <td>F</td>\n",
       "      <td>7</td>\n",
       "      <td>82.000000</td>\n",
       "      <td>P</td>\n",
       "      <td>4</td>\n",
       "      <td>22.0</td>\n",
       "      <td>73</td>\n",
       "    </tr>\n",
       "    <tr>\n",
       "      <th>2</th>\n",
       "      <td>CS</td>\n",
       "      <td>F</td>\n",
       "      <td>4</td>\n",
       "      <td>81.000000</td>\n",
       "      <td>P</td>\n",
       "      <td>3</td>\n",
       "      <td>20.0</td>\n",
       "      <td>80</td>\n",
       "    </tr>\n",
       "    <tr>\n",
       "      <th>3</th>\n",
       "      <td>CS</td>\n",
       "      <td>M</td>\n",
       "      <td>3</td>\n",
       "      <td>77.333333</td>\n",
       "      <td>P</td>\n",
       "      <td>3</td>\n",
       "      <td>22.0</td>\n",
       "      <td>67</td>\n",
       "    </tr>\n",
       "    <tr>\n",
       "      <th>5</th>\n",
       "      <td>CS</td>\n",
       "      <td>F</td>\n",
       "      <td>6</td>\n",
       "      <td>80.000000</td>\n",
       "      <td>P</td>\n",
       "      <td>2</td>\n",
       "      <td>19.0</td>\n",
       "      <td>77</td>\n",
       "    </tr>\n",
       "    <tr>\n",
       "      <th>...</th>\n",
       "      <td>...</td>\n",
       "      <td>...</td>\n",
       "      <td>...</td>\n",
       "      <td>...</td>\n",
       "      <td>...</td>\n",
       "      <td>...</td>\n",
       "      <td>...</td>\n",
       "      <td>...</td>\n",
       "    </tr>\n",
       "    <tr>\n",
       "      <th>70</th>\n",
       "      <td>ACC</td>\n",
       "      <td>F</td>\n",
       "      <td>5</td>\n",
       "      <td>65.000000</td>\n",
       "      <td>A</td>\n",
       "      <td>3</td>\n",
       "      <td>22.0</td>\n",
       "      <td>81</td>\n",
       "    </tr>\n",
       "    <tr>\n",
       "      <th>71</th>\n",
       "      <td>ACC</td>\n",
       "      <td>F</td>\n",
       "      <td>5</td>\n",
       "      <td>64.000000</td>\n",
       "      <td>A</td>\n",
       "      <td>4</td>\n",
       "      <td>23.0</td>\n",
       "      <td>83</td>\n",
       "    </tr>\n",
       "    <tr>\n",
       "      <th>72</th>\n",
       "      <td>ACC</td>\n",
       "      <td>F</td>\n",
       "      <td>6</td>\n",
       "      <td>67.000000</td>\n",
       "      <td>A</td>\n",
       "      <td>4</td>\n",
       "      <td>22.0</td>\n",
       "      <td>82</td>\n",
       "    </tr>\n",
       "    <tr>\n",
       "      <th>74</th>\n",
       "      <td>ACC</td>\n",
       "      <td>M</td>\n",
       "      <td>6</td>\n",
       "      <td>68.000000</td>\n",
       "      <td>A</td>\n",
       "      <td>2</td>\n",
       "      <td>20.0</td>\n",
       "      <td>88</td>\n",
       "    </tr>\n",
       "    <tr>\n",
       "      <th>75</th>\n",
       "      <td>ACC</td>\n",
       "      <td>F</td>\n",
       "      <td>5</td>\n",
       "      <td>70.000000</td>\n",
       "      <td>P</td>\n",
       "      <td>3</td>\n",
       "      <td>25.0</td>\n",
       "      <td>80</td>\n",
       "    </tr>\n",
       "  </tbody>\n",
       "</table>\n",
       "<p>71 rows × 8 columns</p>\n",
       "</div>"
      ],
      "text/plain": [
       "   Spec Gender  St_Hr  School_AV branch  level   Age  GPA\n",
       "0    CS      F      6  80.000000      P      3  20.0   78\n",
       "1    CS      F      7  82.000000      P      4  22.0   73\n",
       "2    CS      F      4  81.000000      P      3  20.0   80\n",
       "3    CS      M      3  77.333333      P      3  22.0   67\n",
       "5    CS      F      6  80.000000      P      2  19.0   77\n",
       "..  ...    ...    ...        ...    ...    ...   ...  ...\n",
       "70  ACC      F      5  65.000000      A      3  22.0   81\n",
       "71  ACC      F      5  64.000000      A      4  23.0   83\n",
       "72  ACC      F      6  67.000000      A      4  22.0   82\n",
       "74  ACC      M      6  68.000000      A      2  20.0   88\n",
       "75  ACC      F      5  70.000000      P      3  25.0   80\n",
       "\n",
       "[71 rows x 8 columns]"
      ]
     },
     "execution_count": 30,
     "metadata": {},
     "output_type": "execute_result"
    }
   ],
   "source": [
    "df"
   ]
  },
  {
   "cell_type": "code",
   "execution_count": 31,
   "id": "5ca9c4d3",
   "metadata": {
    "execution": {
     "iopub.execute_input": "2022-10-31T15:13:23.878449Z",
     "iopub.status.busy": "2022-10-31T15:13:23.877319Z",
     "iopub.status.idle": "2022-10-31T15:13:23.881610Z",
     "shell.execute_reply": "2022-10-31T15:13:23.882087Z",
     "shell.execute_reply.started": "2022-10-31T15:08:59.788883Z"
    },
    "papermill": {
     "duration": 0.084697,
     "end_time": "2022-10-31T15:13:23.882301",
     "exception": false,
     "start_time": "2022-10-31T15:13:23.797604",
     "status": "completed"
    },
    "tags": []
   },
   "outputs": [
    {
     "data": {
      "text/plain": [
       "Spec         0\n",
       "Gender       0\n",
       "St_Hr        0\n",
       "School_AV    0\n",
       "branch       0\n",
       "level        0\n",
       "Age          0\n",
       "GPA          0\n",
       "dtype: int64"
      ]
     },
     "execution_count": 31,
     "metadata": {},
     "output_type": "execute_result"
    }
   ],
   "source": [
    "df.isna().sum()"
   ]
  },
  {
   "cell_type": "markdown",
   "id": "30431345",
   "metadata": {
    "papermill": {
     "duration": 0.070554,
     "end_time": "2022-10-31T15:13:24.023822",
     "exception": false,
     "start_time": "2022-10-31T15:13:23.953268",
     "status": "completed"
    },
    "tags": []
   },
   "source": [
    "# Realtionships"
   ]
  },
  {
   "cell_type": "code",
   "execution_count": 32,
   "id": "677d2474",
   "metadata": {
    "execution": {
     "iopub.execute_input": "2022-10-31T15:13:24.184074Z",
     "iopub.status.busy": "2022-10-31T15:13:24.182927Z",
     "iopub.status.idle": "2022-10-31T15:13:24.187947Z",
     "shell.execute_reply": "2022-10-31T15:13:24.187337Z",
     "shell.execute_reply.started": "2022-10-31T15:08:59.799947Z"
    },
    "papermill": {
     "duration": 0.092908,
     "end_time": "2022-10-31T15:13:24.188114",
     "exception": false,
     "start_time": "2022-10-31T15:13:24.095206",
     "status": "completed"
    },
    "tags": []
   },
   "outputs": [
    {
     "data": {
      "text/html": [
       "<div>\n",
       "<style scoped>\n",
       "    .dataframe tbody tr th:only-of-type {\n",
       "        vertical-align: middle;\n",
       "    }\n",
       "\n",
       "    .dataframe tbody tr th {\n",
       "        vertical-align: top;\n",
       "    }\n",
       "\n",
       "    .dataframe thead th {\n",
       "        text-align: right;\n",
       "    }\n",
       "</style>\n",
       "<table border=\"1\" class=\"dataframe\">\n",
       "  <thead>\n",
       "    <tr style=\"text-align: right;\">\n",
       "      <th></th>\n",
       "      <th>St_Hr</th>\n",
       "      <th>School_AV</th>\n",
       "      <th>level</th>\n",
       "      <th>Age</th>\n",
       "      <th>GPA</th>\n",
       "    </tr>\n",
       "  </thead>\n",
       "  <tbody>\n",
       "    <tr>\n",
       "      <th>St_Hr</th>\n",
       "      <td>1.000000</td>\n",
       "      <td>0.265047</td>\n",
       "      <td>0.066822</td>\n",
       "      <td>-0.181647</td>\n",
       "      <td>0.190796</td>\n",
       "    </tr>\n",
       "    <tr>\n",
       "      <th>School_AV</th>\n",
       "      <td>0.265047</td>\n",
       "      <td>1.000000</td>\n",
       "      <td>0.047916</td>\n",
       "      <td>-0.049895</td>\n",
       "      <td>-0.421351</td>\n",
       "    </tr>\n",
       "    <tr>\n",
       "      <th>level</th>\n",
       "      <td>0.066822</td>\n",
       "      <td>0.047916</td>\n",
       "      <td>1.000000</td>\n",
       "      <td>0.694610</td>\n",
       "      <td>0.051540</td>\n",
       "    </tr>\n",
       "    <tr>\n",
       "      <th>Age</th>\n",
       "      <td>-0.181647</td>\n",
       "      <td>-0.049895</td>\n",
       "      <td>0.694610</td>\n",
       "      <td>1.000000</td>\n",
       "      <td>0.019776</td>\n",
       "    </tr>\n",
       "    <tr>\n",
       "      <th>GPA</th>\n",
       "      <td>0.190796</td>\n",
       "      <td>-0.421351</td>\n",
       "      <td>0.051540</td>\n",
       "      <td>0.019776</td>\n",
       "      <td>1.000000</td>\n",
       "    </tr>\n",
       "  </tbody>\n",
       "</table>\n",
       "</div>"
      ],
      "text/plain": [
       "              St_Hr  School_AV     level       Age       GPA\n",
       "St_Hr      1.000000   0.265047  0.066822 -0.181647  0.190796\n",
       "School_AV  0.265047   1.000000  0.047916 -0.049895 -0.421351\n",
       "level      0.066822   0.047916  1.000000  0.694610  0.051540\n",
       "Age       -0.181647  -0.049895  0.694610  1.000000  0.019776\n",
       "GPA        0.190796  -0.421351  0.051540  0.019776  1.000000"
      ]
     },
     "execution_count": 32,
     "metadata": {},
     "output_type": "execute_result"
    }
   ],
   "source": [
    "df.corr()"
   ]
  },
  {
   "cell_type": "code",
   "execution_count": 33,
   "id": "89672b51",
   "metadata": {
    "execution": {
     "iopub.execute_input": "2022-10-31T15:13:24.343921Z",
     "iopub.status.busy": "2022-10-31T15:13:24.343135Z",
     "iopub.status.idle": "2022-10-31T15:13:24.347261Z",
     "shell.execute_reply": "2022-10-31T15:13:24.346737Z",
     "shell.execute_reply.started": "2022-10-31T15:08:59.818116Z"
    },
    "papermill": {
     "duration": 0.087096,
     "end_time": "2022-10-31T15:13:24.347422",
     "exception": false,
     "start_time": "2022-10-31T15:13:24.260326",
     "status": "completed"
    },
    "tags": []
   },
   "outputs": [
    {
     "data": {
      "text/plain": [
       "St_Hr        0.190796\n",
       "School_AV   -0.421351\n",
       "level        0.051540\n",
       "Age          0.019776\n",
       "GPA          1.000000\n",
       "Name: GPA, dtype: float64"
      ]
     },
     "execution_count": 33,
     "metadata": {},
     "output_type": "execute_result"
    }
   ],
   "source": [
    "df.corr()['GPA']"
   ]
  },
  {
   "cell_type": "code",
   "execution_count": 34,
   "id": "7872bfd2",
   "metadata": {
    "execution": {
     "iopub.execute_input": "2022-10-31T15:13:24.499754Z",
     "iopub.status.busy": "2022-10-31T15:13:24.498942Z",
     "iopub.status.idle": "2022-10-31T15:13:24.503637Z",
     "shell.execute_reply": "2022-10-31T15:13:24.502932Z",
     "shell.execute_reply.started": "2022-10-31T15:08:59.834506Z"
    },
    "papermill": {
     "duration": 0.08358,
     "end_time": "2022-10-31T15:13:24.503807",
     "exception": false,
     "start_time": "2022-10-31T15:13:24.420227",
     "status": "completed"
    },
    "tags": []
   },
   "outputs": [
    {
     "data": {
      "text/plain": [
       "0     True\n",
       "1     True\n",
       "2     True\n",
       "3    False\n",
       "5     True\n",
       "Name: Gender, dtype: bool"
      ]
     },
     "execution_count": 34,
     "metadata": {},
     "output_type": "execute_result"
    }
   ],
   "source": [
    "F = df['Gender']=='F'\n",
    "F.head()"
   ]
  },
  {
   "cell_type": "code",
   "execution_count": 35,
   "id": "2ea7f6b9",
   "metadata": {
    "execution": {
     "iopub.execute_input": "2022-10-31T15:13:24.654597Z",
     "iopub.status.busy": "2022-10-31T15:13:24.653580Z",
     "iopub.status.idle": "2022-10-31T15:13:24.658486Z",
     "shell.execute_reply": "2022-10-31T15:13:24.657821Z",
     "shell.execute_reply.started": "2022-10-31T15:08:59.844904Z"
    },
    "papermill": {
     "duration": 0.083788,
     "end_time": "2022-10-31T15:13:24.658637",
     "exception": false,
     "start_time": "2022-10-31T15:13:24.574849",
     "status": "completed"
    },
    "tags": []
   },
   "outputs": [
    {
     "data": {
      "text/plain": [
       "0    1\n",
       "1    1\n",
       "2    1\n",
       "3    0\n",
       "5    1\n",
       "Name: Gender, dtype: int64"
      ]
     },
     "execution_count": 35,
     "metadata": {},
     "output_type": "execute_result"
    }
   ],
   "source": [
    "F= F.astype(int)\n",
    "F.head()"
   ]
  },
  {
   "cell_type": "code",
   "execution_count": 36,
   "id": "c74aec3d",
   "metadata": {
    "execution": {
     "iopub.execute_input": "2022-10-31T15:13:24.824562Z",
     "iopub.status.busy": "2022-10-31T15:13:24.823572Z",
     "iopub.status.idle": "2022-10-31T15:13:24.828375Z",
     "shell.execute_reply": "2022-10-31T15:13:24.827850Z",
     "shell.execute_reply.started": "2022-10-31T15:08:59.861985Z"
    },
    "papermill": {
     "duration": 0.096955,
     "end_time": "2022-10-31T15:13:24.828636",
     "exception": false,
     "start_time": "2022-10-31T15:13:24.731681",
     "status": "completed"
    },
    "tags": []
   },
   "outputs": [
    {
     "data": {
      "text/html": [
       "<div>\n",
       "<style scoped>\n",
       "    .dataframe tbody tr th:only-of-type {\n",
       "        vertical-align: middle;\n",
       "    }\n",
       "\n",
       "    .dataframe tbody tr th {\n",
       "        vertical-align: top;\n",
       "    }\n",
       "\n",
       "    .dataframe thead th {\n",
       "        text-align: right;\n",
       "    }\n",
       "</style>\n",
       "<table border=\"1\" class=\"dataframe\">\n",
       "  <thead>\n",
       "    <tr style=\"text-align: right;\">\n",
       "      <th></th>\n",
       "      <th>Spec</th>\n",
       "      <th>Gender</th>\n",
       "      <th>St_Hr</th>\n",
       "      <th>School_AV</th>\n",
       "      <th>branch</th>\n",
       "      <th>level</th>\n",
       "      <th>Age</th>\n",
       "      <th>GPA</th>\n",
       "      <th>G_Code</th>\n",
       "    </tr>\n",
       "  </thead>\n",
       "  <tbody>\n",
       "    <tr>\n",
       "      <th>0</th>\n",
       "      <td>CS</td>\n",
       "      <td>F</td>\n",
       "      <td>6</td>\n",
       "      <td>80.000000</td>\n",
       "      <td>P</td>\n",
       "      <td>3</td>\n",
       "      <td>20.0</td>\n",
       "      <td>78</td>\n",
       "      <td>1</td>\n",
       "    </tr>\n",
       "    <tr>\n",
       "      <th>1</th>\n",
       "      <td>CS</td>\n",
       "      <td>F</td>\n",
       "      <td>7</td>\n",
       "      <td>82.000000</td>\n",
       "      <td>P</td>\n",
       "      <td>4</td>\n",
       "      <td>22.0</td>\n",
       "      <td>73</td>\n",
       "      <td>1</td>\n",
       "    </tr>\n",
       "    <tr>\n",
       "      <th>2</th>\n",
       "      <td>CS</td>\n",
       "      <td>F</td>\n",
       "      <td>4</td>\n",
       "      <td>81.000000</td>\n",
       "      <td>P</td>\n",
       "      <td>3</td>\n",
       "      <td>20.0</td>\n",
       "      <td>80</td>\n",
       "      <td>1</td>\n",
       "    </tr>\n",
       "    <tr>\n",
       "      <th>3</th>\n",
       "      <td>CS</td>\n",
       "      <td>M</td>\n",
       "      <td>3</td>\n",
       "      <td>77.333333</td>\n",
       "      <td>P</td>\n",
       "      <td>3</td>\n",
       "      <td>22.0</td>\n",
       "      <td>67</td>\n",
       "      <td>0</td>\n",
       "    </tr>\n",
       "    <tr>\n",
       "      <th>5</th>\n",
       "      <td>CS</td>\n",
       "      <td>F</td>\n",
       "      <td>6</td>\n",
       "      <td>80.000000</td>\n",
       "      <td>P</td>\n",
       "      <td>2</td>\n",
       "      <td>19.0</td>\n",
       "      <td>77</td>\n",
       "      <td>1</td>\n",
       "    </tr>\n",
       "  </tbody>\n",
       "</table>\n",
       "</div>"
      ],
      "text/plain": [
       "  Spec Gender  St_Hr  School_AV branch  level   Age  GPA  G_Code\n",
       "0   CS      F      6  80.000000      P      3  20.0   78       1\n",
       "1   CS      F      7  82.000000      P      4  22.0   73       1\n",
       "2   CS      F      4  81.000000      P      3  20.0   80       1\n",
       "3   CS      M      3  77.333333      P      3  22.0   67       0\n",
       "5   CS      F      6  80.000000      P      2  19.0   77       1"
      ]
     },
     "execution_count": 36,
     "metadata": {},
     "output_type": "execute_result"
    }
   ],
   "source": [
    "df['G_Code'] = F\n",
    "df.head()"
   ]
  },
  {
   "cell_type": "code",
   "execution_count": 37,
   "id": "a3fed675",
   "metadata": {
    "execution": {
     "iopub.execute_input": "2022-10-31T15:13:24.985662Z",
     "iopub.status.busy": "2022-10-31T15:13:24.984623Z",
     "iopub.status.idle": "2022-10-31T15:13:24.989836Z",
     "shell.execute_reply": "2022-10-31T15:13:24.989236Z",
     "shell.execute_reply.started": "2022-10-31T15:08:59.880700Z"
    },
    "papermill": {
     "duration": 0.087786,
     "end_time": "2022-10-31T15:13:24.989984",
     "exception": false,
     "start_time": "2022-10-31T15:13:24.902198",
     "status": "completed"
    },
    "tags": []
   },
   "outputs": [
    {
     "data": {
      "text/plain": [
       "St_Hr        0.190796\n",
       "School_AV   -0.421351\n",
       "level        0.051540\n",
       "Age          0.019776\n",
       "GPA          1.000000\n",
       "G_Code       0.150349\n",
       "Name: GPA, dtype: float64"
      ]
     },
     "execution_count": 37,
     "metadata": {},
     "output_type": "execute_result"
    }
   ],
   "source": [
    "df.corr()['GPA']"
   ]
  },
  {
   "cell_type": "code",
   "execution_count": 38,
   "id": "464c331b",
   "metadata": {
    "execution": {
     "iopub.execute_input": "2022-10-31T15:13:25.156679Z",
     "iopub.status.busy": "2022-10-31T15:13:25.155579Z",
     "iopub.status.idle": "2022-10-31T15:13:25.478646Z",
     "shell.execute_reply": "2022-10-31T15:13:25.478090Z",
     "shell.execute_reply.started": "2022-10-31T15:08:59.890438Z"
    },
    "papermill": {
     "duration": 0.415728,
     "end_time": "2022-10-31T15:13:25.478802",
     "exception": false,
     "start_time": "2022-10-31T15:13:25.063074",
     "status": "completed"
    },
    "tags": []
   },
   "outputs": [
    {
     "data": {
      "image/png": "[encoded data removed]",
      "text/plain": [
       "<Figure size 432x288 with 1 Axes>"
      ]
     },
     "metadata": {
      "needs_background": "light"
     },
     "output_type": "display_data"
    }
   ],
   "source": [
    "import matplotlib.pyplot as plt\n",
    "x = df['Spec']\n",
    "y = df['GPA']\n",
    "plt.bar(x, y)\n",
    "plt.show()"
   ]
  },
  {
   "cell_type": "code",
   "execution_count": 39,
   "id": "ad6b784b",
   "metadata": {
    "execution": {
     "iopub.execute_input": "2022-10-31T15:13:25.631339Z",
     "iopub.status.busy": "2022-10-31T15:13:25.630565Z",
     "iopub.status.idle": "2022-10-31T15:13:25.830973Z",
     "shell.execute_reply": "2022-10-31T15:13:25.830280Z",
     "shell.execute_reply.started": "2022-10-31T15:09:00.219747Z"
    },
    "papermill": {
     "duration": 0.277783,
     "end_time": "2022-10-31T15:13:25.831138",
     "exception": false,
     "start_time": "2022-10-31T15:13:25.553355",
     "status": "completed"
    },
    "tags": []
   },
   "outputs": [
    {
     "data": {
      "image/png": "[encoded data removed]",
      "text/plain": [
       "<Figure size 432x288 with 1 Axes>"
      ]
     },
     "metadata": {
      "needs_background": "light"
     },
     "output_type": "display_data"
    }
   ],
   "source": [
    "x = df['Spec']\n",
    "y = df['GPA']\n",
    "plt.scatter(x, y)\n",
    "plt.show()"
   ]
  },
  {
   "cell_type": "code",
   "execution_count": 40,
   "id": "1487c35e",
   "metadata": {
    "execution": {
     "iopub.execute_input": "2022-10-31T15:13:26.002184Z",
     "iopub.status.busy": "2022-10-31T15:13:26.001420Z",
     "iopub.status.idle": "2022-10-31T15:13:26.005546Z",
     "shell.execute_reply": "2022-10-31T15:13:26.004982Z",
     "shell.execute_reply.started": "2022-10-31T15:09:00.410065Z"
    },
    "papermill": {
     "duration": 0.099605,
     "end_time": "2022-10-31T15:13:26.005730",
     "exception": false,
     "start_time": "2022-10-31T15:13:25.906125",
     "status": "completed"
    },
    "tags": []
   },
   "outputs": [
    {
     "data": {
      "text/html": [
       "<div>\n",
       "<style scoped>\n",
       "    .dataframe tbody tr th:only-of-type {\n",
       "        vertical-align: middle;\n",
       "    }\n",
       "\n",
       "    .dataframe tbody tr th {\n",
       "        vertical-align: top;\n",
       "    }\n",
       "\n",
       "    .dataframe thead th {\n",
       "        text-align: right;\n",
       "    }\n",
       "</style>\n",
       "<table border=\"1\" class=\"dataframe\">\n",
       "  <thead>\n",
       "    <tr style=\"text-align: right;\">\n",
       "      <th></th>\n",
       "      <th>Spec</th>\n",
       "      <th>Gender</th>\n",
       "      <th>St_Hr</th>\n",
       "      <th>School_AV</th>\n",
       "      <th>branch</th>\n",
       "      <th>level</th>\n",
       "      <th>Age</th>\n",
       "      <th>GPA</th>\n",
       "      <th>G_Code</th>\n",
       "    </tr>\n",
       "  </thead>\n",
       "  <tbody>\n",
       "    <tr>\n",
       "      <th>0</th>\n",
       "      <td>CS</td>\n",
       "      <td>F</td>\n",
       "      <td>6</td>\n",
       "      <td>80.000000</td>\n",
       "      <td>P</td>\n",
       "      <td>3</td>\n",
       "      <td>20.0</td>\n",
       "      <td>78</td>\n",
       "      <td>1</td>\n",
       "    </tr>\n",
       "    <tr>\n",
       "      <th>1</th>\n",
       "      <td>CS</td>\n",
       "      <td>F</td>\n",
       "      <td>7</td>\n",
       "      <td>82.000000</td>\n",
       "      <td>P</td>\n",
       "      <td>4</td>\n",
       "      <td>22.0</td>\n",
       "      <td>73</td>\n",
       "      <td>1</td>\n",
       "    </tr>\n",
       "    <tr>\n",
       "      <th>2</th>\n",
       "      <td>CS</td>\n",
       "      <td>F</td>\n",
       "      <td>4</td>\n",
       "      <td>81.000000</td>\n",
       "      <td>P</td>\n",
       "      <td>3</td>\n",
       "      <td>20.0</td>\n",
       "      <td>80</td>\n",
       "      <td>1</td>\n",
       "    </tr>\n",
       "    <tr>\n",
       "      <th>3</th>\n",
       "      <td>CS</td>\n",
       "      <td>M</td>\n",
       "      <td>3</td>\n",
       "      <td>77.333333</td>\n",
       "      <td>P</td>\n",
       "      <td>3</td>\n",
       "      <td>22.0</td>\n",
       "      <td>67</td>\n",
       "      <td>0</td>\n",
       "    </tr>\n",
       "    <tr>\n",
       "      <th>4</th>\n",
       "      <td>CS</td>\n",
       "      <td>F</td>\n",
       "      <td>6</td>\n",
       "      <td>80.000000</td>\n",
       "      <td>P</td>\n",
       "      <td>2</td>\n",
       "      <td>19.0</td>\n",
       "      <td>77</td>\n",
       "      <td>1</td>\n",
       "    </tr>\n",
       "    <tr>\n",
       "      <th>...</th>\n",
       "      <td>...</td>\n",
       "      <td>...</td>\n",
       "      <td>...</td>\n",
       "      <td>...</td>\n",
       "      <td>...</td>\n",
       "      <td>...</td>\n",
       "      <td>...</td>\n",
       "      <td>...</td>\n",
       "      <td>...</td>\n",
       "    </tr>\n",
       "    <tr>\n",
       "      <th>66</th>\n",
       "      <td>ACC</td>\n",
       "      <td>F</td>\n",
       "      <td>5</td>\n",
       "      <td>65.000000</td>\n",
       "      <td>A</td>\n",
       "      <td>3</td>\n",
       "      <td>22.0</td>\n",
       "      <td>81</td>\n",
       "      <td>1</td>\n",
       "    </tr>\n",
       "    <tr>\n",
       "      <th>67</th>\n",
       "      <td>ACC</td>\n",
       "      <td>F</td>\n",
       "      <td>5</td>\n",
       "      <td>64.000000</td>\n",
       "      <td>A</td>\n",
       "      <td>4</td>\n",
       "      <td>23.0</td>\n",
       "      <td>83</td>\n",
       "      <td>1</td>\n",
       "    </tr>\n",
       "    <tr>\n",
       "      <th>68</th>\n",
       "      <td>ACC</td>\n",
       "      <td>F</td>\n",
       "      <td>6</td>\n",
       "      <td>67.000000</td>\n",
       "      <td>A</td>\n",
       "      <td>4</td>\n",
       "      <td>22.0</td>\n",
       "      <td>82</td>\n",
       "      <td>1</td>\n",
       "    </tr>\n",
       "    <tr>\n",
       "      <th>69</th>\n",
       "      <td>ACC</td>\n",
       "      <td>M</td>\n",
       "      <td>6</td>\n",
       "      <td>68.000000</td>\n",
       "      <td>A</td>\n",
       "      <td>2</td>\n",
       "      <td>20.0</td>\n",
       "      <td>88</td>\n",
       "      <td>0</td>\n",
       "    </tr>\n",
       "    <tr>\n",
       "      <th>70</th>\n",
       "      <td>ACC</td>\n",
       "      <td>F</td>\n",
       "      <td>5</td>\n",
       "      <td>70.000000</td>\n",
       "      <td>P</td>\n",
       "      <td>3</td>\n",
       "      <td>25.0</td>\n",
       "      <td>80</td>\n",
       "      <td>1</td>\n",
       "    </tr>\n",
       "  </tbody>\n",
       "</table>\n",
       "<p>71 rows × 9 columns</p>\n",
       "</div>"
      ],
      "text/plain": [
       "   Spec Gender  St_Hr  School_AV branch  level   Age  GPA  G_Code\n",
       "0    CS      F      6  80.000000      P      3  20.0   78       1\n",
       "1    CS      F      7  82.000000      P      4  22.0   73       1\n",
       "2    CS      F      4  81.000000      P      3  20.0   80       1\n",
       "3    CS      M      3  77.333333      P      3  22.0   67       0\n",
       "4    CS      F      6  80.000000      P      2  19.0   77       1\n",
       "..  ...    ...    ...        ...    ...    ...   ...  ...     ...\n",
       "66  ACC      F      5  65.000000      A      3  22.0   81       1\n",
       "67  ACC      F      5  64.000000      A      4  23.0   83       1\n",
       "68  ACC      F      6  67.000000      A      4  22.0   82       1\n",
       "69  ACC      M      6  68.000000      A      2  20.0   88       0\n",
       "70  ACC      F      5  70.000000      P      3  25.0   80       1\n",
       "\n",
       "[71 rows x 9 columns]"
      ]
     },
     "execution_count": 40,
     "metadata": {},
     "output_type": "execute_result"
    }
   ],
   "source": [
    "df = df.reset_index(drop = True)\n",
    "df"
   ]
  },
  {
   "cell_type": "code",
   "execution_count": 41,
   "id": "6e193ab6",
   "metadata": {
    "execution": {
     "iopub.execute_input": "2022-10-31T15:13:26.164892Z",
     "iopub.status.busy": "2022-10-31T15:13:26.164191Z",
     "iopub.status.idle": "2022-10-31T15:13:26.411378Z",
     "shell.execute_reply": "2022-10-31T15:13:26.410828Z",
     "shell.execute_reply.started": "2022-10-31T15:09:32.934572Z"
    },
    "papermill": {
     "duration": 0.329937,
     "end_time": "2022-10-31T15:13:26.411568",
     "exception": false,
     "start_time": "2022-10-31T15:13:26.081631",
     "status": "completed"
    },
    "tags": []
   },
   "outputs": [
    {
     "data": {
      "image/png": "[encoded data removed]",
      "text/plain": [
       "<Figure size 432x288 with 1 Axes>"
      ]
     },
     "metadata": {
      "needs_background": "light"
     },
     "output_type": "display_data"
    }
   ],
   "source": [
    "ax = sns.countplot(data=df,x='Spec', hue='Gender')\n"
   ]
  },
  {
   "cell_type": "code",
   "execution_count": 42,
   "id": "3f14fd0a",
   "metadata": {
    "execution": {
     "iopub.execute_input": "2022-10-31T15:13:26.570759Z",
     "iopub.status.busy": "2022-10-31T15:13:26.569726Z",
     "iopub.status.idle": "2022-10-31T15:13:26.823483Z",
     "shell.execute_reply": "2022-10-31T15:13:26.823971Z",
     "shell.execute_reply.started": "2022-10-31T15:09:52.455561Z"
    },
    "papermill": {
     "duration": 0.336585,
     "end_time": "2022-10-31T15:13:26.824209",
     "exception": false,
     "start_time": "2022-10-31T15:13:26.487624",
     "status": "completed"
    },
    "tags": []
   },
   "outputs": [
    {
     "data": {
      "image/png": "[encoded data removed]",
      "text/plain": [
       "<Figure size 432x288 with 1 Axes>"
      ]
     },
     "metadata": {
      "needs_background": "light"
     },
     "output_type": "display_data"
    }
   ],
   "source": [
    "ax = sns.countplot(data=df,x='Spec', hue='branch')"
   ]
  },
  {
   "cell_type": "code",
   "execution_count": 43,
   "id": "b9c712ce",
   "metadata": {
    "execution": {
     "iopub.execute_input": "2022-10-31T15:13:26.983975Z",
     "iopub.status.busy": "2022-10-31T15:13:26.983298Z",
     "iopub.status.idle": "2022-10-31T15:13:27.292261Z",
     "shell.execute_reply": "2022-10-31T15:13:27.292842Z",
     "shell.execute_reply.started": "2022-10-31T15:10:11.981248Z"
    },
    "papermill": {
     "duration": 0.390911,
     "end_time": "2022-10-31T15:13:27.293037",
     "exception": false,
     "start_time": "2022-10-31T15:13:26.902126",
     "status": "completed"
    },
    "tags": []
   },
   "outputs": [
    {
     "data": {
      "image/png": "[encoded data removed]",
      "text/plain": [
       "<Figure size 432x288 with 1 Axes>"
      ]
     },
     "metadata": {
      "needs_background": "light"
     },
     "output_type": "display_data"
    }
   ],
   "source": [
    "ax = sns.countplot(data=df,x='Spec', hue='St_Hr')\n"
   ]
  },
  {
   "cell_type": "code",
   "execution_count": 44,
   "id": "1e74647a",
   "metadata": {
    "execution": {
     "iopub.execute_input": "2022-10-31T15:13:27.458343Z",
     "iopub.status.busy": "2022-10-31T15:13:27.453468Z",
     "iopub.status.idle": "2022-10-31T15:13:28.173661Z",
     "shell.execute_reply": "2022-10-31T15:13:28.174168Z",
     "shell.execute_reply.started": "2022-10-31T15:10:28.822487Z"
    },
    "papermill": {
     "duration": 0.80231,
     "end_time": "2022-10-31T15:13:28.174348",
     "exception": false,
     "start_time": "2022-10-31T15:13:27.372038",
     "status": "completed"
    },
    "tags": []
   },
   "outputs": [
    {
     "data": {
      "text/plain": [
       "Text(0.5, 1.05, 'Pearson Correlation of Features')"
      ]
     },
     "execution_count": 44,
     "metadata": {},
     "output_type": "execute_result"
    },
    {
     "data": {
      "image/png": "[encoded data removed]",
      "text/plain": [
       "<Figure size 1008x864 with 2 Axes>"
      ]
     },
     "metadata": {
      "needs_background": "light"
     },
     "output_type": "display_data"
    }
   ],
   "source": [
    "_ , ax = plt.subplots(figsize =(14, 12))\n",
    "colormap = sns.diverging_palette(220, 10, as_cmap = True)\n",
    "    \n",
    "_ = sns.heatmap( df.corr(), cmap = colormap, square=True, cbar_kws={'shrink':.9 }, ax=ax, annot=True, linewidths=0.1,vmax=1.0, linecolor='white', annot_kws={'fontsize':10 })\n",
    "    \n",
    "plt.title('Pearson Correlation of Features', y=1.05, size=10)"
   ]
  },
  {
   "cell_type": "code",
   "execution_count": 45,
   "id": "116966af",
   "metadata": {
    "execution": {
     "iopub.execute_input": "2022-10-31T15:13:28.337815Z",
     "iopub.status.busy": "2022-10-31T15:13:28.337056Z",
     "iopub.status.idle": "2022-10-31T15:13:28.354212Z",
     "shell.execute_reply": "2022-10-31T15:13:28.353494Z",
     "shell.execute_reply.started": "2022-10-31T15:11:00.609960Z"
    },
    "papermill": {
     "duration": 0.100613,
     "end_time": "2022-10-31T15:13:28.354396",
     "exception": false,
     "start_time": "2022-10-31T15:13:28.253783",
     "status": "completed"
    },
    "tags": []
   },
   "outputs": [],
   "source": [
    "sp = df['Spec'].unique()\n",
    "av = []\n",
    "SH = []\n",
    "SCAV = []\n",
    "LEV = []\n",
    "AGE = []\n",
    "GPA = []\n",
    "for ss in sp:\n",
    "    mc = df[df['Spec'] == ss].mean()\n",
    "    av.append(mc)\n",
    "for i in range (0, len(sp)):\n",
    "    SH.append (av[i]['St_Hr'])\n",
    "    SCAV.append (av[i]['School_AV'])\n",
    "    LEV.append ( av[i]['level'])\n",
    "    AGE.append ( av[i]['Age'])\n",
    "    GPA.append ( av[i]['GPA'])"
   ]
  },
  {
   "cell_type": "code",
   "execution_count": 46,
   "id": "40bd9f5b",
   "metadata": {
    "execution": {
     "iopub.execute_input": "2022-10-31T15:13:28.530347Z",
     "iopub.status.busy": "2022-10-31T15:13:28.529383Z",
     "iopub.status.idle": "2022-10-31T15:13:28.697620Z",
     "shell.execute_reply": "2022-10-31T15:13:28.698277Z",
     "shell.execute_reply.started": "2022-10-31T15:11:14.932066Z"
    },
    "papermill": {
     "duration": 0.260752,
     "end_time": "2022-10-31T15:13:28.698480",
     "exception": false,
     "start_time": "2022-10-31T15:13:28.437728",
     "status": "completed"
    },
    "tags": []
   },
   "outputs": [
    {
     "data": {
      "image/png": "[encoded data removed]",
      "text/plain": [
       "<Figure size 432x288 with 1 Axes>"
      ]
     },
     "metadata": {
      "needs_background": "light"
     },
     "output_type": "display_data"
    }
   ],
   "source": [
    "x = sp\n",
    "y = SH\n",
    "plt.bar(x, y)\n",
    "plt.show()"
   ]
  },
  {
   "cell_type": "code",
   "execution_count": 47,
   "id": "72a6562f",
   "metadata": {
    "execution": {
     "iopub.execute_input": "2022-10-31T15:13:28.878934Z",
     "iopub.status.busy": "2022-10-31T15:13:28.877774Z",
     "iopub.status.idle": "2022-10-31T15:13:29.059619Z",
     "shell.execute_reply": "2022-10-31T15:13:29.058961Z",
     "shell.execute_reply.started": "2022-10-31T15:11:28.130791Z"
    },
    "papermill": {
     "duration": 0.280206,
     "end_time": "2022-10-31T15:13:29.059775",
     "exception": false,
     "start_time": "2022-10-31T15:13:28.779569",
     "status": "completed"
    },
    "tags": []
   },
   "outputs": [
    {
     "data": {
      "image/png": "[encoded data removed]",
      "text/plain": [
       "<Figure size 432x288 with 1 Axes>"
      ]
     },
     "metadata": {
      "needs_background": "light"
     },
     "output_type": "display_data"
    }
   ],
   "source": [
    "x = sp\n",
    "y = SCAV\n",
    "plt.bar(x, y)\n",
    "plt.show()"
   ]
  },
  {
   "cell_type": "code",
   "execution_count": 48,
   "id": "e66b9071",
   "metadata": {
    "execution": {
     "iopub.execute_input": "2022-10-31T15:13:29.227201Z",
     "iopub.status.busy": "2022-10-31T15:13:29.226470Z",
     "iopub.status.idle": "2022-10-31T15:13:29.412912Z",
     "shell.execute_reply": "2022-10-31T15:13:29.412227Z",
     "shell.execute_reply.started": "2022-10-31T15:11:42.498748Z"
    },
    "papermill": {
     "duration": 0.270762,
     "end_time": "2022-10-31T15:13:29.413099",
     "exception": false,
     "start_time": "2022-10-31T15:13:29.142337",
     "status": "completed"
    },
    "tags": []
   },
   "outputs": [
    {
     "data": {
      "image/png": "[encoded data removed]",
      "text/plain": [
       "<Figure size 432x288 with 1 Axes>"
      ]
     },
     "metadata": {
      "needs_background": "light"
     },
     "output_type": "display_data"
    }
   ],
   "source": [
    "x = sp\n",
    "y = LEV\n",
    "plt.bar(x, y)\n",
    "plt.show()"
   ]
  },
  {
   "cell_type": "code",
   "execution_count": 49,
   "id": "bec7a7a8",
   "metadata": {
    "execution": {
     "iopub.execute_input": "2022-10-31T15:13:29.587713Z",
     "iopub.status.busy": "2022-10-31T15:13:29.587011Z",
     "iopub.status.idle": "2022-10-31T15:13:29.754404Z",
     "shell.execute_reply": "2022-10-31T15:13:29.753835Z",
     "shell.execute_reply.started": "2022-10-31T15:12:01.241182Z"
    },
    "papermill": {
     "duration": 0.26001,
     "end_time": "2022-10-31T15:13:29.754574",
     "exception": false,
     "start_time": "2022-10-31T15:13:29.494564",
     "status": "completed"
    },
    "tags": []
   },
   "outputs": [
    {
     "data": {
      "image/png": "[encoded data removed]",
      "text/plain": [
       "<Figure size 432x288 with 1 Axes>"
      ]
     },
     "metadata": {
      "needs_background": "light"
     },
     "output_type": "display_data"
    }
   ],
   "source": [
    "x = sp\n",
    "y = AGE\n",
    "plt.bar(x, y)\n",
    "plt.show()"
   ]
  },
  {
   "cell_type": "code",
   "execution_count": 50,
   "id": "ddd9db26",
   "metadata": {
    "execution": {
     "iopub.execute_input": "2022-10-31T15:13:29.926622Z",
     "iopub.status.busy": "2022-10-31T15:13:29.925591Z",
     "iopub.status.idle": "2022-10-31T15:13:30.109163Z",
     "shell.execute_reply": "2022-10-31T15:13:30.109633Z",
     "shell.execute_reply.started": "2022-10-31T15:12:18.856594Z"
    },
    "papermill": {
     "duration": 0.27331,
     "end_time": "2022-10-31T15:13:30.109824",
     "exception": false,
     "start_time": "2022-10-31T15:13:29.836514",
     "status": "completed"
    },
    "tags": []
   },
   "outputs": [
    {
     "data": {
      "image/png": "[encoded data removed]",
      "text/plain": [
       "<Figure size 432x288 with 1 Axes>"
      ]
     },
     "metadata": {
      "needs_background": "light"
     },
     "output_type": "display_data"
    }
   ],
   "source": [
    "x = sp\n",
    "y = GPA\n",
    "plt.bar(x, y)\n",
    "plt.show()"
   ]
  }
 ],
 "metadata": {
  "kernelspec": {
   "display_name": "Python 3",
   "language": "python",
   "name": "python3"
  },
  "language_info": {
   "codemirror_mode": {
    "name": "ipython",
    "version": 3
   },
   "file_extension": ".py",
   "mimetype": "text/x-python",
   "name": "python",
   "nbconvert_exporter": "python",
   "pygments_lexer": "ipython3",
   "version": "3.7.12"
  },
  "papermill": {
   "default_parameters": {},
   "duration": 27.890173,
   "end_time": "2022-10-31T15:13:31.206330",
   "environment_variables": {},
   "exception": null,
   "input_path": "__notebook__.ipynb",
   "output_path": "__notebook__.ipynb",
   "parameters": {},
   "start_time": "2022-10-31T15:13:03.316157",
   "version": "2.3.3"
  }
 },
 "nbformat": 4,
 "nbformat_minor": 5
}
