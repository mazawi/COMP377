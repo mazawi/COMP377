{
 "cells": [
  {
   "cell_type": "markdown",
   "metadata": {},
   "source": [
    "# Dictionary"
   ]
  },
  {
   "cell_type": "code",
   "execution_count": 2,
   "metadata": {},
   "outputs": [
    {
     "data": {
      "text/plain": [
       "dict"
      ]
     },
     "execution_count": 2,
     "metadata": {},
     "output_type": "execute_result"
    }
   ],
   "source": [
    "d = {1:\"One\", 2:\"Two\"}\n",
    "type(d)"
   ]
  },
  {
   "cell_type": "code",
   "execution_count": 4,
   "metadata": {},
   "outputs": [
    {
     "data": {
      "text/plain": [
       "78.1"
      ]
     },
     "execution_count": 4,
     "metadata": {},
     "output_type": "execute_result"
    }
   ],
   "source": [
    "GPA = {\"Ali\":78.1, \n",
    "      \"Aisha\":88,\n",
    "      \"Ahmed\":60}\n",
    "GPA[\"Ali\"]"
   ]
  },
  {
   "cell_type": "code",
   "execution_count": 5,
   "metadata": {},
   "outputs": [
    {
     "ename": "KeyError",
     "evalue": "88",
     "output_type": "error",
     "traceback": [
      "\u001b[0;31m---------------------------------------------------------------------------\u001b[0m",
      "\u001b[0;31mKeyError\u001b[0m                                  Traceback (most recent call last)",
      "\u001b[1;32m/workspaces/COMP377/Disctionary.ipynb Cell 4\u001b[0m line \u001b[0;36m4\n\u001b[1;32m      <a href='vscode-notebook-cell://codespaces%2Burban-palm-tree-jq4g7rxr7wvf59qr/workspaces/COMP377/Disctionary.ipynb#W3sdnNjb2RlLXJlbW90ZQ%3D%3D?line=0'>1</a>\u001b[0m GPA \u001b[39m=\u001b[39m {\u001b[39m\"\u001b[39m\u001b[39mAli\u001b[39m\u001b[39m\"\u001b[39m:\u001b[39m78.1\u001b[39m, \n\u001b[1;32m      <a href='vscode-notebook-cell://codespaces%2Burban-palm-tree-jq4g7rxr7wvf59qr/workspaces/COMP377/Disctionary.ipynb#W3sdnNjb2RlLXJlbW90ZQ%3D%3D?line=1'>2</a>\u001b[0m       \u001b[39m\"\u001b[39m\u001b[39mAisha\u001b[39m\u001b[39m\"\u001b[39m:\u001b[39m88\u001b[39m,\n\u001b[1;32m      <a href='vscode-notebook-cell://codespaces%2Burban-palm-tree-jq4g7rxr7wvf59qr/workspaces/COMP377/Disctionary.ipynb#W3sdnNjb2RlLXJlbW90ZQ%3D%3D?line=2'>3</a>\u001b[0m       \u001b[39m\"\u001b[39m\u001b[39mAhmed\u001b[39m\u001b[39m\"\u001b[39m:\u001b[39m60\u001b[39m}\n\u001b[0;32m----> <a href='vscode-notebook-cell://codespaces%2Burban-palm-tree-jq4g7rxr7wvf59qr/workspaces/COMP377/Disctionary.ipynb#W3sdnNjb2RlLXJlbW90ZQ%3D%3D?line=3'>4</a>\u001b[0m GPA[\u001b[39m88\u001b[39;49m]\n",
      "\u001b[0;31mKeyError\u001b[0m: 88"
     ]
    }
   ],
   "source": [
    "GPA = {\"Ali\":78.1, \n",
    "      \"Aisha\":88,\n",
    "      \"Ahmed\":60}\n",
    "GPA[88]"
   ]
  }
 ],
 "metadata": {
  "kernelspec": {
   "display_name": "Python 3",
   "language": "python",
   "name": "python3"
  },
  "language_info": {
   "codemirror_mode": {
    "name": "ipython",
    "version": 3
   },
   "file_extension": ".py",
   "mimetype": "text/x-python",
   "name": "python",
   "nbconvert_exporter": "python",
   "pygments_lexer": "ipython3",
   "version": "3.10.8"
  }
 },
 "nbformat": 4,
 "nbformat_minor": 2
}
