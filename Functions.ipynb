{
 "cells": [
  {
   "cell_type": "markdown",
   "metadata": {},
   "source": [
    "Write a programme that reads two numbers and prints the largest one"
   ]
  },
  {
   "cell_type": "code",
   "execution_count": 2,
   "metadata": {},
   "outputs": [
    {
     "name": "stdout",
     "output_type": "stream",
     "text": [
      "The larger number is:  23\n"
     ]
    }
   ],
   "source": [
    "n1 = input(\"Enter the first number: \")\n",
    "n1= int (n1)\n",
    "n2 = input(\"Enter the second number: \")\n",
    "n2= int (n2)\n",
    "if n1>n2:\n",
    "    print (\"The larger number is: \", n1)\n",
    "else:\n",
    "    print (\"The larger number is: \", n2)"
   ]
  },
  {
   "cell_type": "markdown",
   "metadata": {},
   "source": [
    "Using Functions"
   ]
  },
  {
   "cell_type": "code",
   "execution_count": 6,
   "metadata": {},
   "outputs": [],
   "source": [
    "def ReadInt():\n",
    "    x = input(\"Enter an Integer: \")\n",
    "    x = int (x)\n",
    "    return x\n",
    "\n",
    "def Max2(x, y):\n",
    "    if x>y: \n",
    "        return x\n",
    "    else:\n",
    "        return y"
   ]
  },
  {
   "cell_type": "code",
   "execution_count": 7,
   "metadata": {},
   "outputs": [
    {
     "name": "stdout",
     "output_type": "stream",
     "text": [
      "The max is:  23\n"
     ]
    }
   ],
   "source": [
    "n1 = ReadInt()\n",
    "n2 = ReadInt()\n",
    "mx = Max2(n1,n2)\n",
    "print (\"The max is: \", mx)\n"
   ]
  },
  {
   "cell_type": "markdown",
   "metadata": {},
   "source": [
    "write a function that takes three numbers and return the largest one"
   ]
  },
  {
   "cell_type": "code",
   "execution_count": 8,
   "metadata": {},
   "outputs": [],
   "source": [
    "def Max3(x, y, z):\n",
    "    if x>y and x>z: \n",
    "        return x\n",
    "    elif y>z and y>x: \n",
    "        return y\n",
    "    else: \n",
    "        return z"
   ]
  },
  {
   "cell_type": "code",
   "execution_count": 9,
   "metadata": {},
   "outputs": [
    {
     "name": "stdout",
     "output_type": "stream",
     "text": [
      "The max is:  102\n"
     ]
    }
   ],
   "source": [
    "n1 = ReadInt()\n",
    "n2 = ReadInt()\n",
    "n3 = ReadInt()\n",
    "mx = Max3(n1,n2, n3)\n",
    "print (\"The max is: \", mx)"
   ]
  },
  {
   "cell_type": "code",
   "execution_count": 13,
   "metadata": {},
   "outputs": [
    {
     "data": {
      "text/plain": [
       "13"
      ]
     },
     "execution_count": 13,
     "metadata": {},
     "output_type": "execute_result"
    }
   ],
   "source": [
    "n1 = 4\n",
    "n2 = 10\n",
    "n3 = 7\n",
    "n4 = 13\n",
    "m1 = Max2(n1, n2)\n",
    "m2 = Max2(n3, n4)\n",
    "mx = Max2(m1, m2)\n",
    "mx\n"
   ]
  },
  {
   "cell_type": "code",
   "execution_count": 14,
   "metadata": {},
   "outputs": [
    {
     "data": {
      "text/plain": [
       "13"
      ]
     },
     "execution_count": 14,
     "metadata": {},
     "output_type": "execute_result"
    }
   ],
   "source": [
    "Max2(Max2(n1, n2), Max2(n3, n4))"
   ]
  },
  {
   "cell_type": "markdown",
   "metadata": {},
   "source": [
    "write a function that finds the sum of the elements of a list"
   ]
  },
  {
   "cell_type": "code",
   "execution_count": 19,
   "metadata": {},
   "outputs": [
    {
     "data": {
      "text/plain": [
       "11"
      ]
     },
     "execution_count": 19,
     "metadata": {},
     "output_type": "execute_result"
    }
   ],
   "source": [
    "def SumList(L):\n",
    "    s = 0\n",
    "    for i in range (0, len(L)):\n",
    "        s+= L[i]\n",
    "    return s\n",
    "        \n",
    "\n",
    "SumList([1, 2, 3, 5])"
   ]
  },
  {
   "cell_type": "markdown",
   "metadata": {},
   "source": [
    "write a function that gets a list and returns the maximum number in the list"
   ]
  },
  {
   "cell_type": "code",
   "execution_count": 20,
   "metadata": {},
   "outputs": [],
   "source": [
    "def MaxList(L):\n",
    "    mx = L[0]\n",
    "    for i in range (1, len(L)):\n",
    "        if L[i]>mx:\n",
    "            mx = L[i]\n",
    "    return mx"
   ]
  },
  {
   "cell_type": "code",
   "execution_count": 22,
   "metadata": {},
   "outputs": [
    {
     "data": {
      "text/plain": [
       "5"
      ]
     },
     "execution_count": 22,
     "metadata": {},
     "output_type": "execute_result"
    }
   ],
   "source": [
    "L1 = [1, 2, 4, 5,  3, 2, 3, 5]\n",
    "z = MaxList(L1)\n",
    "z"
   ]
  },
  {
   "cell_type": "markdown",
   "metadata": {},
   "source": [
    "write a function that receives a tuple and returns the multiplication of its elements"
   ]
  },
  {
   "cell_type": "code",
   "execution_count": 2,
   "metadata": {},
   "outputs": [],
   "source": [
    "def TuplMul(T):\n",
    "    f = 1\n",
    "    for i in range(0,len(T) ):\n",
    "        f *=T[i]\n",
    "    return f"
   ]
  },
  {
   "cell_type": "code",
   "execution_count": 3,
   "metadata": {},
   "outputs": [
    {
     "data": {
      "text/plain": [
       "6"
      ]
     },
     "execution_count": 3,
     "metadata": {},
     "output_type": "execute_result"
    }
   ],
   "source": [
    "T1 = (1, 2, 3)\n",
    "x = TuplMul(T1)\n",
    "x"
   ]
  },
  {
   "cell_type": "code",
   "execution_count": 4,
   "metadata": {},
   "outputs": [
    {
     "data": {
      "text/plain": [
       "6"
      ]
     },
     "execution_count": 4,
     "metadata": {},
     "output_type": "execute_result"
    }
   ],
   "source": [
    "T1 = [1, 2, 3]\n",
    "x = TuplMul(T1)\n",
    "x"
   ]
  },
  {
   "cell_type": "code",
   "execution_count": 5,
   "metadata": {},
   "outputs": [
    {
     "ename": "TypeError",
     "evalue": "'set' object is not subscriptable",
     "output_type": "error",
     "traceback": [
      "\u001b[0;31m---------------------------------------------------------------------------\u001b[0m",
      "\u001b[0;31mTypeError\u001b[0m                                 Traceback (most recent call last)",
      "\u001b[1;32m/workspaces/COMP377/Functions.ipynb Cell 20\u001b[0m line \u001b[0;36m2\n\u001b[1;32m      <a href='vscode-notebook-cell://codespaces%2Burban-palm-tree-jq4g7rxr7wvf59qr/workspaces/COMP377/Functions.ipynb#X25sdnNjb2RlLXJlbW90ZQ%3D%3D?line=0'>1</a>\u001b[0m T1 \u001b[39m=\u001b[39m {\u001b[39m1\u001b[39m, \u001b[39m2\u001b[39m, \u001b[39m3\u001b[39m}\n\u001b[0;32m----> <a href='vscode-notebook-cell://codespaces%2Burban-palm-tree-jq4g7rxr7wvf59qr/workspaces/COMP377/Functions.ipynb#X25sdnNjb2RlLXJlbW90ZQ%3D%3D?line=1'>2</a>\u001b[0m x \u001b[39m=\u001b[39m TuplMul(T1)\n\u001b[1;32m      <a href='vscode-notebook-cell://codespaces%2Burban-palm-tree-jq4g7rxr7wvf59qr/workspaces/COMP377/Functions.ipynb#X25sdnNjb2RlLXJlbW90ZQ%3D%3D?line=2'>3</a>\u001b[0m x\n",
      "\u001b[1;32m/workspaces/COMP377/Functions.ipynb Cell 20\u001b[0m line \u001b[0;36m4\n\u001b[1;32m      <a href='vscode-notebook-cell://codespaces%2Burban-palm-tree-jq4g7rxr7wvf59qr/workspaces/COMP377/Functions.ipynb#X25sdnNjb2RlLXJlbW90ZQ%3D%3D?line=1'>2</a>\u001b[0m f \u001b[39m=\u001b[39m \u001b[39m1\u001b[39m\n\u001b[1;32m      <a href='vscode-notebook-cell://codespaces%2Burban-palm-tree-jq4g7rxr7wvf59qr/workspaces/COMP377/Functions.ipynb#X25sdnNjb2RlLXJlbW90ZQ%3D%3D?line=2'>3</a>\u001b[0m \u001b[39mfor\u001b[39;00m i \u001b[39min\u001b[39;00m \u001b[39mrange\u001b[39m(\u001b[39m0\u001b[39m,\u001b[39mlen\u001b[39m(T) ):\n\u001b[0;32m----> <a href='vscode-notebook-cell://codespaces%2Burban-palm-tree-jq4g7rxr7wvf59qr/workspaces/COMP377/Functions.ipynb#X25sdnNjb2RlLXJlbW90ZQ%3D%3D?line=3'>4</a>\u001b[0m     f \u001b[39m*\u001b[39m\u001b[39m=\u001b[39mT[i]\n\u001b[1;32m      <a href='vscode-notebook-cell://codespaces%2Burban-palm-tree-jq4g7rxr7wvf59qr/workspaces/COMP377/Functions.ipynb#X25sdnNjb2RlLXJlbW90ZQ%3D%3D?line=4'>5</a>\u001b[0m \u001b[39mreturn\u001b[39;00m f\n",
      "\u001b[0;31mTypeError\u001b[0m: 'set' object is not subscriptable"
     ]
    }
   ],
   "source": [
    "T1 = {1, 2, 3}\n",
    "x = TuplMul(T1)\n",
    "x"
   ]
  },
  {
   "cell_type": "markdown",
   "metadata": {},
   "source": [
    "Write a function the receives a list and returns the sum and multiplication of its elements"
   ]
  },
  {
   "cell_type": "code",
   "execution_count": 6,
   "metadata": {},
   "outputs": [],
   "source": [
    "def AddMul(L):\n",
    "    s = 0\n",
    "    f = 1\n",
    "    for i in range (0, len(L)):\n",
    "        s += L[i]\n",
    "        f *= L[i]\n",
    "    return s, f"
   ]
  },
  {
   "cell_type": "code",
   "execution_count": 7,
   "metadata": {},
   "outputs": [
    {
     "data": {
      "text/plain": [
       "(10, 24)"
      ]
     },
     "execution_count": 7,
     "metadata": {},
     "output_type": "execute_result"
    }
   ],
   "source": [
    "L1 = [1, 2, 3, 4]\n",
    "x = AddMul(L1)\n",
    "x"
   ]
  },
  {
   "cell_type": "markdown",
   "metadata": {},
   "source": [
    "Write a function that receives a number and its power and returns the result,e. g. 5^3 = 125"
   ]
  },
  {
   "cell_type": "code",
   "execution_count": 8,
   "metadata": {},
   "outputs": [],
   "source": [
    "def Pow(b, p):\n",
    "    f = 1\n",
    "    for i in range (0, p):\n",
    "        f *=b\n",
    "    return f"
   ]
  },
  {
   "cell_type": "code",
   "execution_count": 11,
   "metadata": {},
   "outputs": [
    {
     "data": {
      "text/plain": [
       "2401"
      ]
     },
     "execution_count": 11,
     "metadata": {},
     "output_type": "execute_result"
    }
   ],
   "source": [
    "x = Pow(7, 4)\n",
    "x"
   ]
  },
  {
   "cell_type": "markdown",
   "metadata": {},
   "source": [
    "write a functin that takes a set and returns the average of its elements"
   ]
  },
  {
   "cell_type": "code",
   "execution_count": 12,
   "metadata": {},
   "outputs": [],
   "source": [
    "def SetAver(s):\n",
    "    s = list (s)\n",
    "    sum = 0\n",
    "    for i in range (0, len(s)):\n",
    "        sum += s[i]\n",
    "    av = sum/(len(s))\n",
    "    return av"
   ]
  },
  {
   "cell_type": "code",
   "execution_count": 15,
   "metadata": {},
   "outputs": [
    {
     "data": {
      "text/plain": [
       "2.0"
      ]
     },
     "execution_count": 15,
     "metadata": {},
     "output_type": "execute_result"
    }
   ],
   "source": [
    "s1 = (1, 2, 3)\n",
    "x = SetAver(s1)\n",
    "x"
   ]
  },
  {
   "cell_type": "markdown",
   "metadata": {},
   "source": [
    "Write a function the takes a number and returns the factorial of the number"
   ]
  },
  {
   "cell_type": "code",
   "execution_count": 16,
   "metadata": {},
   "outputs": [],
   "source": [
    "def Fact(n):\n",
    "    f = 1\n",
    "    for i in range (1, n+1):\n",
    "        f *=i\n",
    "    return f"
   ]
  },
  {
   "cell_type": "code",
   "execution_count": 20,
   "metadata": {},
   "outputs": [
    {
     "data": {
      "text/plain": [
       "1"
      ]
     },
     "execution_count": 20,
     "metadata": {},
     "output_type": "execute_result"
    }
   ],
   "source": [
    "Fact(0)"
   ]
  },
  {
   "attachments": {
    "image.png": {
     "image/png": "[encoded data removed]"
    }
   },
   "cell_type": "markdown",
   "metadata": {},
   "source": [
    "write a function that evaluates the equation\n",
    "![image.png](attachment:image.png)"
   ]
  },
  {
   "cell_type": "code",
   "execution_count": 21,
   "metadata": {},
   "outputs": [],
   "source": [
    "def y (x):\n",
    "    y1 = ((11+x)/(x**3)) +(2*x*(5-x))\n",
    "    return y1"
   ]
  },
  {
   "cell_type": "code",
   "execution_count": 22,
   "metadata": {},
   "outputs": [
    {
     "data": {
      "text/plain": [
       "0.128"
      ]
     },
     "execution_count": 22,
     "metadata": {},
     "output_type": "execute_result"
    }
   ],
   "source": [
    "y(5)"
   ]
  }
 ],
 "metadata": {
  "kernelspec": {
   "display_name": "Python 3",
   "language": "python",
   "name": "python3"
  },
  "language_info": {
   "codemirror_mode": {
    "name": "ipython",
    "version": 3
   },
   "file_extension": ".py",
   "mimetype": "text/x-python",
   "name": "python",
   "nbconvert_exporter": "python",
   "pygments_lexer": "ipython3",
   "version": "3.10.8"
  }
 },
 "nbformat": 4,
 "nbformat_minor": 2
}
