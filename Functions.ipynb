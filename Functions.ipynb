{
 "cells": [
  {
   "cell_type": "markdown",
   "metadata": {},
   "source": [
    "Write a programme that reads two numbers and prints the largest one"
   ]
  },
  {
   "cell_type": "code",
   "execution_count": 2,
   "metadata": {},
   "outputs": [
    {
     "name": "stdout",
     "output_type": "stream",
     "text": [
      "The larger number is:  23\n"
     ]
    }
   ],
   "source": [
    "n1 = input(\"Enter the first number: \")\n",
    "n1= int (n1)\n",
    "n2 = input(\"Enter the second number: \")\n",
    "n2= int (n2)\n",
    "if n1>n2:\n",
    "    print (\"The larger number is: \", n1)\n",
    "else:\n",
    "    print (\"The larger number is: \", n2)"
   ]
  },
  {
   "cell_type": "markdown",
   "metadata": {},
   "source": [
    "Using Functions"
   ]
  },
  {
   "cell_type": "code",
   "execution_count": 6,
   "metadata": {},
   "outputs": [],
   "source": [
    "def ReadInt():\n",
    "    x = input(\"Enter an Integer: \")\n",
    "    x = int (x)\n",
    "    return x\n",
    "\n",
    "def Max2(x, y):\n",
    "    if x>y: \n",
    "        return x\n",
    "    else:\n",
    "        return y"
   ]
  },
  {
   "cell_type": "code",
   "execution_count": 7,
   "metadata": {},
   "outputs": [
    {
     "name": "stdout",
     "output_type": "stream",
     "text": [
      "The max is:  23\n"
     ]
    }
   ],
   "source": [
    "n1 = ReadInt()\n",
    "n2 = ReadInt()\n",
    "mx = Max2(n1,n2)\n",
    "print (\"The max is: \", mx)\n"
   ]
  },
  {
   "cell_type": "markdown",
   "metadata": {},
   "source": [
    "write a function that takes three numbers and return the largest one"
   ]
  },
  {
   "cell_type": "code",
   "execution_count": 8,
   "metadata": {},
   "outputs": [],
   "source": [
    "def Max3(x, y, z):\n",
    "    if x>y and x>z: \n",
    "        return x\n",
    "    elif y>z and y>x: \n",
    "        return y\n",
    "    else: \n",
    "        return z"
   ]
  },
  {
   "cell_type": "code",
   "execution_count": 9,
   "metadata": {},
   "outputs": [
    {
     "name": "stdout",
     "output_type": "stream",
     "text": [
      "The max is:  102\n"
     ]
    }
   ],
   "source": [
    "n1 = ReadInt()\n",
    "n2 = ReadInt()\n",
    "n3 = ReadInt()\n",
    "mx = Max3(n1,n2, n3)\n",
    "print (\"The max is: \", mx)"
   ]
  },
  {
   "cell_type": "code",
   "execution_count": 13,
   "metadata": {},
   "outputs": [
    {
     "data": {
      "text/plain": [
       "13"
      ]
     },
     "execution_count": 13,
     "metadata": {},
     "output_type": "execute_result"
    }
   ],
   "source": [
    "n1 = 4\n",
    "n2 = 10\n",
    "n3 = 7\n",
    "n4 = 13\n",
    "m1 = Max2(n1, n2)\n",
    "m2 = Max2(n3, n4)\n",
    "mx = Max2(m1, m2)\n",
    "mx\n"
   ]
  },
  {
   "cell_type": "code",
   "execution_count": 14,
   "metadata": {},
   "outputs": [
    {
     "data": {
      "text/plain": [
       "13"
      ]
     },
     "execution_count": 14,
     "metadata": {},
     "output_type": "execute_result"
    }
   ],
   "source": [
    "Max2(Max2(n1, n2), Max2(n3, n4))"
   ]
  },
  {
   "cell_type": "markdown",
   "metadata": {},
   "source": [
    "write a function that finds the sum of the elements of a list"
   ]
  },
  {
   "cell_type": "code",
   "execution_count": 19,
   "metadata": {},
   "outputs": [
    {
     "data": {
      "text/plain": [
       "11"
      ]
     },
     "execution_count": 19,
     "metadata": {},
     "output_type": "execute_result"
    }
   ],
   "source": [
    "def SumList(L):\n",
    "    s = 0\n",
    "    for i in range (0, len(L)):\n",
    "        s+= L[i]\n",
    "    return s\n",
    "        \n",
    "\n",
    "SumList([1, 2, 3, 5])"
   ]
  },
  {
   "cell_type": "markdown",
   "metadata": {},
   "source": [
    "write a function that gets a list and returns the maximum number in the list"
   ]
  },
  {
   "cell_type": "code",
   "execution_count": 20,
   "metadata": {},
   "outputs": [],
   "source": [
    "def MaxList(L):\n",
    "    mx = L[0]\n",
    "    for i in range (1, len(L)):\n",
    "        if L[i]>mx:\n",
    "            mx = L[i]\n",
    "    return mx"
   ]
  },
  {
   "cell_type": "code",
   "execution_count": 22,
   "metadata": {},
   "outputs": [
    {
     "data": {
      "text/plain": [
       "5"
      ]
     },
     "execution_count": 22,
     "metadata": {},
     "output_type": "execute_result"
    }
   ],
   "source": [
    "L1 = [1, 2, 4, 5,  3, 2, 3, 5]\n",
    "z = MaxList(L1)\n",
    "z"
   ]
  }
 ],
 "metadata": {
  "kernelspec": {
   "display_name": "Python 3",
   "language": "python",
   "name": "python3"
  },
  "language_info": {
   "codemirror_mode": {
    "name": "ipython",
    "version": 3
   },
   "file_extension": ".py",
   "mimetype": "text/x-python",
   "name": "python",
   "nbconvert_exporter": "python",
   "pygments_lexer": "ipython3",
   "version": "3.10.8"
  }
 },
 "nbformat": 4,
 "nbformat_minor": 2
}
