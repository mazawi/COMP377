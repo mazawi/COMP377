{
 "cells": [
  {
   "cell_type": "code",
   "execution_count": 1,
   "metadata": {},
   "outputs": [],
   "source": [
    "class Car:\n",
    "    def __init__(self, Brand1, Model1, Price1):\n",
    "        self.Brand = Brand1 \n",
    "        self.Model = Model1\n",
    "        self.Price = Price1\n",
    "    def Display(self):\n",
    "        print (\"The brand is: \", self.Brand)\n",
    "        print(\"The model is: \", self.Model)\n",
    "        print(\"The Price is: \", self.Price)"
   ]
  },
  {
   "cell_type": "code",
   "execution_count": 2,
   "metadata": {},
   "outputs": [
    {
     "name": "stdout",
     "output_type": "stream",
     "text": [
      "The brand is:  Toyota\n",
      "The model is:  2020\n",
      "The Price is:  8500.4\n"
     ]
    }
   ],
   "source": [
    "c1=Car(\"Toyota\", 2020, 8500.4)\n",
    "c1.Display()"
   ]
  },
  {
   "cell_type": "code",
   "execution_count": 3,
   "metadata": {},
   "outputs": [
    {
     "name": "stdout",
     "output_type": "stream",
     "text": [
      "The brand is:  Toyota\n",
      "The model is:  2020\n",
      "The Price is:  12000\n"
     ]
    }
   ],
   "source": [
    "c1.Price = 12000\n",
    "c1.Display()"
   ]
  },
  {
   "cell_type": "code",
   "execution_count": 4,
   "metadata": {},
   "outputs": [
    {
     "name": "stdout",
     "output_type": "stream",
     "text": [
      "The brand is:  Toyota\n",
      "The model is:  2021\n",
      "The Price is:  12000\n"
     ]
    }
   ],
   "source": [
    "c1.Model=2021\n",
    "c1.Display()"
   ]
  },
  {
   "cell_type": "code",
   "execution_count": 5,
   "metadata": {},
   "outputs": [
    {
     "name": "stdout",
     "output_type": "stream",
     "text": [
      "The brand is:  Nessan\n",
      "The model is:  2018\n",
      "The Price is:  3500\n"
     ]
    }
   ],
   "source": [
    "c2 = Car(\"Nessan\", 2018, 3500)\n",
    "c2.Display()\n"
   ]
  },
  {
   "cell_type": "code",
   "execution_count": 6,
   "metadata": {},
   "outputs": [
    {
     "data": {
      "text/plain": [
       "15500"
      ]
     },
     "execution_count": 6,
     "metadata": {},
     "output_type": "execute_result"
    }
   ],
   "source": [
    "t = c1.Price +c2.Price\n",
    "t"
   ]
  }
 ],
 "metadata": {
  "kernelspec": {
   "display_name": "Python 3",
   "language": "python",
   "name": "python3"
  },
  "language_info": {
   "codemirror_mode": {
    "name": "ipython",
    "version": 3
   },
   "file_extension": ".py",
   "mimetype": "text/x-python",
   "name": "python",
   "nbconvert_exporter": "python",
   "pygments_lexer": "ipython3",
   "version": "3.10.8"
  }
 },
 "nbformat": 4,
 "nbformat_minor": 2
}
