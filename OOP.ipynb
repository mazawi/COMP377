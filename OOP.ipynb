{
 "cells": [
  {
   "cell_type": "code",
   "execution_count": 17,
   "metadata": {},
   "outputs": [],
   "source": [
    "class Car:\n",
    "    def __init__(self, Brand1, Model1, Price1):\n",
    "        assert Price1>300 , \"Price should be greater than 300\"\n",
    "        self.Brand = Brand1 \n",
    "        self.Model = Model1\n",
    "        self.Price = Price1\n",
    "    def Display(self):\n",
    "        print (\"The brand is: \", self.Brand)\n",
    "        print(\"The model is: \", self.Model)\n",
    "        print(\"The Price is: \", self.Price)\n",
    "    \n",
    "    def retBrand(self):\n",
    "        return self.Brand\n",
    "    def ChangePrice(self, newprice):\n",
    "        self.Price = newprice\n",
    "\n",
    "    def GetTax(self):\n",
    "        return self.Price*0.05\n",
    "        \n",
    "\n",
    "        "
   ]
  },
  {
   "cell_type": "code",
   "execution_count": 19,
   "metadata": {},
   "outputs": [
    {
     "name": "stdout",
     "output_type": "stream",
     "text": [
      "The brand is:  Toyota\n",
      "The model is:  2020\n",
      "The Price is:  301\n",
      "The brand is:  Toyota\n",
      "The model is:  2020\n",
      "The Price is:  9000\n"
     ]
    }
   ],
   "source": [
    "c1=Car(\"Toyota\", 2020, 301)\n",
    "c1.Display()\n",
    "c1.ChangePrice(9000)\n",
    "c1.Display()"
   ]
  },
  {
   "cell_type": "code",
   "execution_count": 16,
   "metadata": {},
   "outputs": [
    {
     "data": {
      "text/plain": [
       "450.0"
      ]
     },
     "execution_count": 16,
     "metadata": {},
     "output_type": "execute_result"
    }
   ],
   "source": [
    "c1.GetTax()"
   ]
  },
  {
   "cell_type": "code",
   "execution_count": 36,
   "metadata": {},
   "outputs": [],
   "source": [
    "class Student:\n",
    "    def __init__(self, ID, NAME, GPA):\n",
    "        assert GPA >=0 , \"GPA Cannot be less than 0\"\n",
    "        assert GPA <=4 , \"GPA cannot be greater than 4\"\n",
    "        self.id = ID\n",
    "        self.name = NAME\n",
    "        self.gpa = GPA\n",
    "    def DisplayInfo(self):\n",
    "        print (\"ID is: \", self.id)\n",
    "        print (\"Name is: \", self.name )\n",
    "        print (\"GPA is: \", self.gpa)\n",
    "    def AtRisk(self):\n",
    "        if self.gpa<2.0: return \"At Risk\"\n",
    "        else: return \"No Risk\"\n",
    "    \n",
    "        "
   ]
  },
  {
   "cell_type": "code",
   "execution_count": 38,
   "metadata": {},
   "outputs": [
    {
     "name": "stdout",
     "output_type": "stream",
     "text": [
      "ID is:  123\n",
      "Name is:  Ali\n",
      "GPA is:  4\n"
     ]
    },
    {
     "data": {
      "text/plain": [
       "'No Risk'"
      ]
     },
     "execution_count": 38,
     "metadata": {},
     "output_type": "execute_result"
    }
   ],
   "source": [
    "s1 = Student(\"123\", \"Ali\", 4)\n",
    "s1.DisplayInfo()\n",
    "s1.AtRisk()"
   ]
  },
  {
   "cell_type": "code",
   "execution_count": 25,
   "metadata": {},
   "outputs": [
    {
     "name": "stdout",
     "output_type": "stream",
     "text": [
      "ID is:  234\n",
      "Name is:  Ahmed\n",
      "GPA is:  1.9\n"
     ]
    },
    {
     "data": {
      "text/plain": [
       "'At Risk'"
      ]
     },
     "execution_count": 25,
     "metadata": {},
     "output_type": "execute_result"
    }
   ],
   "source": [
    "s2 = Student(\"234\",\"Ahmed\",1.9)\n",
    "s2.DisplayInfo()\n",
    "s2.AtRisk()"
   ]
  },
  {
   "cell_type": "markdown",
   "metadata": {},
   "source": [
    "# Rectangle"
   ]
  },
  {
   "cell_type": "code",
   "execution_count": 48,
   "metadata": {},
   "outputs": [],
   "source": [
    "class Rect:\n",
    "    def __init__(self, width1, height1):\n",
    "        assert width1 > 0,  \"Errot Width should be greater than 0\"\n",
    "        assert height1 > 0,  \"Errot Height should be greater than 0\"\n",
    "        self.Height = height1\n",
    "        self.Width = width1\n",
    "    def Display(self):\n",
    "        print (\"H = \", self.Height)\n",
    "        print (\"W = \", self.Width)\n",
    "    def Area(self):\n",
    "        a = self.Height *self.Width\n",
    "        return a\n",
    "    def Cercumf (self):\n",
    "        return (2 *(self.Height + self.Width))\n",
    "\n",
    "\n",
    "        "
   ]
  },
  {
   "cell_type": "code",
   "execution_count": 49,
   "metadata": {},
   "outputs": [
    {
     "name": "stdout",
     "output_type": "stream",
     "text": [
      "H =  2\n",
      "W =  4\n"
     ]
    },
    {
     "data": {
      "text/plain": [
       "8"
      ]
     },
     "execution_count": 49,
     "metadata": {},
     "output_type": "execute_result"
    }
   ],
   "source": [
    "r = Rect(4,2)\n",
    "r.Display()\n",
    "x = r.Area()\n",
    "x"
   ]
  },
  {
   "cell_type": "code",
   "execution_count": 50,
   "metadata": {},
   "outputs": [
    {
     "data": {
      "text/plain": [
       "12"
      ]
     },
     "execution_count": 50,
     "metadata": {},
     "output_type": "execute_result"
    }
   ],
   "source": [
    "x = r.Cercumf()\n",
    "x"
   ]
  }
 ],
 "metadata": {
  "kernelspec": {
   "display_name": "Python 3",
   "language": "python",
   "name": "python3"
  },
  "language_info": {
   "codemirror_mode": {
    "name": "ipython",
    "version": 3
   },
   "file_extension": ".py",
   "mimetype": "text/x-python",
   "name": "python",
   "nbconvert_exporter": "python",
   "pygments_lexer": "ipython3",
   "version": "3.10.13"
  }
 },
 "nbformat": 4,
 "nbformat_minor": 2
}
